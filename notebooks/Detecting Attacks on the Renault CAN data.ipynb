{
  "cells": [
    {
      "cell_type": "markdown",
      "metadata": {
        "id": "view-in-github",
        "colab_type": "text"
      },
      "source": [
        "<a href=\"https://colab.research.google.com/github/akin-oladejo/can-anomaly-detection-v2/blob/main/Detecting%20Attacks%20on%20the%20Renault%20CAN%20data.ipynb\" target=\"_parent\"><img src=\"https://colab.research.google.com/assets/colab-badge.svg\" alt=\"Open In Colab\"/></a>"
      ]
    },
    {
      "cell_type": "markdown",
      "metadata": {
        "id": "GEjqQciJKJKW"
      },
      "source": [
        "# Detecting Attacks on CAN Data"
      ]
    },
    {
      "cell_type": "markdown",
      "metadata": {
        "id": "AU9zVsEZSiZQ"
      },
      "source": [
        "## The Task\n",
        "The Controller Area Network (CAN) is currently the most widely-used in-vehicle networking protocol. It is a bi-directional, multi-master, serial bus that uses UTP cabling to ensure reliability in electromagnetically noisy environments. Several devices in modern vehicles communicate with each other using the CAN protocol. Some of these devices are connected to the internet, allowing external attacks in various forms such as Replay, Spoofing, Denial of Service (DOS) and so on. In this project, different methods will be employed to detect attacks on the CAN.  \n",
        "\n",
        "The methods are:\n",
        "1. Frequency-based detection\n",
        "2. Tree-based detection i.e. Isolation Forest\n",
        "3. Anomaly detection using the latent representation of normal data i.e. autoencoders\n",
        "\n",
        "Frequency-based detection is a heuristic approach; Isolation forest is a standard machine learning algorithm; the Autoencoder is a deep learning solution.\n",
        "\n"
      ]
    },
    {
      "cell_type": "code",
      "execution_count": 1,
      "metadata": {
        "id": "9FAE4BqEREZu"
      },
      "outputs": [],
      "source": [
        "# Import libraries that will enable us perform this task\n",
        "\n",
        "# data analysis libs\n",
        "import pandas as pd\n",
        "import numpy as np\n",
        "\n",
        "# visualization libs\n",
        "import matplotlib.pyplot as plt\n",
        "%matplotlib inline\n",
        "import seaborn as sns\n",
        "\n",
        "# Machine learning libs\n",
        "from sklearn.preprocessing import StandardScaler\n",
        "from sklearn.metrics import classification_report, f1_score\n",
        "from sklearn.neighbors import LocalOutlierFactor\n",
        "import torch as T\n",
        "\n",
        "# utils\n",
        "from dataclasses import dataclass\n",
        "import joblib\n",
        "from tqdm import tqdm\n",
        "from collections import Counter\n",
        "import json\n",
        "import warnings\n",
        "from datetime import timedelta"
      ]
    },
    {
      "cell_type": "code",
      "execution_count": 2,
      "metadata": {
        "id": "2JqhFAR2-HAJ",
        "outputId": "7e45cfd2-1802-4711-a48e-8d7b342d810a",
        "colab": {
          "base_uri": "https://localhost:8080/"
        }
      },
      "outputs": [
        {
          "output_type": "execute_result",
          "data": {
            "text/plain": [
              "<torch._C.Generator at 0x7c5b06f5e7d0>"
            ]
          },
          "metadata": {},
          "execution_count": 2
        }
      ],
      "source": [
        "# config\n",
        "pd.set_option('display.max_rows', 500)\n",
        "pd.set_option('display.max_columns', 500)\n",
        "pd.set_option('display.width', 1000)\n",
        "warnings.filterwarnings('ignore')\n",
        "\n",
        "# seed for PRNG's\n",
        "rs = 42\n",
        "np.random.seed(rs)\n",
        "T.manual_seed(rs)"
      ]
    },
    {
      "cell_type": "markdown",
      "metadata": {
        "id": "8y3qIvlkp1w_"
      },
      "source": [
        "## The Dataset\n",
        "The dataset used in this project is the **Automotive Controller Area Network (CAN) Bus Intrusion Dataset v2**. It can be found [here](https://figshare.com/articles/dataset/Automotive_Controller_Area_Network_CAN_Bus_Intrusion_Dataset/12696950). This dataset contains automotive Controller Area Network (CAN) bus data from three systems: two cars (Opel Astra and Renault Clio) and from a CAN bus prototype made by the authors of the dataset. Its purpose is to evaluate CAN bus Network Intrusion Detection Systems (NIDS). For each vehicle/system, there is a collection of log files captured from its CAN bus: normal (attack-free) data for training and testing detection algorithms, and different CAN bus attacks (Diagnostic, Fuzzing attacks, Replay attack, Suspension attack and Denial-of-Service attack).\n",
        "\n",
        "For this project, I used data from the Renault Clio. The description of the different logs and attacks can be found in ../RenaultClio/README.md"
      ]
    },
    {
      "cell_type": "markdown",
      "metadata": {
        "id": "7p-rPAEBI63D"
      },
      "source": [
        "## Preprocessing the datasets\n",
        "For the analysis of the data that drives the following preprocessing steps, check the analysis notebook in the same directory as this notebook.\n",
        "It will be helpful to define all the functionality we need for the different approaches in a utility class, `CANUtils`.\n",
        "\n"
      ]
    },
    {
      "cell_type": "code",
      "source": [
        "# uncomment outside of colab\n",
        "from google.colab import drive\n",
        "drive.mount('/content/drive')\n",
        "data_path = '/content/drive/MyDrive/datasets/road_data'"
      ],
      "metadata": {
        "id": "TGO5HM147ext",
        "outputId": "e3813034-4249-4662-8672-eb476a6a3f6d",
        "colab": {
          "base_uri": "https://localhost:8080/"
        }
      },
      "execution_count": 4,
      "outputs": [
        {
          "output_type": "stream",
          "name": "stdout",
          "text": [
            "Mounted at /content/drive\n"
          ]
        }
      ]
    },
    {
      "cell_type": "code",
      "execution_count": 5,
      "metadata": {
        "id": "JnB7ZsmU7NJ6",
        "outputId": "d1994899-b440-4369-bac2-9c3b65639441",
        "colab": {
          "base_uri": "https://localhost:8080/"
        }
      },
      "outputs": [
        {
          "output_type": "execute_result",
          "data": {
            "text/plain": [
              "dict_keys(['train', 'test', 'validation'])"
            ]
          },
          "metadata": {},
          "execution_count": 5
        }
      ],
      "source": [
        "# store the locations of the datasets\n",
        "# data_path = 'data'\n",
        "with open(f'../{data_path}/metadata.json', 'r') as f:\n",
        "    dataset = json.load(f)\n",
        "\n",
        "dataset.keys() # print keys"
      ]
    },
    {
      "cell_type": "code",
      "execution_count": 6,
      "metadata": {
        "id": "ylXrPuAr7NJ6",
        "outputId": "a5fdddb7-0bbe-4046-b951-1d361619298f",
        "colab": {
          "base_uri": "https://localhost:8080/"
        }
      },
      "outputs": [
        {
          "output_type": "execute_result",
          "data": {
            "text/plain": [
              "dict_keys(['correlated_signal_attack', 'fuzzing_attack', 'max_speedometer_attack', 'reverse_light_off_attack', 'reverse_light_on_attack'])"
            ]
          },
          "metadata": {},
          "execution_count": 6
        }
      ],
      "source": [
        "# view attacks in test folder\n",
        "dataset['test'].keys()"
      ]
    },
    {
      "cell_type": "code",
      "execution_count": 7,
      "metadata": {
        "id": "y38l1BxH7NJ6",
        "colab": {
          "base_uri": "https://localhost:8080/"
        },
        "outputId": "f1cc4da9-12f6-47a7-9b2f-37b20ca2b39f"
      },
      "outputs": [
        {
          "output_type": "execute_result",
          "data": {
            "text/plain": [
              "dict_keys(['correlated_signal_attack', 'fuzzing_attack', 'max_speedometer_attack', 'reverse_light_off_attack', 'reverse_light_on_attack'])"
            ]
          },
          "metadata": {},
          "execution_count": 7
        }
      ],
      "source": [
        "# view attacks in validation folder\n",
        "dataset['validation'].keys()"
      ]
    },
    {
      "cell_type": "code",
      "execution_count": 9,
      "metadata": {
        "id": "EJTm0SmS7NJ7"
      },
      "outputs": [],
      "source": [
        "class ArbitrationEncoder():\n",
        "    \"\"\"\n",
        "    Convert arbitration Id's into floats and normalize them. During transformation,\n",
        "    previously unseen id's are stored using an unknown_value parameter that is either\n",
        "    passed during instantiation or calculated as the negative of the number of unique valid ID's\n",
        "\n",
        "    Example\n",
        "    =======\n",
        "    >>> enc = ArbitrationEncoder(unknown_value = -150)\n",
        "    >>> enc.fit(df['arbitration_id'])\n",
        "    >>> enc.transform(test_df['arbitration_id'])\n",
        "    \"\"\"\n",
        "    def __init__(self, unknown_value:int|None=None):\n",
        "        self.valid_ids = {}\n",
        "        self.unknown_value = unknown_value if unknown_value else None\n",
        "\n",
        "    @np.vectorize\n",
        "    def make_float(self, val):\n",
        "        \"\"\"Convert hex to float\"\"\"\n",
        "        return float(int(val, base=16)) # convert to float\n",
        "\n",
        "    def fit(self, train_ids):\n",
        "        \"\"\"\n",
        "        Determine the unique elements, standard deviation and mean of the input array.\n",
        "        Also, calculate default value for unseen ID's if not passed at instantiation\n",
        "        \"\"\"\n",
        "        # if isinstance(train_ids, pd.DataFrame):\n",
        "        #     train_ids = arr.values\n",
        "        self.valid_ids = set(train_ids) # get unique train id's\n",
        "        self.converted_valid_ids = self.make_float(self,train_ids)\n",
        "        self.std = np.std(self.converted_valid_ids) # calculate std\n",
        "        self.mean = np.mean(self.converted_valid_ids) # calculate mean\n",
        "        if not self.unknown_value:\n",
        "            self.unknown_value = -(len(self.valid_ids))\n",
        "\n",
        "    @np.vectorize\n",
        "    def convert_and_scale(self, val):\n",
        "        \"\"\"\n",
        "        Normalize array (compute the z-score). Note that all previously unseen values have the\n",
        "        same transformation since `unknown_value` is a constant.\n",
        "        \"\"\"\n",
        "        if not val in self.valid_ids:\n",
        "            return (self.unknown_value - self.mean)/self.std\n",
        "        else:\n",
        "            converted_id = self.make_float(self, val) # convert from hex to float\n",
        "            return (converted_id - self.mean)/self.std #return z score\n",
        "\n",
        "    def transform(self, arr):\n",
        "        \"\"\"\n",
        "        Transform array after running the `fit()` method\n",
        "        \"\"\"\n",
        "        return self.convert_and_scale(self, arr)\n",
        "\n",
        "    def fit_transform(self, arr):\n",
        "        self.fit(arr)\n",
        "        return self.transform(arr)"
      ]
    },
    {
      "cell_type": "code",
      "execution_count": 33,
      "metadata": {
        "id": "LnXHvuxX5Pr_"
      },
      "outputs": [],
      "source": [
        "# define preprocessor class\n",
        "class CANPrep():\n",
        "    def __init__(self,\n",
        "                 *,\n",
        "                 dataset_path:str = data_path,\n",
        "                 load_attack_from:str,\n",
        "                 add_interval_feature:bool = True\n",
        "                ):\n",
        "        \"\"\"\n",
        "        Load and preprocess datasets; load standard scaler and one-hot encoder\n",
        "\n",
        "        Parameters\n",
        "        ========\n",
        "        dataset_path: str. Path to the dataset\n",
        "        load_attack_from: str. Possible values are {'train', 'test', 'validation'}\n",
        "        \"\"\"\n",
        "        # to avoid wasting time, if load_attack_from argument is wrong, raise error\n",
        "        if load_attack_from not in ['test', 'validation']:\n",
        "            raise ValueError(\"Valid arguments for 'load_attack_from' parameter are 'test' and 'validation'\")\n",
        "\n",
        "        self.dataset_path = dataset_path\n",
        "        self.message_scaler = StandardScaler()\n",
        "        self.arbitration_encoder = ArbitrationEncoder()\n",
        "        self.load_attack_from = load_attack_from\n",
        "\n",
        "        # create a boolean and scaler for the interval feature if `add_interval_feature` == True\n",
        "        if add_interval_feature:\n",
        "            self.add_interval_feature = add_interval_feature\n",
        "            self.interval_scaler = StandardScaler()\n",
        "\n",
        "        # load and preprocess train dataset\n",
        "        train_path = dataset['train']['path']\n",
        "        self.train = self.load_csv(train_path, is_train=True) # generate train dataset\n",
        "\n",
        "        # load and preprocess attack datasets, generate temporary labels of 0 for attack and normal data\n",
        "        self.correlated_signal_attack_X, self.correlated_signal_attack_y = self.load_csv(dataset[self.load_attack_from]['correlated_signal_attack']['path'])\n",
        "        self.fuzzing_attack_X, self.fuzzing_attack_y = self.load_csv(dataset[self.load_attack_from]['fuzzing_attack']['path'])\n",
        "        self.max_speedometer_attack_X, self.max_speedometer_attack_y = self.load_csv(dataset[self.load_attack_from]['max_speedometer_attack']['path'])\n",
        "        self.reverse_light_off_attack_X, self.reverse_light_off_attack_y = self.load_csv(dataset[self.load_attack_from]['reverse_light_off_attack']['path'])\n",
        "        self.reverse_light_on_attack_X, self.reverse_light_on_attack_y = self.load_csv(dataset[self.load_attack_from]['reverse_light_on_attack']['path'])\n",
        "\n",
        "        # finally, label attack data\n",
        "        self.label_all_attacks()\n",
        "\n",
        "    def load_csv(self, file_path:str, is_train:bool = False)->tuple|pd.DataFrame:\n",
        "        \"\"\"Read csv into dataframe and add headers\"\"\"\n",
        "        df = pd.read_csv(data_path+file_path,\n",
        "                         delimiter=' ',\n",
        "                         names=['timestamp', '_', 'id_and_message'])\n",
        "\n",
        "        return self.prep(df, is_train) # preprocess the df for model building\n",
        "\n",
        "    def prep(self, df, is_train)->tuple|pd.DataFrame:\n",
        "        \"\"\"\n",
        "        Encode categorical and Numeric features; scale numeric features;\n",
        "        parse timestamp\n",
        "        \"\"\"\n",
        "        id_and_message = df['id_and_message'].str.split('#', expand=True)\n",
        "\n",
        "        # extract arbitration ID\n",
        "        arbit_id = id_and_message[0].values # extract the arbitration ID\n",
        "\n",
        "        # extract CAN packet data, convert to float and scale\n",
        "        message = id_and_message[1].apply(lambda x: ' '.join(x[i:i+2] for i in range(0, len(x), 2))) # space out\n",
        "        message = message.str.split(' ', expand=True) # split message into 8 features\n",
        "        message.fillna('00', inplace=True) # pad short messages with 00 to make 8 features\n",
        "        message = message.apply(lambda x : x.astype(str).map(lambda x : float(int(x, base=16)))) # convert hex values to float\n",
        "\n",
        "        timesteps = df['timestamp'].apply(lambda x: x.strip('()')).astype('float').values # strip parentheses, parse to float\n",
        "        if self.add_interval_feature:\n",
        "            # shift the timesteps by one element and pad it at the end with the last value so a difference can be calculated\n",
        "            shifted_timesteps = np.append(timesteps[1:], timesteps[-1])\n",
        "            interval = (shifted_timesteps - timesteps).reshape(-1, 1) # add interval feature\n",
        "\n",
        "        # parse the timestamp to datetime for use as an index\n",
        "        time_index = pd.Series(pd.to_datetime(timesteps, unit='s'), name='timestamp') # convert epoch to datetime\n",
        "\n",
        "        if is_train:\n",
        "            # if this is train data, fit the encoders before transforming data\n",
        "            arbit_id = self.arbitration_encoder.fit_transform(arbit_id) # fit and transform the arbitration_id in the train data\n",
        "            message = self.message_scaler.fit_transform(message) # fit and transform `message` features\n",
        "            if self.add_interval_feature:\n",
        "                # fit_transform interval; concatenate message, interval and id\n",
        "                interval = self.interval_scaler.fit_transform(interval)\n",
        "                data = pd.concat([pd.DataFrame(message), pd.DataFrame(interval), pd.DataFrame(arbit_id)], axis=1).set_index(time_index)\n",
        "            else:\n",
        "                # concatenate message and id only\n",
        "                data = pd.concat([pd.DataFrame(message), pd.DataFrame(arbit_id)], axis=1).set_index(time_index)\n",
        "\n",
        "            # return train data only as there are no labels\n",
        "            return data\n",
        "\n",
        "        else:\n",
        "            # if this is not train data, only transform the data. do not fit encoders\n",
        "            arbit_id = self.arbitration_encoder.transform(arbit_id)\n",
        "            message = self.message_scaler.transform(message)\n",
        "            if self.add_interval_feature:\n",
        "                # transform interval; concatenate message,interval and id\n",
        "                interval = self.interval_scaler.transform(interval)\n",
        "                data = pd.concat([pd.DataFrame(message), pd.DataFrame(interval), pd.DataFrame(arbit_id)], axis=1).set_index(time_index)\n",
        "            else:\n",
        "                # concatenate message and id only\n",
        "                data = pd.concat([pd.DataFrame(message), pd.DataFrame(arbit_id)], axis=1).set_index(time_index)\n",
        "\n",
        "            # `is_train` being False means this is an attack dataset, thus generate a temporary label series with all values being 0.\n",
        "            # Attack timestamps in the label will be changed to 1 by the label_attack() method\n",
        "            dummy_label = pd.Series(np.zeros(data.shape[0], dtype='int'), index=data.index)\n",
        "            return data, dummy_label\n",
        "\n",
        "\n",
        "    def ct(self, ts):\n",
        "        \"\"\"convert epoch timestamp to datetime object\"\"\"\n",
        "        return pd.to_datetime(ts, unit='s')\n",
        "\n",
        "\n",
        "    def label_attack(self, attack_data, attack_name:str):\n",
        "        \"\"\"\n",
        "        Obtain the attack interval bounds from the metadata.json file and convert to datetime\n",
        "\n",
        "        Parameters\n",
        "        ==========\n",
        "        attack_data: pd.Series. The temporary label to update\n",
        "        attack_name: str. The name of the attack data so it can be searched up in the metadata file\n",
        "        \"\"\"\n",
        "        # get attack interval in seconds\n",
        "        attack_start_s, attack_stop_s = dataset[self.load_attack_from][attack_name]['injection_interval'] # interval bound\n",
        "\n",
        "        # get start time in seconds\n",
        "        record_start = attack_data.index[0]\n",
        "\n",
        "        # label interval in timestamps by calculating the attack interval\n",
        "        attack_start_t = record_start + timedelta(seconds=attack_start_s)\n",
        "        attack_stop_t = record_start + timedelta(seconds=attack_stop_s)\n",
        "\n",
        "        attack_data.loc[attack_start_t:attack_stop_t]=1 # replace 0's with 1's\n",
        "\n",
        "        return attack_data\n",
        "\n",
        "\n",
        "    def label_all_attacks(self):\n",
        "        \"\"\"Label attack timestamps in the attack datasets using the intervals provided in the metadata.json\"\"\"\n",
        "        self.correlated_signal_attack_y = self.label_attack(self.correlated_signal_attack_y, 'correlated_signal_attack')\n",
        "        self.fuzzing_attack_y = self.label_attack(self.fuzzing_attack_y, 'fuzzing_attack')\n",
        "        self.max_speedometer_attack_y = self.label_attack(self.max_speedometer_attack_y, 'max_speedometer_attack')\n",
        "        self.reverse_light_off_attack_y = self.label_attack(self.reverse_light_off_attack_y, 'reverse_light_off_attack')\n",
        "        self.reverse_light_on_attack_y = self.label_attack(self.reverse_light_on_attack_y, 'reverse_light_on_attack')"
      ]
    },
    {
      "cell_type": "code",
      "execution_count": 34,
      "metadata": {
        "id": "Sucg5if57NJ-"
      },
      "outputs": [],
      "source": [
        "road_dset = CANPrep(load_attack_from='test')"
      ]
    },
    {
      "cell_type": "code",
      "execution_count": null,
      "metadata": {
        "id": "sL5T_wct7NJ_",
        "outputId": "e1800fd6-016a-465a-8ef8-fa2a9028319b",
        "colab": {
          "base_uri": "https://localhost:8080/",
          "height": 174
        }
      },
      "outputs": [
        {
          "output_type": "execute_result",
          "data": {
            "text/plain": [
              "                                      0         1         2         3         4         5         6         7         0         0\n",
              "timestamp                                                                                                                        \n",
              "2002-08-22 07:06:40.000000000 -0.742562 -0.693366 -0.721381 -0.726897  2.262620 -0.501874  2.015894  1.644356 -0.664669 -0.621172\n",
              "2002-08-22 07:06:40.000002048 -0.742562 -0.584288  2.388608 -0.275816 -0.762142 -0.153693  0.841268  1.069590 -0.666383 -0.813723\n",
              "2002-08-22 07:06:40.000002944 -0.742562 -0.802445 -0.721381 -0.764487 -0.775124 -0.729530 -0.850194 -0.929597 -0.666192  3.230873"
            ],
            "text/html": [
              "\n",
              "  <div id=\"df-4691265d-3cce-4d4e-bbfb-d3e31513b384\" class=\"colab-df-container\">\n",
              "    <div>\n",
              "<style scoped>\n",
              "    .dataframe tbody tr th:only-of-type {\n",
              "        vertical-align: middle;\n",
              "    }\n",
              "\n",
              "    .dataframe tbody tr th {\n",
              "        vertical-align: top;\n",
              "    }\n",
              "\n",
              "    .dataframe thead th {\n",
              "        text-align: right;\n",
              "    }\n",
              "</style>\n",
              "<table border=\"1\" class=\"dataframe\">\n",
              "  <thead>\n",
              "    <tr style=\"text-align: right;\">\n",
              "      <th></th>\n",
              "      <th>0</th>\n",
              "      <th>1</th>\n",
              "      <th>2</th>\n",
              "      <th>3</th>\n",
              "      <th>4</th>\n",
              "      <th>5</th>\n",
              "      <th>6</th>\n",
              "      <th>7</th>\n",
              "      <th>0</th>\n",
              "      <th>0</th>\n",
              "    </tr>\n",
              "    <tr>\n",
              "      <th>timestamp</th>\n",
              "      <th></th>\n",
              "      <th></th>\n",
              "      <th></th>\n",
              "      <th></th>\n",
              "      <th></th>\n",
              "      <th></th>\n",
              "      <th></th>\n",
              "      <th></th>\n",
              "      <th></th>\n",
              "      <th></th>\n",
              "    </tr>\n",
              "  </thead>\n",
              "  <tbody>\n",
              "    <tr>\n",
              "      <th>2002-08-22 07:06:40.000000000</th>\n",
              "      <td>-0.742562</td>\n",
              "      <td>-0.693366</td>\n",
              "      <td>-0.721381</td>\n",
              "      <td>-0.726897</td>\n",
              "      <td>2.262620</td>\n",
              "      <td>-0.501874</td>\n",
              "      <td>2.015894</td>\n",
              "      <td>1.644356</td>\n",
              "      <td>-0.664669</td>\n",
              "      <td>-0.621172</td>\n",
              "    </tr>\n",
              "    <tr>\n",
              "      <th>2002-08-22 07:06:40.000002048</th>\n",
              "      <td>-0.742562</td>\n",
              "      <td>-0.584288</td>\n",
              "      <td>2.388608</td>\n",
              "      <td>-0.275816</td>\n",
              "      <td>-0.762142</td>\n",
              "      <td>-0.153693</td>\n",
              "      <td>0.841268</td>\n",
              "      <td>1.069590</td>\n",
              "      <td>-0.666383</td>\n",
              "      <td>-0.813723</td>\n",
              "    </tr>\n",
              "    <tr>\n",
              "      <th>2002-08-22 07:06:40.000002944</th>\n",
              "      <td>-0.742562</td>\n",
              "      <td>-0.802445</td>\n",
              "      <td>-0.721381</td>\n",
              "      <td>-0.764487</td>\n",
              "      <td>-0.775124</td>\n",
              "      <td>-0.729530</td>\n",
              "      <td>-0.850194</td>\n",
              "      <td>-0.929597</td>\n",
              "      <td>-0.666192</td>\n",
              "      <td>3.230873</td>\n",
              "    </tr>\n",
              "  </tbody>\n",
              "</table>\n",
              "</div>\n",
              "    <div class=\"colab-df-buttons\">\n",
              "\n",
              "  <div class=\"colab-df-container\">\n",
              "    <button class=\"colab-df-convert\" onclick=\"convertToInteractive('df-4691265d-3cce-4d4e-bbfb-d3e31513b384')\"\n",
              "            title=\"Convert this dataframe to an interactive table.\"\n",
              "            style=\"display:none;\">\n",
              "\n",
              "  <svg xmlns=\"http://www.w3.org/2000/svg\" height=\"24px\" viewBox=\"0 -960 960 960\">\n",
              "    <path d=\"M120-120v-720h720v720H120Zm60-500h600v-160H180v160Zm220 220h160v-160H400v160Zm0 220h160v-160H400v160ZM180-400h160v-160H180v160Zm440 0h160v-160H620v160ZM180-180h160v-160H180v160Zm440 0h160v-160H620v160Z\"/>\n",
              "  </svg>\n",
              "    </button>\n",
              "\n",
              "  <style>\n",
              "    .colab-df-container {\n",
              "      display:flex;\n",
              "      gap: 12px;\n",
              "    }\n",
              "\n",
              "    .colab-df-convert {\n",
              "      background-color: #E8F0FE;\n",
              "      border: none;\n",
              "      border-radius: 50%;\n",
              "      cursor: pointer;\n",
              "      display: none;\n",
              "      fill: #1967D2;\n",
              "      height: 32px;\n",
              "      padding: 0 0 0 0;\n",
              "      width: 32px;\n",
              "    }\n",
              "\n",
              "    .colab-df-convert:hover {\n",
              "      background-color: #E2EBFA;\n",
              "      box-shadow: 0px 1px 2px rgba(60, 64, 67, 0.3), 0px 1px 3px 1px rgba(60, 64, 67, 0.15);\n",
              "      fill: #174EA6;\n",
              "    }\n",
              "\n",
              "    .colab-df-buttons div {\n",
              "      margin-bottom: 4px;\n",
              "    }\n",
              "\n",
              "    [theme=dark] .colab-df-convert {\n",
              "      background-color: #3B4455;\n",
              "      fill: #D2E3FC;\n",
              "    }\n",
              "\n",
              "    [theme=dark] .colab-df-convert:hover {\n",
              "      background-color: #434B5C;\n",
              "      box-shadow: 0px 1px 3px 1px rgba(0, 0, 0, 0.15);\n",
              "      filter: drop-shadow(0px 1px 2px rgba(0, 0, 0, 0.3));\n",
              "      fill: #FFFFFF;\n",
              "    }\n",
              "  </style>\n",
              "\n",
              "    <script>\n",
              "      const buttonEl =\n",
              "        document.querySelector('#df-4691265d-3cce-4d4e-bbfb-d3e31513b384 button.colab-df-convert');\n",
              "      buttonEl.style.display =\n",
              "        google.colab.kernel.accessAllowed ? 'block' : 'none';\n",
              "\n",
              "      async function convertToInteractive(key) {\n",
              "        const element = document.querySelector('#df-4691265d-3cce-4d4e-bbfb-d3e31513b384');\n",
              "        const dataTable =\n",
              "          await google.colab.kernel.invokeFunction('convertToInteractive',\n",
              "                                                    [key], {});\n",
              "        if (!dataTable) return;\n",
              "\n",
              "        const docLinkHtml = 'Like what you see? Visit the ' +\n",
              "          '<a target=\"_blank\" href=https://colab.research.google.com/notebooks/data_table.ipynb>data table notebook</a>'\n",
              "          + ' to learn more about interactive tables.';\n",
              "        element.innerHTML = '';\n",
              "        dataTable['output_type'] = 'display_data';\n",
              "        await google.colab.output.renderOutput(dataTable, element);\n",
              "        const docLink = document.createElement('div');\n",
              "        docLink.innerHTML = docLinkHtml;\n",
              "        element.appendChild(docLink);\n",
              "      }\n",
              "    </script>\n",
              "  </div>\n",
              "\n",
              "\n",
              "<div id=\"df-c4ae9aaf-287c-4dd9-9313-afcb3ac51fb7\">\n",
              "  <button class=\"colab-df-quickchart\" onclick=\"quickchart('df-c4ae9aaf-287c-4dd9-9313-afcb3ac51fb7')\"\n",
              "            title=\"Suggest charts.\"\n",
              "            style=\"display:none;\">\n",
              "\n",
              "<svg xmlns=\"http://www.w3.org/2000/svg\" height=\"24px\"viewBox=\"0 0 24 24\"\n",
              "     width=\"24px\">\n",
              "    <g>\n",
              "        <path d=\"M19 3H5c-1.1 0-2 .9-2 2v14c0 1.1.9 2 2 2h14c1.1 0 2-.9 2-2V5c0-1.1-.9-2-2-2zM9 17H7v-7h2v7zm4 0h-2V7h2v10zm4 0h-2v-4h2v4z\"/>\n",
              "    </g>\n",
              "</svg>\n",
              "  </button>\n",
              "\n",
              "<style>\n",
              "  .colab-df-quickchart {\n",
              "    background-color: #E8F0FE;\n",
              "    border: none;\n",
              "    border-radius: 50%;\n",
              "    cursor: pointer;\n",
              "    display: none;\n",
              "    fill: #1967D2;\n",
              "    height: 32px;\n",
              "    padding: 0 0 0 0;\n",
              "    width: 32px;\n",
              "  }\n",
              "\n",
              "  .colab-df-quickchart:hover {\n",
              "    background-color: #E2EBFA;\n",
              "    box-shadow: 0px 1px 2px rgba(60, 64, 67, 0.3), 0px 1px 3px 1px rgba(60, 64, 67, 0.15);\n",
              "    fill: #174EA6;\n",
              "  }\n",
              "\n",
              "  [theme=dark] .colab-df-quickchart {\n",
              "    background-color: #3B4455;\n",
              "    fill: #D2E3FC;\n",
              "  }\n",
              "\n",
              "  [theme=dark] .colab-df-quickchart:hover {\n",
              "    background-color: #434B5C;\n",
              "    box-shadow: 0px 1px 3px 1px rgba(0, 0, 0, 0.15);\n",
              "    filter: drop-shadow(0px 1px 2px rgba(0, 0, 0, 0.3));\n",
              "    fill: #FFFFFF;\n",
              "  }\n",
              "</style>\n",
              "\n",
              "  <script>\n",
              "    async function quickchart(key) {\n",
              "      const charts = await google.colab.kernel.invokeFunction(\n",
              "          'suggestCharts', [key], {});\n",
              "    }\n",
              "    (() => {\n",
              "      let quickchartButtonEl =\n",
              "        document.querySelector('#df-c4ae9aaf-287c-4dd9-9313-afcb3ac51fb7 button');\n",
              "      quickchartButtonEl.style.display =\n",
              "        google.colab.kernel.accessAllowed ? 'block' : 'none';\n",
              "    })();\n",
              "  </script>\n",
              "</div>\n",
              "    </div>\n",
              "  </div>\n"
            ]
          },
          "metadata": {},
          "execution_count": 43
        }
      ],
      "source": [
        "road_dset.train.head(3)"
      ]
    },
    {
      "cell_type": "code",
      "execution_count": 42,
      "metadata": {
        "id": "3adE1rgd7NJ_",
        "outputId": "46ce7188-1789-4a4d-ac1d-13b5d7bc5e4c",
        "colab": {
          "base_uri": "https://localhost:8080/",
          "height": 227
        }
      },
      "outputs": [
        {
          "output_type": "execute_result",
          "data": {
            "text/plain": [
              "                                      0         1         2         3         4         5         6         7         0         0\n",
              "timestamp                                                                                                                        \n",
              "2008-12-23 02:40:00.000000000 -0.742562 -0.802445 -0.721381 -0.764487 -0.775124 -0.729530 -0.850194 -0.929597 -0.666383  3.230873\n",
              "2008-12-23 02:40:00.000001024  1.361875 -0.802445 -0.323302 -0.764487  2.483310  0.984589 -0.850194 -0.917102 -0.666383  0.225228\n",
              "2008-12-23 02:40:00.000001792  1.218391  0.356514 -0.335742  1.591158  0.626911  0.020397 -0.368597 -0.354831 -0.666002  0.003846"
            ],
            "text/html": [
              "\n",
              "  <div id=\"df-395873f7-7d9e-42fb-a630-99c7df6fd5d1\" class=\"colab-df-container\">\n",
              "    <div>\n",
              "<style scoped>\n",
              "    .dataframe tbody tr th:only-of-type {\n",
              "        vertical-align: middle;\n",
              "    }\n",
              "\n",
              "    .dataframe tbody tr th {\n",
              "        vertical-align: top;\n",
              "    }\n",
              "\n",
              "    .dataframe thead th {\n",
              "        text-align: right;\n",
              "    }\n",
              "</style>\n",
              "<table border=\"1\" class=\"dataframe\">\n",
              "  <thead>\n",
              "    <tr style=\"text-align: right;\">\n",
              "      <th></th>\n",
              "      <th>0</th>\n",
              "      <th>1</th>\n",
              "      <th>2</th>\n",
              "      <th>3</th>\n",
              "      <th>4</th>\n",
              "      <th>5</th>\n",
              "      <th>6</th>\n",
              "      <th>7</th>\n",
              "      <th>0</th>\n",
              "      <th>0</th>\n",
              "    </tr>\n",
              "    <tr>\n",
              "      <th>timestamp</th>\n",
              "      <th></th>\n",
              "      <th></th>\n",
              "      <th></th>\n",
              "      <th></th>\n",
              "      <th></th>\n",
              "      <th></th>\n",
              "      <th></th>\n",
              "      <th></th>\n",
              "      <th></th>\n",
              "      <th></th>\n",
              "    </tr>\n",
              "  </thead>\n",
              "  <tbody>\n",
              "    <tr>\n",
              "      <th>2008-12-23 02:40:00.000000000</th>\n",
              "      <td>-0.742562</td>\n",
              "      <td>-0.802445</td>\n",
              "      <td>-0.721381</td>\n",
              "      <td>-0.764487</td>\n",
              "      <td>-0.775124</td>\n",
              "      <td>-0.729530</td>\n",
              "      <td>-0.850194</td>\n",
              "      <td>-0.929597</td>\n",
              "      <td>-0.666383</td>\n",
              "      <td>3.230873</td>\n",
              "    </tr>\n",
              "    <tr>\n",
              "      <th>2008-12-23 02:40:00.000001024</th>\n",
              "      <td>1.361875</td>\n",
              "      <td>-0.802445</td>\n",
              "      <td>-0.323302</td>\n",
              "      <td>-0.764487</td>\n",
              "      <td>2.483310</td>\n",
              "      <td>0.984589</td>\n",
              "      <td>-0.850194</td>\n",
              "      <td>-0.917102</td>\n",
              "      <td>-0.666383</td>\n",
              "      <td>0.225228</td>\n",
              "    </tr>\n",
              "    <tr>\n",
              "      <th>2008-12-23 02:40:00.000001792</th>\n",
              "      <td>1.218391</td>\n",
              "      <td>0.356514</td>\n",
              "      <td>-0.335742</td>\n",
              "      <td>1.591158</td>\n",
              "      <td>0.626911</td>\n",
              "      <td>0.020397</td>\n",
              "      <td>-0.368597</td>\n",
              "      <td>-0.354831</td>\n",
              "      <td>-0.666002</td>\n",
              "      <td>0.003846</td>\n",
              "    </tr>\n",
              "  </tbody>\n",
              "</table>\n",
              "</div>\n",
              "    <div class=\"colab-df-buttons\">\n",
              "\n",
              "  <div class=\"colab-df-container\">\n",
              "    <button class=\"colab-df-convert\" onclick=\"convertToInteractive('df-395873f7-7d9e-42fb-a630-99c7df6fd5d1')\"\n",
              "            title=\"Convert this dataframe to an interactive table.\"\n",
              "            style=\"display:none;\">\n",
              "\n",
              "  <svg xmlns=\"http://www.w3.org/2000/svg\" height=\"24px\" viewBox=\"0 -960 960 960\">\n",
              "    <path d=\"M120-120v-720h720v720H120Zm60-500h600v-160H180v160Zm220 220h160v-160H400v160Zm0 220h160v-160H400v160ZM180-400h160v-160H180v160Zm440 0h160v-160H620v160ZM180-180h160v-160H180v160Zm440 0h160v-160H620v160Z\"/>\n",
              "  </svg>\n",
              "    </button>\n",
              "\n",
              "  <style>\n",
              "    .colab-df-container {\n",
              "      display:flex;\n",
              "      gap: 12px;\n",
              "    }\n",
              "\n",
              "    .colab-df-convert {\n",
              "      background-color: #E8F0FE;\n",
              "      border: none;\n",
              "      border-radius: 50%;\n",
              "      cursor: pointer;\n",
              "      display: none;\n",
              "      fill: #1967D2;\n",
              "      height: 32px;\n",
              "      padding: 0 0 0 0;\n",
              "      width: 32px;\n",
              "    }\n",
              "\n",
              "    .colab-df-convert:hover {\n",
              "      background-color: #E2EBFA;\n",
              "      box-shadow: 0px 1px 2px rgba(60, 64, 67, 0.3), 0px 1px 3px 1px rgba(60, 64, 67, 0.15);\n",
              "      fill: #174EA6;\n",
              "    }\n",
              "\n",
              "    .colab-df-buttons div {\n",
              "      margin-bottom: 4px;\n",
              "    }\n",
              "\n",
              "    [theme=dark] .colab-df-convert {\n",
              "      background-color: #3B4455;\n",
              "      fill: #D2E3FC;\n",
              "    }\n",
              "\n",
              "    [theme=dark] .colab-df-convert:hover {\n",
              "      background-color: #434B5C;\n",
              "      box-shadow: 0px 1px 3px 1px rgba(0, 0, 0, 0.15);\n",
              "      filter: drop-shadow(0px 1px 2px rgba(0, 0, 0, 0.3));\n",
              "      fill: #FFFFFF;\n",
              "    }\n",
              "  </style>\n",
              "\n",
              "    <script>\n",
              "      const buttonEl =\n",
              "        document.querySelector('#df-395873f7-7d9e-42fb-a630-99c7df6fd5d1 button.colab-df-convert');\n",
              "      buttonEl.style.display =\n",
              "        google.colab.kernel.accessAllowed ? 'block' : 'none';\n",
              "\n",
              "      async function convertToInteractive(key) {\n",
              "        const element = document.querySelector('#df-395873f7-7d9e-42fb-a630-99c7df6fd5d1');\n",
              "        const dataTable =\n",
              "          await google.colab.kernel.invokeFunction('convertToInteractive',\n",
              "                                                    [key], {});\n",
              "        if (!dataTable) return;\n",
              "\n",
              "        const docLinkHtml = 'Like what you see? Visit the ' +\n",
              "          '<a target=\"_blank\" href=https://colab.research.google.com/notebooks/data_table.ipynb>data table notebook</a>'\n",
              "          + ' to learn more about interactive tables.';\n",
              "        element.innerHTML = '';\n",
              "        dataTable['output_type'] = 'display_data';\n",
              "        await google.colab.output.renderOutput(dataTable, element);\n",
              "        const docLink = document.createElement('div');\n",
              "        docLink.innerHTML = docLinkHtml;\n",
              "        element.appendChild(docLink);\n",
              "      }\n",
              "    </script>\n",
              "  </div>\n",
              "\n",
              "\n",
              "<div id=\"df-a0f2899c-fb28-439e-a2eb-66a625b7c01e\">\n",
              "  <button class=\"colab-df-quickchart\" onclick=\"quickchart('df-a0f2899c-fb28-439e-a2eb-66a625b7c01e')\"\n",
              "            title=\"Suggest charts.\"\n",
              "            style=\"display:none;\">\n",
              "\n",
              "<svg xmlns=\"http://www.w3.org/2000/svg\" height=\"24px\"viewBox=\"0 0 24 24\"\n",
              "     width=\"24px\">\n",
              "    <g>\n",
              "        <path d=\"M19 3H5c-1.1 0-2 .9-2 2v14c0 1.1.9 2 2 2h14c1.1 0 2-.9 2-2V5c0-1.1-.9-2-2-2zM9 17H7v-7h2v7zm4 0h-2V7h2v10zm4 0h-2v-4h2v4z\"/>\n",
              "    </g>\n",
              "</svg>\n",
              "  </button>\n",
              "\n",
              "<style>\n",
              "  .colab-df-quickchart {\n",
              "    background-color: #E8F0FE;\n",
              "    border: none;\n",
              "    border-radius: 50%;\n",
              "    cursor: pointer;\n",
              "    display: none;\n",
              "    fill: #1967D2;\n",
              "    height: 32px;\n",
              "    padding: 0 0 0 0;\n",
              "    width: 32px;\n",
              "  }\n",
              "\n",
              "  .colab-df-quickchart:hover {\n",
              "    background-color: #E2EBFA;\n",
              "    box-shadow: 0px 1px 2px rgba(60, 64, 67, 0.3), 0px 1px 3px 1px rgba(60, 64, 67, 0.15);\n",
              "    fill: #174EA6;\n",
              "  }\n",
              "\n",
              "  [theme=dark] .colab-df-quickchart {\n",
              "    background-color: #3B4455;\n",
              "    fill: #D2E3FC;\n",
              "  }\n",
              "\n",
              "  [theme=dark] .colab-df-quickchart:hover {\n",
              "    background-color: #434B5C;\n",
              "    box-shadow: 0px 1px 3px 1px rgba(0, 0, 0, 0.15);\n",
              "    filter: drop-shadow(0px 1px 2px rgba(0, 0, 0, 0.3));\n",
              "    fill: #FFFFFF;\n",
              "  }\n",
              "</style>\n",
              "\n",
              "  <script>\n",
              "    async function quickchart(key) {\n",
              "      const charts = await google.colab.kernel.invokeFunction(\n",
              "          'suggestCharts', [key], {});\n",
              "    }\n",
              "    (() => {\n",
              "      let quickchartButtonEl =\n",
              "        document.querySelector('#df-a0f2899c-fb28-439e-a2eb-66a625b7c01e button');\n",
              "      quickchartButtonEl.style.display =\n",
              "        google.colab.kernel.accessAllowed ? 'block' : 'none';\n",
              "    })();\n",
              "  </script>\n",
              "</div>\n",
              "    </div>\n",
              "  </div>\n"
            ]
          },
          "metadata": {},
          "execution_count": 42
        }
      ],
      "source": [
        "road_dset.reverse_light_on_attack_X.head(3)"
      ]
    },
    {
      "cell_type": "markdown",
      "metadata": {
        "id": "bVSAQ4bIdyTM"
      },
      "source": [
        "### Explaining the `CANUtils` class\n",
        "The `CANUtils` class contains methods to process the data into valid input for machine learning algorithms. The initialization dunder, `__init__()`, loads the standard scaler and one hot encoder files and, with the `load_csv()` method, applies them to the numeric and categorical features in each dataset respectively.  \n",
        "The `prep()` method is called after the csv files are loaded. It extracts and separates CAN ID from payload and converts the timestamps from epochs to `pd.Timestamp`, a more human-readable time format. It then returns the data and a temporary label (an array of zeros with the same number of rows as the data).\n",
        "\n"
      ]
    },
    {
      "cell_type": "markdown",
      "metadata": {
        "id": "Qk2BH8A2UWyW"
      },
      "source": [
        "### Feature Engineering in the `CANUtils` class\n",
        "\\<missing info>  \n",
        "#### Helper features\n",
        "Usually with anomaly detection, the idea is to identify examples that do not conform to the properties of normal data. Isolation forest would, for instance, identify anomalies as data points with fewer splits; density estimation algorithms like DBSCAN and LocalOutlier Factor look at examples that occur in regions of low density.\n",
        "The problem with anomalous CAN data is that most of the attack data resembles normal data:\n",
        "- DOS for example is a series of valid data transmitted so many times that proper functioning of the CAN is inhibited — it is still very much valid data.\n",
        "- replay attack in the dataset is just the repeated transmission of data with an arbitration id of `2C6` ten times more than regular. It is still a valid CAN id and the payload is still valid.\n",
        "\n",
        "\n",
        "This presents a struggle — how does an algorithm that uses density estimation tell this kind of data apart from regular, normal data? The answer is in the nature of attack transmission. Here are some pointers:\n",
        "1. Attacks generally increase CAN transmission rates. This is demonstrated in (Young, Olufowobi, Bloom & Zambreno, 2019) and is in fact the basis of approach 1.\n",
        "2. Some CAN ID's are not seen as often, or even ever. Perhaps an increase in transmission rates from an ID indicates an anomaly? What happens when a CAN ID that never transmitted normally is seen during test? Will that help us identify anomalies?\n",
        "3. Attack data can contain weird payloads. Take for instance the fuzzing payload attack.\n",
        "\n",
        "To test that\n",
        "\n"
      ]
    },
    {
      "cell_type": "markdown",
      "metadata": {
        "id": "0NmNZQGWJPe5"
      },
      "source": [
        "### Labelling the anomalies\n",
        "In the documentation, the authors declared the timestamps when the various attacks occurred. The `label_anomalies()` method uses that information to change the zeros at the attack timestamps in the temporary label to a value of 1. The attack timestamps are identified using the `ct()` method, which does the epoch-to-timestamp conversion so that the timestamps where attacks occurred can be labelled 1 correctly.\n",
        "\n",
        "Thus, the label arrays for each attack dataset contains two classes: 1 for attack messages and 0 for normal messages.\n",
        "\n",
        "This gives us the advantage of comparing predictions from the different methods and scoring them against a metric — the F1 score. The F1 score is the harmonic mean of the precision and recall of a model. It is a useful summary metric for scoring the performance of a model in predicting a class even when there are few samples of that class to predict.  "
      ]
    },
    {
      "cell_type": "markdown",
      "metadata": {
        "id": "YOnprH80CpeM"
      },
      "source": [
        "## A Pattern to the Three Approaches\n",
        "For uniformity, each approach will be modeled as a class that implements the following methods:\n",
        "- `__init__()`  \n",
        "While the different approaches may create different attributes and call different methods upon object initialization, the different classes initialize a common attribute: `attack_f1`. `attack_f1` is a dictionary to store the F1 scores of each model on the different attack datasets. These values are visualized using the `chart_f1()` method.\n",
        "- `fit()`  \n",
        "The different approaches follow a common principle: learn the representation of normal activity. The `fit` method learns this representation differently for each approach: for approach 1 (message frequency detection), it learns the normal rate; for approach 2 (isolation forest), it learns the splits on normal data; for approach 3 (autoencoder), it learns a latent representation of normal data to arrive at a consistent error of reconstruction.\n",
        "- `detect_anomalies()`  \n",
        "This method uses the model's internal representation of normal data to detect an anomaly. When predictions have been made, it prints the classification report and stores the F1 score of the model on the target class in the model's `attack_f1` attribute.\n",
        "- `chart_f1()`  \n",
        "Each model defines a `chart_f1()` method to visualize the performance of the model on the different attack datasets as a barplot of F1 values.\n",
        "\n",
        "## How the approaches will be scored\n",
        "It is not enough that an approach detects anomalies. If the model were to predict wrongly most of the time, it would be annoying. We want the model to detect as many anomalies but not to the point where there are so many spurious detection. Hence we want a model that score a high true positive rate for the attack class and a low false positive rate so we don't have an incessant detector.\n",
        "\n",
        "The uniformity of the three approaches allows us to define a single testing function, `test_approach`, that runs the `detect_anomalies()` method for each attack type and visualizes their scores:"
      ]
    },
    {
      "cell_type": "code",
      "execution_count": 43,
      "metadata": {
        "id": "E-TsZjcXLABE"
      },
      "outputs": [],
      "source": [
        "def test_approach(model,\n",
        "                  dset:CANPrep,\n",
        "                  print_report:bool=False):\n",
        "\n",
        "    attack_dict = {\n",
        "        'Correlated Signal':{\n",
        "            'test':dset.correlated_signal_attack_X,\n",
        "            'label':dset.correlated_signal_attack_y\n",
        "        },\n",
        "\n",
        "        'Fuzzing':{\n",
        "            'test':dset.fuzzing_attack_X,\n",
        "            'label':dset.fuzzing_attack_y\n",
        "        },\n",
        "\n",
        "        'Max Speedometer':{\n",
        "            'test':dset.max_speedometer_attack_X,\n",
        "            'label':dset.max_speedometer_attack_y\n",
        "        },\n",
        "\n",
        "        'Reverse Light Off':{\n",
        "            'test':dset.reverse_light_off_attack_X,\n",
        "            'label':dset.reverse_light_off_attack_y\n",
        "        },\n",
        "\n",
        "        'Reverse Light On':{\n",
        "            'test':dset.reverse_light_on_attack_X,\n",
        "            'label':dset.reverse_light_on_attack_y\n",
        "        },\n",
        "    }\n",
        "\n",
        "    for attack_name, data in attack_dict.items():\n",
        "        preds = model.detect_anomalies(data['test'],\n",
        "                                      data['label'],\n",
        "                                      attack_name=attack_name,\n",
        "                                      print_report=print_report,\n",
        "                                      return_preds=print_report) # return the predictions\n",
        "\n",
        "        if print_report:\n",
        "            print(f\"Predictions for '{attack_name}' attack:\")\n",
        "            print(Counter(preds))\n",
        "            print('\\n=================================================================')\n",
        "\n",
        "    print(f'\\nF1 Scores of the {model.model_name_} approach:')\n",
        "    for i, j in model.attack_f1.items():\n",
        "        print(f'{i:<20}: {round(j,5)}')\n",
        "\n",
        "    print()\n",
        "    model.chart_f1() # display f1 as barplot"
      ]
    },
    {
      "cell_type": "markdown",
      "metadata": {
        "id": "QO3fyWKZ_Mjd"
      },
      "source": [
        "## Approach 1: Frequency-based Detection\n",
        "Young, Olufowobi, Bloom & Zambreno (2019) in the paper, \"Automotive Intrusion Detection Based on Constant CAN\n",
        "Message Frequencies Across Vehicle Driving Modes\" propose that a more than double increase in the frequency of CAN message transmission is a simple indicator that <ins>there are anomalies in a CAN bus</ins>.\n",
        "\n",
        "To implement the idea of this approach, a class, `Freq`, is defined. It defines a window (here, one second) and determines the average number of normal messages transmitted in that window. At inference time, if the frequency is greater than a given threshold, there is an anomaly.\n",
        "\n",
        "Note that this approach only cares about *how many* messages were transmitted in each window and not what those messages were. For this, a dummy feature containing only the numeric value `1` is created and used to count the number of messages per second.\n",
        "\n",
        "That average number of messages per second during normal CAN transmission is stored as `normal_rate` and then used in anomaly detection at inference time."
      ]
    },
    {
      "cell_type": "code",
      "execution_count": 71,
      "metadata": {
        "id": "enOqr1BIRdCJ"
      },
      "outputs": [],
      "source": [
        "class Freq:\n",
        "    def __init__(self, threshold):\n",
        "        self.normal_rate:float|None = None\n",
        "        self.confusion_matrix = None\n",
        "        self.threshold = threshold\n",
        "        self.model_name_ = 'Frequency Detection'\n",
        "\n",
        "        # store f1 scores for visualization later\n",
        "        self.attack_f1 = dict()\n",
        "\n",
        "    def get_freq(self, df):\n",
        "        \"\"\"Obtain the frequency of CAN messages for each second\"\"\"\n",
        "        # replace the data with a counting column but retain the timestamps\n",
        "        df = pd.concat([pd.Series(df.index),\n",
        "                        pd.Series(np.ones(df.shape[0]), name='message_count')], axis=1)\n",
        "\n",
        "        # group by second\n",
        "        freqs = df.groupby(pd.Grouper(key='timestamp', axis=0, freq='S')).count()\n",
        "\n",
        "        return freqs\n",
        "\n",
        "    def fit(self, train_X:pd.DataFrame):\n",
        "        \"\"\"Obtain the normal rate by calculating average frequency of normal messages\"\"\"\n",
        "        self.train_freqs = self.get_freq(train_X)\n",
        "        self.normal_rate = self.train_freqs[1:-1].mean()\n",
        "        print('Done')\n",
        "\n",
        "    def predict(self, test_X:pd.DataFrame):\n",
        "        self.test_freqs = self.get_freq(test_X)\n",
        "        preds = (self.test_freqs > (self.threshold * self.normal_rate)).astype(int)\n",
        "        return preds.loc[:,'message_count'].values\n",
        "\n",
        "    def transform_labels(self, labels):\n",
        "        \"\"\"Transform the label by grouping by second\"\"\"\n",
        "        label_df = labels.reset_index()\n",
        "        labels = label_df.groupby(pd.Grouper(key='timestamp', axis=0, freq='S')).any().astype(int)\n",
        "        # labels = label_df.groupby(pd.Grouper(key='timestamp', axis=0, freq='S')).sum()\n",
        "\n",
        "        return labels\n",
        "\n",
        "    def detect_anomalies(self, test_X, test_labels, attack_name, print_report=True, return_preds=False):\n",
        "        labels = self.transform_labels(test_labels)\n",
        "\n",
        "        # instantiate isolation forest model\n",
        "        preds = self.predict(test_X)\n",
        "        if print_report:\n",
        "            print(f'Performance of the {self.model_name_} approach on {attack_name} attack:')\n",
        "            print(classification_report(labels, preds))\n",
        "\n",
        "        self.attack_f1[attack_name] = f1_score(labels, preds) # store the f1 score\n",
        "\n",
        "        if return_preds: return preds\n",
        "\n",
        "    def chart_f1(self):\n",
        "        plt.figure(figsize=(13,5))\n",
        "        plt.title(f'F1 scores of the {self.model_name_} model on several attack types')\n",
        "        x, y = list(self.attack_f1.keys()), list(self.attack_f1.values())\n",
        "        # ax = plt.bar(x, y)\n",
        "        sns.barplot(x=x, y=y)\n",
        "        plt.ylim(ymax=1.0)"
      ]
    },
    {
      "cell_type": "markdown",
      "metadata": {
        "id": "sOekrzvBjlVa"
      },
      "source": [
        "When we call the `detect_anomalies` method of the `Freq` class above:\n",
        "- the `normal_rate` is obtained from training data\n",
        "- predictions are made using the `normal_rate` and the test data. Note that predictions show whether an anomaly occurred at a given second.\n",
        "- the actual labels are processed so they indicate an anomaly occurred at a given second.\n",
        "- the classification report is printed\n",
        "\n",
        "Next, we use this class to predict anomalies for the different attack datasets and visualize the f1 scores for each attack type."
      ]
    },
    {
      "cell_type": "markdown",
      "metadata": {
        "id": "uFWYxoPhAXl1"
      },
      "source": [
        "#### A personal observation\n",
        "The authors' decision to make the threshold `2` (meaning that when the transmission rate doubles, there is an attack) may have been influenced by the nature of attacks they studied: injection attacks. For this dataset where there are, for instance, as many as 100,000 normal messages but only 10 diagnostic attacks, only mass injection attacks may be flagged as anomalous. It will be useful to use a more lenient value for threshold.   \n",
        "  \n",
        "Let's set the threshold value to 1.003 (so if there are on average 1405 messages per second, 1410 messages in a single second will indicate an attack)"
      ]
    },
    {
      "cell_type": "code",
      "execution_count": 72,
      "metadata": {
        "colab": {
          "base_uri": "https://localhost:8080/"
        },
        "id": "sH4Y6Exk6ETQ",
        "outputId": "7c51f956-b6c8-4a1f-fcbf-efd0d7443161"
      },
      "outputs": [
        {
          "output_type": "stream",
          "name": "stdout",
          "text": [
            "Done\n",
            "Normal rate of CAN transmission: message_count    2391.507901\n",
            "dtype: float64\n"
          ]
        }
      ],
      "source": [
        "# initialize the model on training data to get a value for normal rate\n",
        "freq = Freq(threshold=1.003)\n",
        "freq.fit(road_dset.train)\n",
        "print(f'Normal rate of CAN transmission: {freq.normal_rate}')"
      ]
    },
    {
      "cell_type": "markdown",
      "metadata": {
        "id": "3daEAFVrLHeP"
      },
      "source": [
        "Let's test the frequency detection approach"
      ]
    },
    {
      "cell_type": "code",
      "execution_count": 73,
      "metadata": {
        "colab": {
          "base_uri": "https://localhost:8080/",
          "height": 1000
        },
        "id": "_LeTJkEvLM81",
        "outputId": "0c954695-f14a-4b92-9212-5873300d7215"
      },
      "outputs": [
        {
          "output_type": "stream",
          "name": "stdout",
          "text": [
            "Performance of the Frequency Detection approach on Correlated Signal attack:\n",
            "              precision    recall  f1-score   support\n",
            "\n",
            "           0       0.92      1.00      0.96        12\n",
            "           1       1.00      0.95      0.98        22\n",
            "\n",
            "    accuracy                           0.97        34\n",
            "   macro avg       0.96      0.98      0.97        34\n",
            "weighted avg       0.97      0.97      0.97        34\n",
            "\n",
            "Predictions for 'Correlated Signal' attack:\n",
            "Counter({1: 21, 0: 13})\n",
            "\n",
            "=================================================================\n",
            "Performance of the Frequency Detection approach on Fuzzing attack:\n",
            "              precision    recall  f1-score   support\n",
            "\n",
            "           0       1.00      0.76      0.87        17\n",
            "           1       0.50      1.00      0.67         4\n",
            "\n",
            "    accuracy                           0.81        21\n",
            "   macro avg       0.75      0.88      0.77        21\n",
            "weighted avg       0.90      0.81      0.83        21\n",
            "\n",
            "Predictions for 'Fuzzing' attack:\n",
            "Counter({0: 13, 1: 8})\n",
            "\n",
            "=================================================================\n",
            "Performance of the Frequency Detection approach on Max Speedometer attack:\n",
            "              precision    recall  f1-score   support\n",
            "\n",
            "           0       1.00      1.00      1.00        64\n",
            "           1       1.00      1.00      1.00        25\n",
            "\n",
            "    accuracy                           1.00        89\n",
            "   macro avg       1.00      1.00      1.00        89\n",
            "weighted avg       1.00      1.00      1.00        89\n",
            "\n",
            "Predictions for 'Max Speedometer' attack:\n",
            "Counter({0: 64, 1: 25})\n",
            "\n",
            "=================================================================\n",
            "Performance of the Frequency Detection approach on Reverse Light Off attack:\n",
            "              precision    recall  f1-score   support\n",
            "\n",
            "           0       1.00      1.00      1.00        21\n",
            "           1       1.00      1.00      1.00         8\n",
            "\n",
            "    accuracy                           1.00        29\n",
            "   macro avg       1.00      1.00      1.00        29\n",
            "weighted avg       1.00      1.00      1.00        29\n",
            "\n",
            "Predictions for 'Reverse Light Off' attack:\n",
            "Counter({0: 21, 1: 8})\n",
            "\n",
            "=================================================================\n",
            "Performance of the Frequency Detection approach on Reverse Light On attack:\n",
            "              precision    recall  f1-score   support\n",
            "\n",
            "           0       1.00      0.97      0.99        34\n",
            "           1       0.95      1.00      0.98        21\n",
            "\n",
            "    accuracy                           0.98        55\n",
            "   macro avg       0.98      0.99      0.98        55\n",
            "weighted avg       0.98      0.98      0.98        55\n",
            "\n",
            "Predictions for 'Reverse Light On' attack:\n",
            "Counter({0: 33, 1: 22})\n",
            "\n",
            "=================================================================\n",
            "\n",
            "F1 Scores of the Frequency Detection approach:\n",
            "Correlated Signal   : 0.97674\n",
            "Fuzzing             : 0.66667\n",
            "Max Speedometer     : 1.0\n",
            "Reverse Light Off   : 1.0\n",
            "Reverse Light On    : 0.97674\n",
            "\n"
          ]
        },
        {
          "output_type": "display_data",
          "data": {
            "text/plain": [
              "<Figure size 1300x500 with 1 Axes>"
            ],
            "image/png": "[encoded data removed]"
          },
          "metadata": {}
        }
      ],
      "source": [
        "test_approach(model=freq,\n",
        "              dset=road_dset,\n",
        "              print_report=True)"
      ]
    },
    {
      "cell_type": "markdown",
      "metadata": {
        "id": "oxTGaTtHibru"
      },
      "source": [
        "The Frequency detection method isn't perfect, achieving less than 50% recall for most of the attack types. It is however useful in detecting DOS and replay attacks because that is the kind of problem this heuristic is suited for — injection attacks that blow the transmission rate."
      ]
    },
    {
      "cell_type": "markdown",
      "metadata": {
        "id": "fIPUP7qc-1ww"
      },
      "source": [
        "## Approach 2: Density Estimation\n",
        "<del>The Isolation Forest (Liu, Ting, and Zhou, 2008) is a tree-based anomaly detection algorithm that uses the path length of a data point in a decision tree to measure its isolation. Anomaly scores are assigned to data points based on their path lengths, and points with shorter path lengths are more likely to be anomalies:  \n",
        "> Random partitioning produces noticeably shorter paths for anomalies. Hence, when a forest of random trees collectively produce shorter path lengths for particular samples, they are highly likely to be anomalies.(“Sklearn.ensemble.IsolationForest,” 2023)\n",
        "\n",
        "<del>Let's define a class, `IsoForest`, with a `detect_anomalies()` method that:\n",
        "1. Fits an Isolation Forest model\n",
        "2. Detect anomalies\n",
        "3. Prints the classification report\n",
        "4. Stores the f1 score for each attack type.\n",
        "\n",
        "<del>The class will also have a `chart_f1()` method for comparing the f1 scores of the isolation forest approach on the different attack datasets."
      ]
    },
    {
      "cell_type": "code",
      "execution_count": 80,
      "metadata": {
        "id": "dIkOmOTaxnvk"
      },
      "outputs": [],
      "source": [
        "class LOFactor():\n",
        "    def __init__(self):\n",
        "        # store f1 scores for visualization later\n",
        "        self.attack_f1 = dict()\n",
        "        self.model = LocalOutlierFactor(n_neighbors=50, novelty=True)\n",
        "        self.model_name_ = 'Local Outlier Factor'\n",
        "\n",
        "    def fit(self, train_X):\n",
        "        self.model.fit(train_X)\n",
        "        print('Done')\n",
        "\n",
        "    def detect_anomalies(self, test_X, label, attack_name, print_report=True, return_preds=False):\n",
        "        # contam = label.sum()/label.shape[0] # get the fraction of anomalies\n",
        "        # make predictions and print classification\n",
        "        preds = self.model.predict(test_X)\n",
        "        preds = np.where(preds==1, 0, 1) # transform predictions\n",
        "        if print_report:\n",
        "            print(f'Performance of the {self.model_name_} approach on {attack_name}:')\n",
        "            print(classification_report(label, preds))\n",
        "\n",
        "        self.attack_f1[attack_name] = f1_score(label, preds) # store the f1 score\n",
        "\n",
        "        if return_preds: return preds\n",
        "\n",
        "    def chart_f1(self):\n",
        "        plt.figure(figsize=(13,5))\n",
        "        plt.title(f'F1 scores of the {self.model_name_} model on several attack types')\n",
        "        x, y = list(self.attack_f1.keys()), list(self.attack_f1.values())\n",
        "        sns.barplot(x=x, y=y)\n",
        "        sns.barplot(x=x, y=y)\n",
        "        plt.ylim(ymax=1.0)"
      ]
    },
    {
      "cell_type": "markdown",
      "metadata": {
        "id": "a8J1q8Ha90NR"
      },
      "source": [
        "Note that the predictions of the Isolation Forest model had to be transformed like {-1:1, 1:0} because the `fit_predict` method of `sklearn.IsolationForest` returns -1 for anomalies and 1 for inliers. The transformation was necessary so that it could correspond to the label with 0 representing normal data and 1 representing anomalies."
      ]
    },
    {
      "cell_type": "code",
      "execution_count": 81,
      "metadata": {
        "colab": {
          "base_uri": "https://localhost:8080/"
        },
        "id": "6w4J5LatGdHK",
        "outputId": "77d19bd1-39f6-44db-ae7f-b2057a96ad1a"
      },
      "outputs": [
        {
          "output_type": "stream",
          "name": "stdout",
          "text": [
            "Done\n"
          ]
        }
      ],
      "source": [
        "lof = LOFactor()\n",
        "lof.fit(road_dset.train) # fit model"
      ]
    },
    {
      "cell_type": "markdown",
      "metadata": {
        "id": "grWk9K3yVp4a"
      },
      "source": [
        "Let's test the density-based approach"
      ]
    },
    {
      "cell_type": "code",
      "execution_count": 82,
      "metadata": {
        "id": "u2wbbLWbVp4q",
        "outputId": "eae08605-6deb-44e5-e687-ac2757eb9f64",
        "colab": {
          "base_uri": "https://localhost:8080/",
          "height": 587
        }
      },
      "outputs": [
        {
          "output_type": "stream",
          "name": "stdout",
          "text": [
            "\n",
            "F1 Scores of the Local Outlier Factor approach:\n",
            "Correlated Signal   : 0.4606\n",
            "Fuzzing             : 0.24873\n",
            "Max Speedometer     : 0.26714\n",
            "Reverse Light Off   : 0.27867\n",
            "Reverse Light On    : 0.29837\n",
            "\n"
          ]
        },
        {
          "output_type": "display_data",
          "data": {
            "text/plain": [
              "<Figure size 1300x500 with 1 Axes>"
            ],
            "image/png": "[encoded data removed]"
          },
          "metadata": {}
        }
      ],
      "source": [
        "test_approach(model=lof,\n",
        "              dset=road_dset,\n",
        "              print_report=False)"
      ]
    },
    {
      "cell_type": "markdown",
      "metadata": {
        "id": "silptM7ZvEIV"
      },
      "source": [
        "## Approach 3: Anomaly detection using the latent representation of normal data\n",
        "Alsaade and Al-Adhaileh (2023) in \"Cyber Attack Detection for Self-Driving Vehicle Networks Using Deep Autoencoder Algorithms\" employ the autoencoder approach to solve the anomaly detection problem.\n",
        "\n",
        "Using an autoencoder, we train on only normal data. Predictions of abnormal data can be flagged because the error of reconstruction will usually be larger than the error reconstructing the normal data the model was trained on. This sounds like a good fit for the imbalance in the dataset.\n",
        "\n",
        "Let's define the `AutoEncoder` class."
      ]
    },
    {
      "cell_type": "code",
      "execution_count": 50,
      "metadata": {
        "id": "9FGmYk5oyILO"
      },
      "outputs": [],
      "source": [
        "device = 'cuda:0' if T.cuda.is_available() else 'cpu' # choose the available device"
      ]
    },
    {
      "cell_type": "code",
      "execution_count": 75,
      "metadata": {
        "id": "wrO0zkQNw1zI"
      },
      "outputs": [],
      "source": [
        "class AutoEncoder(T.nn.Module):\n",
        "    def __init__(self, size):\n",
        "        super().__init__()\n",
        "        self.fc1 = T.nn.Linear(size, 32)\n",
        "        self.fc2 = T.nn.Linear(32, 8)\n",
        "        self.fc3 = T.nn.Linear(8, 32)\n",
        "        self.fc4 = T.nn.Linear(32, size)\n",
        "        self.threshold = 0.0\n",
        "        self.model_name_ = 'Autoencoder'\n",
        "\n",
        "        # store f1 scores for visualization later\n",
        "        self.attack_f1 = dict()\n",
        "\n",
        "    def encode(self, x):\n",
        "        z = T.tanh(self.fc1(x))\n",
        "        z = T.tanh(self.fc2(z))\n",
        "        return z\n",
        "\n",
        "    def decode(self, x):\n",
        "        z = T.tanh(self.fc3(x))\n",
        "        z = T.sigmoid(self.fc4(z))\n",
        "        return z\n",
        "\n",
        "    def forward(self, x):\n",
        "        z = self.encode(x)\n",
        "        z = self.decode(z)\n",
        "        return z\n",
        "\n",
        "    def rec_error(self, data):\n",
        "        \"\"\"Compute the reconstruction error when a sample is passed through the autoencoder\"\"\"\n",
        "        # diff = autoenc(T.Tensor(data.values)).detach().numpy() - data.values\n",
        "        input = T.Tensor(data.values).to(device)\n",
        "        diff = (autoenc(input) - input).cpu().detach().numpy()\n",
        "        error = np.mean(np.power(diff, 2), axis=1) # scalar error of reconstruction\n",
        "        return error\n",
        "\n",
        "    def set_threshold(self, value):\n",
        "        self.threshold = value\n",
        "\n",
        "    def zscore_threshold(self, input):\n",
        "        \"\"\"Compute the threshold as 1 z-score from the reconstruction errors of training data\"\"\"\n",
        "        errors = self.rec_error(input) # compute errors of reconstruction\n",
        "\n",
        "        self.set_threshold(np.mean(errors) + np.std(errors)) # set threshold to 1 z-score\n",
        "\n",
        "    def fit(self, input, batch_size, epochs, log_interval, learning_rate):\n",
        "        # set up loader object\n",
        "        data_ldr = T.utils.data.DataLoader(T.Tensor(input.values).to(device),\n",
        "                                        batch_size=batch_size,\n",
        "                                        shuffle=True)\n",
        "\n",
        "        loss_func = T.nn.MSELoss() # mean squared error loss\n",
        "        opt = T.optim.SGD(self.parameters(), lr=learning_rate) # SGD optimizer\n",
        "\n",
        "        print(\"\\nStarting training\")\n",
        "        for epoch in tqdm(range(epochs)):\n",
        "            epoch_loss = 0.0 # reset loss\n",
        "            for (batch_idx, batch) in enumerate(data_ldr):\n",
        "                X = batch  # inputs\n",
        "                Y = batch  # targets (same as inputs)\n",
        "\n",
        "                opt.zero_grad() # prepare gradients\n",
        "                output = self(X) # compute output/target\n",
        "                loss_val = loss_func(output, Y) # compute loss/error\n",
        "                epoch_loss += loss_val.item() # accumulate for display\n",
        "                loss_val.backward() # compute gradients\n",
        "                opt.step() # update weights\n",
        "\n",
        "            if epoch % log_interval == 0:\n",
        "                print(\"epoch = %4d   loss = %0.4f\" % (epoch, epoch_loss))\n",
        "\n",
        "        self.zscore_threshold(input) # set the threshold using the training data\n",
        "        print(\"Training completed!\")\n",
        "\n",
        "    def detect_anomalies(self, data_X, label, attack_name, print_report=True, return_preds=False):\n",
        "        \"\"\"\n",
        "        Compute reconstruction error. If the error of a message exceeds the threshold\n",
        "        default of (1 z score), it is predicted as an anomaly\n",
        "        \"\"\"\n",
        "\n",
        "        errors = self.rec_error(data_X) # compute error of reconstruction\n",
        "        preds = np.where(errors > self.threshold, 1, 0) # calculate predictions\n",
        "        if print_report:\n",
        "            print(f'Performance of the {self.model_name_} on {attack_name} attack:')\n",
        "            print(classification_report(label, preds))\n",
        "\n",
        "        self.attack_f1[attack_name] = f1_score(label, preds) # store the f1 score\n",
        "\n",
        "        if return_preds: return preds\n",
        "\n",
        "    def chart_f1(self):\n",
        "        plt.figure(figsize=(13,5))\n",
        "        plt.title(f'F1 scores of the {self.model_name_} model on several attack types')\n",
        "        x, y = list(self.attack_f1.keys()), list(self.attack_f1.values())\n",
        "        sns.barplot(x=x, y=y)\n",
        "        plt.ylim(ymax=1.0)"
      ]
    },
    {
      "cell_type": "markdown",
      "metadata": {
        "id": "lnLMkdItrekL"
      },
      "source": [
        "The `fit` method sets up the dataloader, loss function, optimizer and runs the training loop for the given number of epochs on the normal data.  \n",
        "To be able to determine anomalies, a threshold error value will be calculated. Let's define the threshold to be 1 z-score i.e one standard deviation from the mean of errors of reconstruction. A reconstruction with an error exceeding that value is thus an anomaly."
      ]
    },
    {
      "cell_type": "markdown",
      "metadata": {
        "id": "qyA7TJJcnxTt"
      },
      "source": [
        "Next, it is important that the autoencoder is just trained on only normal data so it only learns those patterns and not of the anomalies too. The `CANUtils().train` dataset contains only normal data so it will be used for training."
      ]
    },
    {
      "cell_type": "code",
      "execution_count": 76,
      "metadata": {
        "id": "CXsid8jCvh7o"
      },
      "outputs": [],
      "source": [
        "input = road_dset.train\n",
        "autoenc = AutoEncoder(size=input.shape[1]).to(device)"
      ]
    },
    {
      "cell_type": "markdown",
      "metadata": {
        "id": "Ov5k5Bb6son2"
      },
      "source": [
        "Uncomment and run the next cell if you wish to train the autoencoder from scratch and save the weights:"
      ]
    },
    {
      "cell_type": "code",
      "execution_count": 77,
      "metadata": {
        "colab": {
          "base_uri": "https://localhost:8080/"
        },
        "id": "iyTdqgUPWSEa",
        "outputId": "b7d9ccc4-d37a-4ac1-8d57-60413b37d55a"
      },
      "outputs": [
        {
          "output_type": "stream",
          "name": "stdout",
          "text": [
            "\n",
            "Starting training\n"
          ]
        },
        {
          "output_type": "stream",
          "name": "stderr",
          "text": [
            "  5%|▌         | 1/20 [00:06<02:01,  6.38s/it]"
          ]
        },
        {
          "output_type": "stream",
          "name": "stdout",
          "text": [
            "epoch =    0   loss = 2558.5357\n"
          ]
        },
        {
          "output_type": "stream",
          "name": "stderr",
          "text": [
            "100%|██████████| 20/20 [02:02<00:00,  6.11s/it]\n"
          ]
        },
        {
          "output_type": "stream",
          "name": "stdout",
          "text": [
            "Training completed!\n"
          ]
        }
      ],
      "source": [
        "autoenc.train() # set to train mode\n",
        "\n",
        "autoenc.fit(input = road_dset.train,\n",
        "            batch_size = 500,\n",
        "            epochs = 20,\n",
        "            log_interval = 50,\n",
        "            learning_rate = 3e-3\n",
        "            ) # train the model\n",
        "\n",
        "T.save(autoenc.state_dict(), 'can-autoencoder.pt') # save the model"
      ]
    },
    {
      "cell_type": "markdown",
      "metadata": {
        "id": "BAVLAkvFLEhX"
      },
      "source": [
        "Otherwise, reload the state dict from prior training and use that for the model. Run the next cell:"
      ]
    },
    {
      "cell_type": "code",
      "execution_count": 78,
      "metadata": {
        "id": "zLAb8bYZqA5R"
      },
      "outputs": [],
      "source": [
        "# # load weights\n",
        "# autoenc.load_state_dict(T.load('can-autoencoder.pt', map_location=device))\n",
        "\n",
        "# # use 1 zscore of the input reconstruction errors array as the threshold\n",
        "# autoenc.zscore_threshold(input)\n",
        "\n",
        "# autoenc.eval() # set to eval mode"
      ]
    },
    {
      "cell_type": "code",
      "execution_count": 79,
      "metadata": {
        "colab": {
          "base_uri": "https://localhost:8080/",
          "height": 1000
        },
        "id": "4rVNBYoD6M5i",
        "outputId": "e0b8a574-f3d4-4776-9f24-96350ee9f096"
      },
      "outputs": [
        {
          "output_type": "stream",
          "name": "stdout",
          "text": [
            "Performance of the Autoencoder on Correlated Signal attack:\n",
            "              precision    recall  f1-score   support\n",
            "\n",
            "           0       0.36      0.83      0.50     29289\n",
            "           1       0.62      0.16      0.25     51973\n",
            "\n",
            "    accuracy                           0.40     81262\n",
            "   macro avg       0.49      0.49      0.38     81262\n",
            "weighted avg       0.53      0.40      0.34     81262\n",
            "\n",
            "Predictions for 'Correlated Signal' attack:\n",
            "Counter({0: 67918, 1: 13344})\n",
            "\n",
            "=================================================================\n",
            "Performance of the Autoencoder on Fuzzing attack:\n",
            "              precision    recall  f1-score   support\n",
            "\n",
            "           0       0.83      0.87      0.85     40773\n",
            "           1       0.22      0.19      0.20      8569\n",
            "\n",
            "    accuracy                           0.75     49342\n",
            "   macro avg       0.53      0.53      0.53     49342\n",
            "weighted avg       0.73      0.75      0.74     49342\n",
            "\n",
            "Predictions for 'Fuzzing' attack:\n",
            "Counter({0: 42250, 1: 7092})\n",
            "\n",
            "=================================================================\n",
            "Performance of the Autoencoder on Max Speedometer attack:\n",
            "              precision    recall  f1-score   support\n",
            "\n",
            "           0       0.71      0.84      0.77    152027\n",
            "           1       0.30      0.17      0.22     61370\n",
            "\n",
            "    accuracy                           0.65    213397\n",
            "   macro avg       0.51      0.50      0.49    213397\n",
            "weighted avg       0.59      0.65      0.61    213397\n",
            "\n",
            "Predictions for 'Max Speedometer' attack:\n",
            "Counter({0: 178264, 1: 35133})\n",
            "\n",
            "=================================================================\n",
            "Performance of the Autoencoder on Reverse Light Off attack:\n",
            "              precision    recall  f1-score   support\n",
            "\n",
            "           0       0.76      0.84      0.80     51155\n",
            "           1       0.29      0.20      0.24     16747\n",
            "\n",
            "    accuracy                           0.68     67902\n",
            "   macro avg       0.53      0.52      0.52     67902\n",
            "weighted avg       0.65      0.68      0.66     67902\n",
            "\n",
            "Predictions for 'Reverse Light Off' attack:\n",
            "Counter({0: 56272, 1: 11630})\n",
            "\n",
            "=================================================================\n",
            "Performance of the Autoencoder on Reverse Light On attack:\n",
            "              precision    recall  f1-score   support\n",
            "\n",
            "           0       0.63      0.83      0.72     83588\n",
            "           1       0.36      0.16      0.22     49649\n",
            "\n",
            "    accuracy                           0.58    133237\n",
            "   macro avg       0.50      0.50      0.47    133237\n",
            "weighted avg       0.53      0.58      0.53    133237\n",
            "\n",
            "Predictions for 'Reverse Light On' attack:\n",
            "Counter({0: 111491, 1: 21746})\n",
            "\n",
            "=================================================================\n",
            "\n",
            "F1 Scores of the Autoencoder approach:\n",
            "Correlated Signal   : 0.25415\n",
            "Fuzzing             : 0.20369\n",
            "Max Speedometer     : 0.21562\n",
            "Reverse Light Off   : 0.23702\n",
            "Reverse Light On    : 0.22195\n",
            "\n"
          ]
        },
        {
          "output_type": "display_data",
          "data": {
            "text/plain": [
              "<Figure size 1300x500 with 1 Axes>"
            ],
            "image/png": "[encoded data removed]"
          },
          "metadata": {}
        }
      ],
      "source": [
        "test_approach(model=autoenc,\n",
        "              dset=road_dset,\n",
        "              print_report=True)"
      ]
    },
    {
      "cell_type": "markdown",
      "metadata": {
        "id": "7F05-fxRkVZh"
      },
      "source": [
        "## Conclusion\n",
        "We have seen the results of the three approaches on anomaly detection. Several other methods exist. Some research papers use Long Short Term Memory (LSTM) and/or ConvNet architecture in place of Autoencoders, message intervals in place of frequency detection, support vectors instead of tree-based estimation and so on. Perhaps it is a good idea to build a classifier? Several roads lead to the market.\n",
        "\n",
        "One thing that can be improved on in the various approaches above is hyperparameter tuning for the two machine learning approaches and a search across different threshold values for the frequency detection approach."
      ]
    },
    {
      "cell_type": "markdown",
      "metadata": {
        "id": "LquYoOxlOoon"
      },
      "source": [
        "__________"
      ]
    },
    {
      "cell_type": "markdown",
      "metadata": {
        "id": "c3EL5d8PAhdi"
      },
      "source": [
        "## References\n",
        "Alsaade, F. W., & Al-Adhaileh, M. H. (2023). Cyber Attack Detection for Self-Driving Vehicle Networks Using Deep Autoencoder Algorithms. Sensors, 23(8), 4086. https://doi.org/10.3390/s23084086\n",
        "\n",
        "Liu, F. T., Ting, K. M., & Zhou, Z.-H. (2008). Isolation Forest. IEEE International Conference on Data Mining.\n",
        "\n",
        "Narayanan, Sandeep & Mittal, Sudip & Joshi, Anupam. (2016). OBD_SecureAlert: An Anomaly Detection System for Vehicles. 1-6. 10.1109/SMARTCOMP.2016.7501710.\n",
        "\n",
        "sklearn.ensemble.IsolationForest. (2023). Retrieved August 2, 2023, from scikit-learn website: https://scikit-learn.org/stable/modules/generated/sklearn.ensemble.IsolationForest.html\n",
        "\n",
        "Young, Clinton & Olufowobi, Habeeb & Bloom, Gedare & Zambreno, Joseph. (2019). Automotive Intrusion Detection Based on Constant CAN Message Frequencies Across Vehicle Driving Modes. 9-14. 10.1145/3309171.3309179.\n",
        "\n",
        "Zhou, Li, & Shen. (2019). Anomaly Detection of CAN Bus Messages Using A Deep Neural Network for Autonomous Vehicles. Applied Sciences, 9(15), 3174. https://doi.org/10.3390/app9153174"
      ]
    }
  ],
  "metadata": {
    "colab": {
      "provenance": [],
      "gpuType": "T4",
      "include_colab_link": true
    },
    "kernelspec": {
      "display_name": "Python 3",
      "name": "python3"
    },
    "language_info": {
      "codemirror_mode": {
        "name": "ipython",
        "version": 3
      },
      "file_extension": ".py",
      "mimetype": "text/x-python",
      "name": "python",
      "nbconvert_exporter": "python",
      "pygments_lexer": "ipython3",
      "version": "3.11.2"
    },
    "accelerator": "GPU"
  },
  "nbformat": 4,
  "nbformat_minor": 0
}