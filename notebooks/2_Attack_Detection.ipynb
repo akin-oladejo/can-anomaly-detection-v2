{
  "cells": [
    {
      "cell_type": "markdown",
      "metadata": {
        "id": "view-in-github",
        "colab_type": "text"
      },
      "source": [
        "<a href=\"https://colab.research.google.com/github/akin-oladejo/can-anomaly-detection-v2/blob/main/notebooks/2_Attack_Detection.ipynb\" target=\"_parent\"><img src=\"https://colab.research.google.com/assets/colab-badge.svg\" alt=\"Open In Colab\"/></a>"
      ]
    },
    {
      "cell_type": "markdown",
      "metadata": {
        "id": "GEjqQciJKJKW"
      },
      "source": [
        "# Detecting Attacks on CAN Data"
      ]
    },
    {
      "cell_type": "markdown",
      "metadata": {
        "id": "AU9zVsEZSiZQ"
      },
      "source": [
        "## The Task\n",
        "The Controller Area Network (CAN) is currently the most widely-used in-vehicle networking protocol. CAN is a bi-directional, multi-master, serial bus that uses UTP cabling to ensure reliability in electromagnetically noisy environments.\n",
        "It provides an effective method for the components of a vehicle called the Electronic Control Units (ECU) to communicate among themselves, as opposed to traditional point-to-point wiring. It is also used in industrial applications as the basis for Devicenet, reducing the wiring needed between a control system and I/O devices.\n",
        "\n",
        "While it provides a means to communicate reliably, CAN is not known for security. Modern vehicles allow you to plug in devices that can communicate on this network through the OBD-II port or some other port like the USB. Also, some of the devices in modern vehicles that use the CAN are connected to the internet, allowing external attacks in various forms. These attacks include Replay, Spoofing, Denial of Service (DOS) and so on.  \n",
        "\n",
        "The task in this project is to **detect attacks on the CAN**.  \n",
        "  \n",
        "This will be done using different methods. The methods are:\n",
        "1. Frequency-based detection  \n",
        "Frequency-based methods use the increase in CAN transmission during attacks as the heuristic for detection.\n",
        "2. Payload-based detection  \n",
        "Payload-based methods read the data that is transmitted and detect when the data is unusual or unexpected. I will implement two payload-based detection models, one using the Isolation Forest algorithm (tree-based anomaly detection) and the second using an autoencoder (reconstruction error).\n",
        "\n"
      ]
    },
    {
      "cell_type": "code",
      "execution_count": null,
      "metadata": {
        "id": "9FAE4BqEREZu"
      },
      "outputs": [],
      "source": [
        "# Import libraries for this task\n",
        "\n",
        "# data analysis libs\n",
        "import pandas as pd\n",
        "import numpy as np\n",
        "\n",
        "# visualization libs\n",
        "import matplotlib.pyplot as plt\n",
        "%matplotlib inline\n",
        "import seaborn as sns\n",
        "\n",
        "# Machine learning libs\n",
        "from sklearn.preprocessing import StandardScaler\n",
        "from sklearn.metrics import classification_report, f1_score\n",
        "from sklearn.ensemble import IsolationForest\n",
        "from sklearn.experimental import enable_halving_search_cv  # noqa\n",
        "from sklearn.model_selection import HalvingGridSearchCV\n",
        "import torch as T\n",
        "\n",
        "# utils\n",
        "from dataclasses import dataclass\n",
        "import joblib\n",
        "from tqdm import tqdm\n",
        "from collections import Counter\n",
        "import json\n",
        "import warnings\n",
        "from datetime import timedelta"
      ]
    },
    {
      "cell_type": "code",
      "execution_count": null,
      "metadata": {
        "colab": {
          "base_uri": "https://localhost:8080/"
        },
        "id": "2JqhFAR2-HAJ",
        "outputId": "f99ab9da-0144-4bb2-da19-f9d1e285a1c0"
      },
      "outputs": [
        {
          "output_type": "execute_result",
          "data": {
            "text/plain": [
              "<torch._C.Generator at 0x7a2b0637cf70>"
            ]
          },
          "metadata": {},
          "execution_count": 2
        }
      ],
      "source": [
        "# config\n",
        "pd.set_option('display.max_rows', 500)\n",
        "pd.set_option('display.max_columns', 500)\n",
        "pd.set_option('display.width', 1000)\n",
        "sns.set_palette(\"RdPu\")\n",
        "warnings.filterwarnings('ignore')\n",
        "\n",
        "# seed for PRNG's\n",
        "rs = 42\n",
        "np.random.seed(rs)\n",
        "T.manual_seed(rs)"
      ]
    },
    {
      "cell_type": "markdown",
      "metadata": {
        "id": "8y3qIvlkp1w_"
      },
      "source": [
        "## The Dataset\n",
        "The dataset used in this project is the **Real ORNL Automotive Dynamometer (ROAD) CAN Intrusion Dataset**, from (Verma et al., 2020). It can be found [here](https://0xsam.com/road/). The dataset consists of over 3.5 hours of an (unspecified) vehicle’s CAN data. ROAD contains ambient data recorded during a diverse set of activities, and attacks of increasing stealth with multiple variants and instances of real fuzzing, fabrication, and unique advanced attacks, as well as simulated masquerade attacks. In the paper, the authors discuss that the purpose of the dataset is to provide a CAN benchmark dataset free of the problems of previous public datasets such as the lack of comparability and the inconsistency of CAN message intervals due to the insertion of synthetic data post-recording.\n",
        "\n",
        "The dataset consists of three folders: ambient, attacks and signal extractions.\n",
        "\n",
        "Ambient data is ground truth — a recording of CAN transmission in the vehicle during regular (attack-free) driving. Several log files are provided but each log is either a recording of highway driving or on a dynamometer (dyno, for short).\n",
        "\n",
        "The signal extractions folder contains the same CAN data found in the ambient and attack folders, except that the signals have already been translated from hexadecimal to decimal numbers.\n",
        "\n",
        "The attacks in the dataset are:\n",
        "1. **Accelerator attack**   \n",
        "This is an exploit of a vulnerability particular to the vehicle the authors tested. The CAN data of the exploit is not given, rather the CAN transmission as the vehicle suffers the exploit. Because of its uniqueness, this attack is not included in the data I used to train the intrusion detection systems.\n",
        "2. **Correlated signal attack**  \n",
        "The single ID message communicating the four wheels’ speeds (each is a two-byte signal) is injected with four false wheel speed values that are all pairwise very different. This effectively kills the car— it rolls to a stop and inhibits the driver from effecting acceleration, usually until the car is restarted.\n",
        "3. **Fuzzing attack**  \n",
        "The authors mounted the less stealthy version of the fuzzing attack, injecting frames with random IDs (cycling in order from 0x000 to 0x255) with maximum payloads (0xFFFFFFFFFFFFFFFF) every .005s (as opposed to only injected IDs seen in ambient data). Many physical effects of this attack were observed—accelerator pedal is impotent, dash and lights activated, seat positions move, etc. By injecting messages with maximal payload, the authors prevented incidental ECU bus-off. With the exception of the accelerator attack, every other attack targets an ID.\n",
        "4. **Max engine coolant temperature attack**  \n",
        "The authors target the engine coolant signal (one byte), modifying the signal\n",
        "value to be the maximum (0xFF). The result is that the “engine coolant too high” warning light on the dashboard turns on.\n",
        "5. **Max speedometer attack**  \n",
        "The speedometer signal (one byte) is targeted. The authors modified this signal value to be the maximum (0xFF), causing the speedometer to falsely display a maximum value.\n",
        "6. **Reverse light attacks**\n",
        "A binary (one bit) signal communicating the state of the reverse lights (on/off) is targeted. The authors perform two slight variations of the attack, where they manipulate the value to off while the car is in Reverse or on when the car is in Drive. The consequence is that the reverse lights do not reflect what gear the car is using.\n",
        "\n",
        "For all attacks except the accelerator attack, both original fabrication and masquerade versions were provided by the authors. The Fabrication attacks are the attacks as they took place in ***flam*** fashion. Flam attacks, introduced by Hoppe, Kiltz, and Dittmann (2011), are a clever way to game the Controller Area Network by injecting malicious data <ins>immediately</ins> after authentic ID transmission so that malicious data can be read as though it came from the valid ID. The indirect effect is that there are more messages transmitted during attacks. This side effect is why the first approach I will use, the frequency-based detection, may be effective at detecting attacks.\n",
        "\n",
        "The masquerade version contained only the spoofed data when attacks occurred, because the authors performed some post-processing to remove the normal transmission of the targeted ID's, without violating the CAN protocol. Note that for masquerade attacks, frequency-based methods are not likely to work.\n",
        "\n",
        "For training, tuning and testing, fabrication (flam) data will be used."
      ]
    },
    {
      "cell_type": "code",
      "execution_count": null,
      "metadata": {
        "colab": {
          "base_uri": "https://localhost:8080/"
        },
        "id": "TGO5HM147ext",
        "outputId": "0311a61b-dc77-4e03-c3d6-a3b8ee6392eb"
      },
      "outputs": [
        {
          "output_type": "stream",
          "name": "stdout",
          "text": [
            "Mounted at /content/drive\n"
          ]
        }
      ],
      "source": [
        "# uncomment outside of colab\n",
        "from google.colab import drive\n",
        "drive.mount('/content/drive')\n",
        "data_path = '/content/drive/MyDrive/datasets/road_data'"
      ]
    },
    {
      "cell_type": "code",
      "execution_count": null,
      "metadata": {
        "colab": {
          "base_uri": "https://localhost:8080/"
        },
        "id": "JnB7ZsmU7NJ6",
        "outputId": "765acabe-2afb-4f63-ae4c-c01307b965df"
      },
      "outputs": [
        {
          "output_type": "execute_result",
          "data": {
            "text/plain": [
              "dict_keys(['train', 'test', 'validation'])"
            ]
          },
          "metadata": {},
          "execution_count": 4
        }
      ],
      "source": [
        "# store the locations of the datasets\n",
        "# data_path = 'data'\n",
        "with open(f'../{data_path}/metadata.json', 'r') as f:\n",
        "    dataset = json.load(f)\n",
        "\n",
        "dataset.keys() # print keys"
      ]
    },
    {
      "cell_type": "code",
      "execution_count": null,
      "metadata": {
        "colab": {
          "base_uri": "https://localhost:8080/"
        },
        "id": "ylXrPuAr7NJ6",
        "outputId": "2fb5f1e8-c377-4c4f-ed2c-a702a764bdaf"
      },
      "outputs": [
        {
          "output_type": "execute_result",
          "data": {
            "text/plain": [
              "dict_keys(['correlated_signal_attack', 'fuzzing_attack', 'max_speedometer_attack', 'reverse_light_off_attack', 'reverse_light_on_attack'])"
            ]
          },
          "metadata": {},
          "execution_count": 5
        }
      ],
      "source": [
        "# view attacks in test folder\n",
        "dataset['test'].keys()"
      ]
    },
    {
      "cell_type": "code",
      "execution_count": null,
      "metadata": {
        "colab": {
          "base_uri": "https://localhost:8080/"
        },
        "id": "y38l1BxH7NJ6",
        "outputId": "c2d57551-1792-45dd-af7f-9962efdd7eae"
      },
      "outputs": [
        {
          "output_type": "execute_result",
          "data": {
            "text/plain": [
              "dict_keys(['correlated_signal_attack', 'fuzzing_attack', 'max_speedometer_attack', 'reverse_light_off_attack', 'reverse_light_on_attack'])"
            ]
          },
          "metadata": {},
          "execution_count": 6
        }
      ],
      "source": [
        "# view attacks in validation folder\n",
        "dataset['validation'].keys()"
      ]
    },
    {
      "cell_type": "markdown",
      "metadata": {
        "id": "7p-rPAEBI63D"
      },
      "source": [
        "## Preprocessing the data: the `ROADPrep` and `ArbitrationEncoder` classes\n",
        "For the analysis of the data that inspires the preprocessing in the `ROADPrep` class, check [the analysis notebook](notebooks/1_CAN_Analysis.ipynb).  \n",
        "\n",
        "### `ROADPrep`  \n",
        "The `ROADPrep` class contains methods to process the data into valid input for machine learning algorithms. At instantiation, ground truth (used for training) and test data are loaded using their paths specified in the provided [metadata file](data/metadata.json). This is done by the `load_csv()` method. The ground truth data used is a 7-minute run of the vehicle on a dynamometer with no attack injections loaded from the. The other data are different dyno runs with the different attacks, loaded from the test, train and masquerade folders. The paths to the log files are given in the metadata file.\n",
        "\n",
        "The `load_csv()` method calls the `prep()` method where the actual preprocessing is done. The following steps are performed:\n",
        "1. arbitration ID is extracted and scaled using the custom class, `ArbitrationEncoder`\n",
        "2. The data is extracted. It is split into 8 features and eny missing data is filled with the default hex of `00`. The hex data is thereafter converted to float values and scaled.\n",
        "3. The timestamp information is extracted. It is parsed from float to datetime for use as the index in the preprocessed data\n",
        "4. When an object of `ROADPrep` is instantiated, an argument, `add_interval_feature`, may be passed. If set to `True`, a new feature `interval`, containing the time in between can messages for each is log is created, scaled and concatenated with the rest of the preprocessed data.\n",
        "5. For each attack dataset, a temporary array containing nothing but `0` is created. Attack rows are later changed to `1` using the `label_attacks()` method using injection interval information found in the metadata file.\n",
        "\n",
        "Note that the scalers and encoder are trained on the train data and then used to transform both train and attack data.\n",
        "\n",
        "\n",
        "### `ArbitrationEncoder`\n",
        "The `ArbitrationEncoder` class is a simple encoder written to preserve the priority of ID values used as arbitration values by mapping hex values to decimal, as opposed to one-hot encoding the hex strings representing the arbitration ID. For context, the lower the ID, the higher the priority of a message in the CAN protocol. Consult [this article](https://copperhilltech.com/blog/controller-area-network-can-bus-bus-arbitration/) for a more detailed explanation of the idea of message arbitration.\n",
        "\n",
        "Another reason this class was custom written is to be able to assign a default value to previously unseen ID values. During the preprocessing, possibly malicious ID's will be mapped to the same value.\n",
        "\n",
        "The `fit()` method stores valid ID values and computes the standard deviation and mean of the dataset. The `transform()` method uses this information to convert valid ID's to their corresponding float and invalid ID's to the default value discussed earlier. This value, `unknown_value`, is passed at instantiation. Finally, the `transform()` method normalizes the data, using the standard deviation and mean  computed during the `fit()` step.\n",
        "\n",
        "For convenience, a `fit_transform()` method is implemented that runs both methods at once.\n",
        "\n"
      ]
    },
    {
      "cell_type": "code",
      "execution_count": null,
      "metadata": {
        "id": "EJTm0SmS7NJ7"
      },
      "outputs": [],
      "source": [
        "class ArbitrationEncoder():\n",
        "    \"\"\"\n",
        "    Convert arbitration Id's into floats and normalize them. During transformation,\n",
        "    previously unseen id's are stored using an unknown_value parameter that is either\n",
        "    passed during instantiation or calculated as the negative of the number of unique valid ID's\n",
        "\n",
        "    Example\n",
        "    =======\n",
        "    >>> enc = ArbitrationEncoder(unknown_value = -150)\n",
        "    >>> enc.fit(df['arbitration_id'])\n",
        "    >>> enc.transform(test_df['arbitration_id'])\n",
        "    \"\"\"\n",
        "    def __init__(self, unknown_value:int|None=None):\n",
        "        self.valid_ids = {}\n",
        "        self.unknown_value = unknown_value if unknown_value else None\n",
        "\n",
        "    @np.vectorize\n",
        "    def make_float(self, val):\n",
        "        \"\"\"Convert hex to float\"\"\"\n",
        "        return float(int(val, base=16)) # convert to float\n",
        "\n",
        "    def fit(self, train_ids):\n",
        "        \"\"\"\n",
        "        Determine the unique elements, standard deviation and mean of the input array.\n",
        "        Also, calculate default value for unseen ID's if not passed at instantiation\n",
        "        \"\"\"\n",
        "        # if isinstance(train_ids, pd.DataFrame):\n",
        "        #     train_ids = arr.values\n",
        "        self.valid_ids = set(train_ids) # get unique train id's\n",
        "        self.converted_valid_ids = self.make_float(self,train_ids)\n",
        "        self.std = np.std(self.converted_valid_ids) # calculate std\n",
        "        self.mean = np.mean(self.converted_valid_ids) # calculate mean\n",
        "        if not self.unknown_value:\n",
        "            self.unknown_value = -(len(self.valid_ids))\n",
        "\n",
        "    @np.vectorize\n",
        "    def convert_and_scale(self, val):\n",
        "        \"\"\"\n",
        "        Normalize array (compute the z-score). Note that all previously unseen values have the\n",
        "        same transformation since `unknown_value` is a constant.\n",
        "        \"\"\"\n",
        "        if not val in self.valid_ids:\n",
        "            return (self.unknown_value - self.mean)/self.std\n",
        "        else:\n",
        "            converted_id = self.make_float(self, val) # convert from hex to float\n",
        "            return (converted_id - self.mean)/self.std #return z score\n",
        "\n",
        "    def transform(self, arr):\n",
        "        \"\"\"\n",
        "        Transform array after running the `fit()` method\n",
        "        \"\"\"\n",
        "        return self.convert_and_scale(self, arr)\n",
        "\n",
        "    def fit_transform(self, arr):\n",
        "        self.fit(arr)\n",
        "        return self.transform(arr)"
      ]
    },
    {
      "cell_type": "code",
      "execution_count": null,
      "metadata": {
        "id": "LnXHvuxX5Pr_"
      },
      "outputs": [],
      "source": [
        "# define preprocessor class\n",
        "class ROADPrep():\n",
        "    def __init__(self,\n",
        "                 *,\n",
        "                 dataset_path:str = data_path,\n",
        "                 load_attack_from:str,\n",
        "                 add_interval_feature:bool = True\n",
        "                ):\n",
        "        \"\"\"\n",
        "        Load and preprocess datasets; load standard scaler and one-hot encoder\n",
        "\n",
        "        Parameters\n",
        "        ==========\n",
        "        dataset_path: str. Path to the dataset\n",
        "        load_attack_from: str. Possible values are {'train', 'test', 'validation'}\n",
        "        \"\"\"\n",
        "        # to avoid wasting time, if load_attack_from argument is wrong, raise error\n",
        "        if load_attack_from not in ['test', 'validation']:\n",
        "            raise ValueError(\"Valid arguments for 'load_attack_from' parameter are 'test' and 'validation'\")\n",
        "\n",
        "        self.dataset_path = dataset_path\n",
        "        self.message_scaler = StandardScaler()\n",
        "        self.arbitration_encoder = ArbitrationEncoder()\n",
        "        self.load_attack_from = load_attack_from\n",
        "\n",
        "        # create a boolean and scaler for the interval feature if `add_interval_feature` == True\n",
        "        if add_interval_feature:\n",
        "            self.add_interval_feature = add_interval_feature\n",
        "            self.interval_scaler = StandardScaler()\n",
        "\n",
        "        # load and preprocess train dataset\n",
        "        train_path = dataset['train']['path']\n",
        "        self.train = self.load_csv(train_path, is_train=True) # generate train dataset\n",
        "\n",
        "        # load and preprocess attack datasets, generate temporary labels of 0 for attack and normal data\n",
        "        self.correlated_signal_attack_X, self.correlated_signal_attack_y = self.load_csv(dataset[self.load_attack_from]['correlated_signal_attack']['path'])\n",
        "        self.fuzzing_attack_X, self.fuzzing_attack_y = self.load_csv(dataset[self.load_attack_from]['fuzzing_attack']['path'])\n",
        "        self.max_speedometer_attack_X, self.max_speedometer_attack_y = self.load_csv(dataset[self.load_attack_from]['max_speedometer_attack']['path'])\n",
        "        self.reverse_light_off_attack_X, self.reverse_light_off_attack_y = self.load_csv(dataset[self.load_attack_from]['reverse_light_off_attack']['path'])\n",
        "        self.reverse_light_on_attack_X, self.reverse_light_on_attack_y = self.load_csv(dataset[self.load_attack_from]['reverse_light_on_attack']['path'])\n",
        "\n",
        "        # finally, label attack data\n",
        "        self.label_all_attacks()\n",
        "\n",
        "    def load_csv(self, file_path:str, is_train:bool = False)->tuple|pd.DataFrame:\n",
        "        \"\"\"Read csv into dataframe and add headers\"\"\"\n",
        "        df = pd.read_csv(data_path+file_path,\n",
        "                         delimiter=' ',\n",
        "                         names=['timestamp', '_', 'id_and_message'])\n",
        "\n",
        "        return self.prep(df, is_train) # preprocess the df for model building\n",
        "\n",
        "    def prep(self, df, is_train)->tuple|pd.DataFrame:\n",
        "        \"\"\"\n",
        "        Encode categorical and Numeric features; scale numeric features;\n",
        "        parse timestamp\n",
        "        \"\"\"\n",
        "        id_and_message = df['id_and_message'].str.split('#', expand=True)\n",
        "\n",
        "        # extract arbitration ID\n",
        "        arbit_id = id_and_message[0].values # extract the arbitration ID\n",
        "\n",
        "        # extract CAN packet data, convert to float and scale\n",
        "        message = id_and_message[1].apply(lambda x: ' '.join(x[i:i+2] for i in range(0, len(x), 2))) # space out\n",
        "        message = message.str.split(' ', expand=True) # split message into 8 features\n",
        "        message.fillna('00', inplace=True) # pad short messages with 00 to make 8 features\n",
        "        message = message.apply(lambda x : x.astype(str).map(lambda x : float(int(x, base=16)))) # convert hex values to float\n",
        "\n",
        "        timesteps = df['timestamp'].apply(lambda x: x.strip('()')).astype('float').values # strip parentheses, parse to float\n",
        "        if self.add_interval_feature:\n",
        "            # shift the timesteps by one element and pad it at the end with the last value so a difference can be calculated\n",
        "            shifted_timesteps = np.append(timesteps[1:], timesteps[-1])\n",
        "            interval = (shifted_timesteps - timesteps).reshape(-1, 1) # add interval feature\n",
        "\n",
        "        # parse the timestamp to datetime for use as an index\n",
        "        time_index = pd.Series(pd.to_datetime(timesteps, unit='s'), name='timestamp') # convert epoch to datetime\n",
        "\n",
        "        if is_train:\n",
        "            # if this is train data, fit the encoders before transforming data\n",
        "            arbit_id = self.arbitration_encoder.fit_transform(arbit_id) # fit and transform the arbitration_id in the train data\n",
        "            message = self.message_scaler.fit_transform(message) # fit and transform `message` features\n",
        "            if self.add_interval_feature:\n",
        "                # fit_transform interval; concatenate message, interval and id\n",
        "                interval = self.interval_scaler.fit_transform(interval)\n",
        "                data = pd.concat([pd.DataFrame(message), pd.DataFrame(interval), pd.DataFrame(arbit_id)], axis=1).set_index(time_index)\n",
        "            else:\n",
        "                # concatenate message and id only\n",
        "                data = pd.concat([pd.DataFrame(message), pd.DataFrame(arbit_id)], axis=1).set_index(time_index)\n",
        "\n",
        "            # return train data only as there are no labels\n",
        "            return data\n",
        "\n",
        "        else:\n",
        "            # if this is not train data, only transform the data. do not fit encoders\n",
        "            arbit_id = self.arbitration_encoder.transform(arbit_id)\n",
        "            message = self.message_scaler.transform(message)\n",
        "            if self.add_interval_feature:\n",
        "                # transform interval; concatenate message,interval and id\n",
        "                interval = self.interval_scaler.transform(interval)\n",
        "                data = pd.concat([pd.DataFrame(message), pd.DataFrame(interval), pd.DataFrame(arbit_id)], axis=1).set_index(time_index)\n",
        "            else:\n",
        "                # concatenate message and id only\n",
        "                data = pd.concat([pd.DataFrame(message), pd.DataFrame(arbit_id)], axis=1).set_index(time_index)\n",
        "\n",
        "            # `is_train` being False means this is an attack dataset, thus generate a temporary label series with all values being 0.\n",
        "            # Attack timestamps in the label will be changed to 1 by the label_attack() method\n",
        "            dummy_label = pd.Series(np.zeros(data.shape[0], dtype='int'), index=data.index)\n",
        "            return data, dummy_label\n",
        "\n",
        "\n",
        "    def label_attack(self, attack_data, attack_name:str):\n",
        "        \"\"\"\n",
        "        Obtain the attack interval bounds from the metadata.json file and convert to datetime\n",
        "\n",
        "        Parameters\n",
        "        ==========\n",
        "        attack_data: pd.Series. The temporary label to update\n",
        "        attack_name: str. The name of the attack data so it can be searched up in the metadata file\n",
        "        \"\"\"\n",
        "        # get attack interval in seconds\n",
        "        attack_start_s, attack_stop_s = dataset[self.load_attack_from][attack_name]['injection_interval'] # interval bound\n",
        "\n",
        "        # get start time in seconds\n",
        "        record_start = attack_data.index[0]\n",
        "\n",
        "        # label interval in timestamps by calculating the attack interval\n",
        "        attack_start_t = record_start + timedelta(seconds=attack_start_s)\n",
        "        attack_stop_t = record_start + timedelta(seconds=attack_stop_s)\n",
        "\n",
        "        attack_data.loc[attack_start_t:attack_stop_t]=1 # replace 0's with 1's\n",
        "\n",
        "        return attack_data\n",
        "\n",
        "\n",
        "    def label_all_attacks(self):\n",
        "        \"\"\"Label attack timestamps in the attack datasets using the intervals provided in the metadata.json\"\"\"\n",
        "        self.correlated_signal_attack_y = self.label_attack(self.correlated_signal_attack_y, 'correlated_signal_attack')\n",
        "        self.fuzzing_attack_y = self.label_attack(self.fuzzing_attack_y, 'fuzzing_attack')\n",
        "        self.max_speedometer_attack_y = self.label_attack(self.max_speedometer_attack_y, 'max_speedometer_attack')\n",
        "        self.reverse_light_off_attack_y = self.label_attack(self.reverse_light_off_attack_y, 'reverse_light_off_attack')\n",
        "        self.reverse_light_on_attack_y = self.label_attack(self.reverse_light_on_attack_y, 'reverse_light_on_attack')"
      ]
    },
    {
      "cell_type": "markdown",
      "metadata": {
        "id": "ycWblXVAZqoS"
      },
      "source": [
        "Great, let's create the datasets that will be used to test and validate the flam attacks."
      ]
    },
    {
      "cell_type": "code",
      "execution_count": null,
      "metadata": {
        "id": "Sucg5if57NJ-"
      },
      "outputs": [],
      "source": [
        "road_test = ROADPrep(load_attack_from='test') # dataset for training"
      ]
    },
    {
      "cell_type": "code",
      "execution_count": null,
      "metadata": {
        "id": "a0P1WND0Z6-k"
      },
      "outputs": [],
      "source": [
        "road_valid = ROADPrep(load_attack_from='validation') # dataset for validation"
      ]
    },
    {
      "cell_type": "markdown",
      "metadata": {
        "id": "45zHAvFjZ-Ai"
      },
      "source": [
        "Take a look at some of the data after preprocessing"
      ]
    },
    {
      "cell_type": "code",
      "execution_count": null,
      "metadata": {
        "colab": {
          "base_uri": "https://localhost:8080/",
          "height": 174
        },
        "id": "sL5T_wct7NJ_",
        "outputId": "044facb5-80f0-475b-8783-52f5040654ed"
      },
      "outputs": [
        {
          "output_type": "execute_result",
          "data": {
            "text/plain": [
              "                                      0         1         2         3         4         5         6         7         0         0\n",
              "timestamp                                                                                                                        \n",
              "2002-08-22 07:06:40.000000000 -0.742562 -0.693366 -0.721381 -0.726897  2.262620 -0.501874  2.015894  1.644356 -0.664669 -0.621172\n",
              "2002-08-22 07:06:40.000002048 -0.742562 -0.584288  2.388608 -0.275816 -0.762142 -0.153693  0.841268  1.069590 -0.666383 -0.813723\n",
              "2002-08-22 07:06:40.000002944 -0.742562 -0.802445 -0.721381 -0.764487 -0.775124 -0.729530 -0.850194 -0.929597 -0.666192  3.230873"
            ],
            "text/html": [
              "\n",
              "  <div id=\"df-d6a18c0f-0023-4f5c-8852-6e81e86b21ce\" class=\"colab-df-container\">\n",
              "    <div>\n",
              "<style scoped>\n",
              "    .dataframe tbody tr th:only-of-type {\n",
              "        vertical-align: middle;\n",
              "    }\n",
              "\n",
              "    .dataframe tbody tr th {\n",
              "        vertical-align: top;\n",
              "    }\n",
              "\n",
              "    .dataframe thead th {\n",
              "        text-align: right;\n",
              "    }\n",
              "</style>\n",
              "<table border=\"1\" class=\"dataframe\">\n",
              "  <thead>\n",
              "    <tr style=\"text-align: right;\">\n",
              "      <th></th>\n",
              "      <th>0</th>\n",
              "      <th>1</th>\n",
              "      <th>2</th>\n",
              "      <th>3</th>\n",
              "      <th>4</th>\n",
              "      <th>5</th>\n",
              "      <th>6</th>\n",
              "      <th>7</th>\n",
              "      <th>0</th>\n",
              "      <th>0</th>\n",
              "    </tr>\n",
              "    <tr>\n",
              "      <th>timestamp</th>\n",
              "      <th></th>\n",
              "      <th></th>\n",
              "      <th></th>\n",
              "      <th></th>\n",
              "      <th></th>\n",
              "      <th></th>\n",
              "      <th></th>\n",
              "      <th></th>\n",
              "      <th></th>\n",
              "      <th></th>\n",
              "    </tr>\n",
              "  </thead>\n",
              "  <tbody>\n",
              "    <tr>\n",
              "      <th>2002-08-22 07:06:40.000000000</th>\n",
              "      <td>-0.742562</td>\n",
              "      <td>-0.693366</td>\n",
              "      <td>-0.721381</td>\n",
              "      <td>-0.726897</td>\n",
              "      <td>2.262620</td>\n",
              "      <td>-0.501874</td>\n",
              "      <td>2.015894</td>\n",
              "      <td>1.644356</td>\n",
              "      <td>-0.664669</td>\n",
              "      <td>-0.621172</td>\n",
              "    </tr>\n",
              "    <tr>\n",
              "      <th>2002-08-22 07:06:40.000002048</th>\n",
              "      <td>-0.742562</td>\n",
              "      <td>-0.584288</td>\n",
              "      <td>2.388608</td>\n",
              "      <td>-0.275816</td>\n",
              "      <td>-0.762142</td>\n",
              "      <td>-0.153693</td>\n",
              "      <td>0.841268</td>\n",
              "      <td>1.069590</td>\n",
              "      <td>-0.666383</td>\n",
              "      <td>-0.813723</td>\n",
              "    </tr>\n",
              "    <tr>\n",
              "      <th>2002-08-22 07:06:40.000002944</th>\n",
              "      <td>-0.742562</td>\n",
              "      <td>-0.802445</td>\n",
              "      <td>-0.721381</td>\n",
              "      <td>-0.764487</td>\n",
              "      <td>-0.775124</td>\n",
              "      <td>-0.729530</td>\n",
              "      <td>-0.850194</td>\n",
              "      <td>-0.929597</td>\n",
              "      <td>-0.666192</td>\n",
              "      <td>3.230873</td>\n",
              "    </tr>\n",
              "  </tbody>\n",
              "</table>\n",
              "</div>\n",
              "    <div class=\"colab-df-buttons\">\n",
              "\n",
              "  <div class=\"colab-df-container\">\n",
              "    <button class=\"colab-df-convert\" onclick=\"convertToInteractive('df-d6a18c0f-0023-4f5c-8852-6e81e86b21ce')\"\n",
              "            title=\"Convert this dataframe to an interactive table.\"\n",
              "            style=\"display:none;\">\n",
              "\n",
              "  <svg xmlns=\"http://www.w3.org/2000/svg\" height=\"24px\" viewBox=\"0 -960 960 960\">\n",
              "    <path d=\"M120-120v-720h720v720H120Zm60-500h600v-160H180v160Zm220 220h160v-160H400v160Zm0 220h160v-160H400v160ZM180-400h160v-160H180v160Zm440 0h160v-160H620v160ZM180-180h160v-160H180v160Zm440 0h160v-160H620v160Z\"/>\n",
              "  </svg>\n",
              "    </button>\n",
              "\n",
              "  <style>\n",
              "    .colab-df-container {\n",
              "      display:flex;\n",
              "      gap: 12px;\n",
              "    }\n",
              "\n",
              "    .colab-df-convert {\n",
              "      background-color: #E8F0FE;\n",
              "      border: none;\n",
              "      border-radius: 50%;\n",
              "      cursor: pointer;\n",
              "      display: none;\n",
              "      fill: #1967D2;\n",
              "      height: 32px;\n",
              "      padding: 0 0 0 0;\n",
              "      width: 32px;\n",
              "    }\n",
              "\n",
              "    .colab-df-convert:hover {\n",
              "      background-color: #E2EBFA;\n",
              "      box-shadow: 0px 1px 2px rgba(60, 64, 67, 0.3), 0px 1px 3px 1px rgba(60, 64, 67, 0.15);\n",
              "      fill: #174EA6;\n",
              "    }\n",
              "\n",
              "    .colab-df-buttons div {\n",
              "      margin-bottom: 4px;\n",
              "    }\n",
              "\n",
              "    [theme=dark] .colab-df-convert {\n",
              "      background-color: #3B4455;\n",
              "      fill: #D2E3FC;\n",
              "    }\n",
              "\n",
              "    [theme=dark] .colab-df-convert:hover {\n",
              "      background-color: #434B5C;\n",
              "      box-shadow: 0px 1px 3px 1px rgba(0, 0, 0, 0.15);\n",
              "      filter: drop-shadow(0px 1px 2px rgba(0, 0, 0, 0.3));\n",
              "      fill: #FFFFFF;\n",
              "    }\n",
              "  </style>\n",
              "\n",
              "    <script>\n",
              "      const buttonEl =\n",
              "        document.querySelector('#df-d6a18c0f-0023-4f5c-8852-6e81e86b21ce button.colab-df-convert');\n",
              "      buttonEl.style.display =\n",
              "        google.colab.kernel.accessAllowed ? 'block' : 'none';\n",
              "\n",
              "      async function convertToInteractive(key) {\n",
              "        const element = document.querySelector('#df-d6a18c0f-0023-4f5c-8852-6e81e86b21ce');\n",
              "        const dataTable =\n",
              "          await google.colab.kernel.invokeFunction('convertToInteractive',\n",
              "                                                    [key], {});\n",
              "        if (!dataTable) return;\n",
              "\n",
              "        const docLinkHtml = 'Like what you see? Visit the ' +\n",
              "          '<a target=\"_blank\" href=https://colab.research.google.com/notebooks/data_table.ipynb>data table notebook</a>'\n",
              "          + ' to learn more about interactive tables.';\n",
              "        element.innerHTML = '';\n",
              "        dataTable['output_type'] = 'display_data';\n",
              "        await google.colab.output.renderOutput(dataTable, element);\n",
              "        const docLink = document.createElement('div');\n",
              "        docLink.innerHTML = docLinkHtml;\n",
              "        element.appendChild(docLink);\n",
              "      }\n",
              "    </script>\n",
              "  </div>\n",
              "\n",
              "    </div>\n",
              "  </div>\n"
            ]
          },
          "metadata": {},
          "execution_count": 12
        }
      ],
      "source": [
        "road_test.train.head(3)"
      ]
    },
    {
      "cell_type": "code",
      "execution_count": null,
      "metadata": {
        "colab": {
          "base_uri": "https://localhost:8080/",
          "height": 174
        },
        "id": "3adE1rgd7NJ_",
        "outputId": "9633ea93-58e6-48cb-862e-68d6c43a8289"
      },
      "outputs": [
        {
          "output_type": "execute_result",
          "data": {
            "text/plain": [
              "                                      0         1         2         3         4         5         6         7         0         0\n",
              "timestamp                                                                                                                        \n",
              "2008-12-23 02:40:00.000000000 -0.742562 -0.802445 -0.721381 -0.764487 -0.775124 -0.729530 -0.850194 -0.929597 -0.666383  3.230873\n",
              "2008-12-23 02:40:00.000001024  1.361875 -0.802445 -0.323302 -0.764487  2.483310  0.984589 -0.850194 -0.917102 -0.666383  0.225228\n",
              "2008-12-23 02:40:00.000001792  1.218391  0.356514 -0.335742  1.591158  0.626911  0.020397 -0.368597 -0.354831 -0.666002  0.003846"
            ],
            "text/html": [
              "\n",
              "  <div id=\"df-1bad1e9e-f958-46fe-a97e-b50655a44c34\" class=\"colab-df-container\">\n",
              "    <div>\n",
              "<style scoped>\n",
              "    .dataframe tbody tr th:only-of-type {\n",
              "        vertical-align: middle;\n",
              "    }\n",
              "\n",
              "    .dataframe tbody tr th {\n",
              "        vertical-align: top;\n",
              "    }\n",
              "\n",
              "    .dataframe thead th {\n",
              "        text-align: right;\n",
              "    }\n",
              "</style>\n",
              "<table border=\"1\" class=\"dataframe\">\n",
              "  <thead>\n",
              "    <tr style=\"text-align: right;\">\n",
              "      <th></th>\n",
              "      <th>0</th>\n",
              "      <th>1</th>\n",
              "      <th>2</th>\n",
              "      <th>3</th>\n",
              "      <th>4</th>\n",
              "      <th>5</th>\n",
              "      <th>6</th>\n",
              "      <th>7</th>\n",
              "      <th>0</th>\n",
              "      <th>0</th>\n",
              "    </tr>\n",
              "    <tr>\n",
              "      <th>timestamp</th>\n",
              "      <th></th>\n",
              "      <th></th>\n",
              "      <th></th>\n",
              "      <th></th>\n",
              "      <th></th>\n",
              "      <th></th>\n",
              "      <th></th>\n",
              "      <th></th>\n",
              "      <th></th>\n",
              "      <th></th>\n",
              "    </tr>\n",
              "  </thead>\n",
              "  <tbody>\n",
              "    <tr>\n",
              "      <th>2008-12-23 02:40:00.000000000</th>\n",
              "      <td>-0.742562</td>\n",
              "      <td>-0.802445</td>\n",
              "      <td>-0.721381</td>\n",
              "      <td>-0.764487</td>\n",
              "      <td>-0.775124</td>\n",
              "      <td>-0.729530</td>\n",
              "      <td>-0.850194</td>\n",
              "      <td>-0.929597</td>\n",
              "      <td>-0.666383</td>\n",
              "      <td>3.230873</td>\n",
              "    </tr>\n",
              "    <tr>\n",
              "      <th>2008-12-23 02:40:00.000001024</th>\n",
              "      <td>1.361875</td>\n",
              "      <td>-0.802445</td>\n",
              "      <td>-0.323302</td>\n",
              "      <td>-0.764487</td>\n",
              "      <td>2.483310</td>\n",
              "      <td>0.984589</td>\n",
              "      <td>-0.850194</td>\n",
              "      <td>-0.917102</td>\n",
              "      <td>-0.666383</td>\n",
              "      <td>0.225228</td>\n",
              "    </tr>\n",
              "    <tr>\n",
              "      <th>2008-12-23 02:40:00.000001792</th>\n",
              "      <td>1.218391</td>\n",
              "      <td>0.356514</td>\n",
              "      <td>-0.335742</td>\n",
              "      <td>1.591158</td>\n",
              "      <td>0.626911</td>\n",
              "      <td>0.020397</td>\n",
              "      <td>-0.368597</td>\n",
              "      <td>-0.354831</td>\n",
              "      <td>-0.666002</td>\n",
              "      <td>0.003846</td>\n",
              "    </tr>\n",
              "  </tbody>\n",
              "</table>\n",
              "</div>\n",
              "    <div class=\"colab-df-buttons\">\n",
              "\n",
              "  <div class=\"colab-df-container\">\n",
              "    <button class=\"colab-df-convert\" onclick=\"convertToInteractive('df-1bad1e9e-f958-46fe-a97e-b50655a44c34')\"\n",
              "            title=\"Convert this dataframe to an interactive table.\"\n",
              "            style=\"display:none;\">\n",
              "\n",
              "  <svg xmlns=\"http://www.w3.org/2000/svg\" height=\"24px\" viewBox=\"0 -960 960 960\">\n",
              "    <path d=\"M120-120v-720h720v720H120Zm60-500h600v-160H180v160Zm220 220h160v-160H400v160Zm0 220h160v-160H400v160ZM180-400h160v-160H180v160Zm440 0h160v-160H620v160ZM180-180h160v-160H180v160Zm440 0h160v-160H620v160Z\"/>\n",
              "  </svg>\n",
              "    </button>\n",
              "\n",
              "  <style>\n",
              "    .colab-df-container {\n",
              "      display:flex;\n",
              "      gap: 12px;\n",
              "    }\n",
              "\n",
              "    .colab-df-convert {\n",
              "      background-color: #E8F0FE;\n",
              "      border: none;\n",
              "      border-radius: 50%;\n",
              "      cursor: pointer;\n",
              "      display: none;\n",
              "      fill: #1967D2;\n",
              "      height: 32px;\n",
              "      padding: 0 0 0 0;\n",
              "      width: 32px;\n",
              "    }\n",
              "\n",
              "    .colab-df-convert:hover {\n",
              "      background-color: #E2EBFA;\n",
              "      box-shadow: 0px 1px 2px rgba(60, 64, 67, 0.3), 0px 1px 3px 1px rgba(60, 64, 67, 0.15);\n",
              "      fill: #174EA6;\n",
              "    }\n",
              "\n",
              "    .colab-df-buttons div {\n",
              "      margin-bottom: 4px;\n",
              "    }\n",
              "\n",
              "    [theme=dark] .colab-df-convert {\n",
              "      background-color: #3B4455;\n",
              "      fill: #D2E3FC;\n",
              "    }\n",
              "\n",
              "    [theme=dark] .colab-df-convert:hover {\n",
              "      background-color: #434B5C;\n",
              "      box-shadow: 0px 1px 3px 1px rgba(0, 0, 0, 0.15);\n",
              "      filter: drop-shadow(0px 1px 2px rgba(0, 0, 0, 0.3));\n",
              "      fill: #FFFFFF;\n",
              "    }\n",
              "  </style>\n",
              "\n",
              "    <script>\n",
              "      const buttonEl =\n",
              "        document.querySelector('#df-1bad1e9e-f958-46fe-a97e-b50655a44c34 button.colab-df-convert');\n",
              "      buttonEl.style.display =\n",
              "        google.colab.kernel.accessAllowed ? 'block' : 'none';\n",
              "\n",
              "      async function convertToInteractive(key) {\n",
              "        const element = document.querySelector('#df-1bad1e9e-f958-46fe-a97e-b50655a44c34');\n",
              "        const dataTable =\n",
              "          await google.colab.kernel.invokeFunction('convertToInteractive',\n",
              "                                                    [key], {});\n",
              "        if (!dataTable) return;\n",
              "\n",
              "        const docLinkHtml = 'Like what you see? Visit the ' +\n",
              "          '<a target=\"_blank\" href=https://colab.research.google.com/notebooks/data_table.ipynb>data table notebook</a>'\n",
              "          + ' to learn more about interactive tables.';\n",
              "        element.innerHTML = '';\n",
              "        dataTable['output_type'] = 'display_data';\n",
              "        await google.colab.output.renderOutput(dataTable, element);\n",
              "        const docLink = document.createElement('div');\n",
              "        docLink.innerHTML = docLinkHtml;\n",
              "        element.appendChild(docLink);\n",
              "      }\n",
              "    </script>\n",
              "  </div>\n",
              "\n",
              "    </div>\n",
              "  </div>\n"
            ]
          },
          "metadata": {},
          "execution_count": 13
        }
      ],
      "source": [
        "road_test.reverse_light_on_attack_X.head(3)"
      ]
    },
    {
      "cell_type": "markdown",
      "metadata": {
        "id": "YOnprH80CpeM"
      },
      "source": [
        "## An Overview of the Methods\n",
        "All three methods will solve the problem of intrusion detection by framing it as a <ins>novelty detection</ins> problem. With novelty detection, any data point that does not conform to the properties of data the algorithm was presented with during training is considered novel (in this case, an attack).\n",
        "\n",
        "### Why novelty detection?\n",
        "The problem with attack data is that they resemble normal data, making them difficult to detect. Consider the following attacks:\n",
        "- Denial of Service (DOS)  \n",
        "A DOS attack occurs when data is transmitted so many times using a high priority ID e.g `0`, so that proper functioning of the CAN is inhibited. The payload may even be regular signals, even if the ID is not regularly seen.\n",
        "- Replay attack  \n",
        " A replay attack is the repeated transmission of data from a single ID to fool the protocol, launch a masquerade attack etc. The ID and payload may be valid, however the ECU has been compromised.\n",
        "\n",
        "This presents a question — how does an algorithm tell this kind of data apart from regular, normal data? The answer to this question is a principle backing many implementations of CAN intrusion detection systems in research: the context of attack transmission is different from regular transmission. Here are some context clues for when there is an attack:\n",
        "1. Usually, attacks *increase CAN transmission rates*. This is demonstrated in (Young, Olufowobi, Bloom & Zambreno, 2019) and is in fact the basis of method 1.\n",
        "2. Some arbitration ID's *are not seen as often*, or even ever. Perhaps an increase in transmission rates from an ID indicates an anomaly. What happens when an arbitration ID that never transmits normally suddenly starts transmitting? Will that help identify anomalies?\n",
        "3. Attack data can *contain weird payloads*. Take for instance the fuzzing and targeted ID attacks.\n",
        "\n",
        "Methods 2 and 3 operate using the second and third context clues. It is therefore reasonable to study the context of regular transmission and use these clues to discriminate the transmission of attacks. Hence, the framing of the problem as novelty detection.\n",
        "\n",
        "## Scoring and Testing the methods\n",
        "It is not enough that a method detects anomalies. If the model were to predict wrongly most of the time, it would be annoying. We want the model to detect as many anomalies but not to the point where there are so many spurious detections. Hence we want a model that scores a high true positive rate for the attack class and a low false positive rate so we don't have an incessant detector. We want a model that balances precision and recall. Thus, the F1 score is a good metric.\n",
        "\n"
      ]
    },
    {
      "cell_type": "markdown",
      "metadata": {
        "id": "uv7oHA5RUEVo"
      },
      "source": [
        "### A Pattern to the Three Approaches\n",
        "For uniformity, each method will be modeled as a class that implements the following methods:\n",
        "- `__init__()`  \n",
        "While the different methods may create different attributes and call different methods upon object initialization, the different classes initialize a common attribute: `attack_f1`. `attack_f1` is a dictionary to store the F1 scores of each model on the different attack datasets. These values are visualized using the `chart_f1()` method.\n",
        "- `fit()`  \n",
        "The different methods follow a common principle: learn the representation of normal activity. The `fit` method learns this representation differently for each method: for method 1 (message frequency detection), it learns the normal rate; for method 2 (isolation forest), it learns anomaly scores by recursively partitioning data. for method 3 (autoencoder), it learns a latent representation of normal data to arrive at a consistent error of reconstruction.\n",
        "- `detect_anomalies()`  \n",
        "This method uses the model's internal representation of normal data to detect an anomaly. When predictions have been made, it prints the classification report and stores the F1 score of the model on the target class in the model's `attack_f1` attribute.\n",
        "- `chart_f1()`  \n",
        "Each model defines a `chart_f1()` method to visualize the performance of the model on the different attack datasets as a barplot of F1 values.\n",
        "\n",
        "The uniformity of the three methods allows us to define a single testing function, `test_method`, that runs the `detect_anomalies()` method for each attack type and visualizes their F1 scores:"
      ]
    },
    {
      "cell_type": "code",
      "execution_count": null,
      "metadata": {
        "id": "E-TsZjcXLABE"
      },
      "outputs": [],
      "source": [
        "def test_method(model,\n",
        "                  dset:ROADPrep,\n",
        "                  print_report:bool=False):\n",
        "\n",
        "    attack_dict = {\n",
        "        'Correlated Signal':{\n",
        "            'test':dset.correlated_signal_attack_X,\n",
        "            'label':dset.correlated_signal_attack_y\n",
        "        },\n",
        "\n",
        "        'Fuzzing':{\n",
        "            'test':dset.fuzzing_attack_X,\n",
        "            'label':dset.fuzzing_attack_y\n",
        "        },\n",
        "\n",
        "        'Max Speedometer':{\n",
        "            'test':dset.max_speedometer_attack_X,\n",
        "            'label':dset.max_speedometer_attack_y\n",
        "        },\n",
        "\n",
        "        'Reverse Light Off':{\n",
        "            'test':dset.reverse_light_off_attack_X,\n",
        "            'label':dset.reverse_light_off_attack_y\n",
        "        },\n",
        "\n",
        "        'Reverse Light On':{\n",
        "            'test':dset.reverse_light_on_attack_X,\n",
        "            'label':dset.reverse_light_on_attack_y\n",
        "        },\n",
        "    }\n",
        "\n",
        "    for attack_name, data in attack_dict.items():\n",
        "        preds = model.detect_anomalies(data['test'],\n",
        "                                      data['label'],\n",
        "                                      attack_name=attack_name,\n",
        "                                      print_report=print_report,\n",
        "                                      return_preds=print_report) # return the predictions\n",
        "\n",
        "        if print_report:\n",
        "            print(f\"Predictions for '{attack_name}' attack:\")\n",
        "            print(Counter(preds))\n",
        "            print('\\n=================================================================')\n",
        "\n",
        "    print(f'\\nF1 Scores of the {model.model_name_} method:')\n",
        "    for i, j in model.attack_f1.items():\n",
        "        print(f'{i:<20}: {round(j,5)}')\n",
        "\n",
        "    print()\n",
        "    model.chart_f1() # display f1 as barplot"
      ]
    },
    {
      "cell_type": "markdown",
      "metadata": {
        "id": "QO3fyWKZ_Mjd"
      },
      "source": [
        "## Method 1: Frequency-based Detection\n",
        "Young, Olufowobi, Bloom & Zambreno (2019) propose that a more than double increase in the frequency of CAN message transmission is a simple indicator that there are anomalies in a CAN bus.\n",
        "\n",
        "To implement this idea, a class, `Freq`, is defined. It defines a window (here, one second) and determines the average number of normal messages transmitted in that window. At inference time, if the frequency is greater than a given threshold, there is an anomaly. Remember the first context clue?\n",
        "\n",
        "Note that this method only cares about *how many* messages were transmitted in each window and not what those messages were. For this, a dummy feature containing only the numeric value `1` is created and used to count the number of messages per second.\n",
        "\n",
        "That average number of messages per second during normal CAN transmission is stored as `normal_rate` and then used in anomaly detection at inference time."
      ]
    },
    {
      "cell_type": "code",
      "execution_count": null,
      "metadata": {
        "id": "enOqr1BIRdCJ"
      },
      "outputs": [],
      "source": [
        "class Freq:\n",
        "    def __init__(self, threshold):\n",
        "        self.normal_rate:float|None = None\n",
        "        self.confusion_matrix = None\n",
        "        self.threshold = threshold\n",
        "        self.model_name_ = 'Frequency Detection'\n",
        "\n",
        "        # store f1 scores for visualization later\n",
        "        self.attack_f1 = dict()\n",
        "\n",
        "    def get_freq(self, df):\n",
        "        \"\"\"Obtain the frequency of CAN messages for each second\"\"\"\n",
        "        # replace the data with a counting column but retain the timestamps\n",
        "        df = pd.concat([pd.Series(df.index),\n",
        "                        pd.Series(np.ones(df.shape[0]), name='message_count')], axis=1)\n",
        "\n",
        "        # group by second\n",
        "        freqs = df.groupby(pd.Grouper(key='timestamp', axis=0, freq='S')).count()\n",
        "\n",
        "        return freqs\n",
        "\n",
        "    def fit(self, train_X:pd.DataFrame):\n",
        "        \"\"\"Obtain the normal rate by calculating average frequency of normal messages\"\"\"\n",
        "        print(\"\\nStarting training\")\n",
        "        self.train_freqs = self.get_freq(train_X)\n",
        "        self.normal_rate = self.train_freqs[1:-1].mean()\n",
        "        print('Training complete')\n",
        "\n",
        "    def predict(self, test_X:pd.DataFrame):\n",
        "        self.test_freqs = self.get_freq(test_X)\n",
        "        preds = (self.test_freqs > (self.threshold * self.normal_rate)).astype(int)\n",
        "        return preds.loc[:,'message_count'].values\n",
        "\n",
        "    def transform_labels(self, labels):\n",
        "        \"\"\"Transform the label by grouping by second\"\"\"\n",
        "        label_df = labels.reset_index()\n",
        "        labels = label_df.groupby(pd.Grouper(key='timestamp', axis=0, freq='S')).any().astype(int)\n",
        "        # labels = label_df.groupby(pd.Grouper(key='timestamp', axis=0, freq='S')).sum()\n",
        "\n",
        "        return labels\n",
        "\n",
        "    def detect_anomalies(self, test_X, test_labels, attack_name, print_report=True, return_preds=False):\n",
        "        labels = self.transform_labels(test_labels)\n",
        "\n",
        "        # instantiate isolation forest model\n",
        "        preds = self.predict(test_X)\n",
        "        if print_report:\n",
        "            print(f'Performance of the {self.model_name_} method on {attack_name} attack:')\n",
        "            print(classification_report(labels, preds))\n",
        "\n",
        "        self.attack_f1[attack_name] = f1_score(labels, preds) # store the f1 score\n",
        "\n",
        "        if return_preds: return preds\n",
        "\n",
        "    def chart_f1(self):\n",
        "        plt.figure(figsize=(13,5))\n",
        "        plt.title(f'F1 scores of the {self.model_name_} model on several attack types')\n",
        "        x, y = list(self.attack_f1.keys()), list(self.attack_f1.values())\n",
        "        sns.barplot(x=x, y=y)\n",
        "        plt.ylim(ymax=1.0)"
      ]
    },
    {
      "cell_type": "markdown",
      "metadata": {
        "id": "sOekrzvBjlVa"
      },
      "source": [
        "When we call the `detect_anomalies` method of the `Freq` class above:\n",
        "- the `normal_rate` is obtained from training data\n",
        "- predictions are made using the `normal_rate` and the test data. Note that predictions show whether an anomaly occurred at a given second.\n",
        "- the actual labels are processed into windows of one second so they indicate an anomaly occurred at a given second. This allows for comparison.\n",
        "- the classification report is printed"
      ]
    },
    {
      "cell_type": "code",
      "execution_count": null,
      "metadata": {
        "colab": {
          "base_uri": "https://localhost:8080/"
        },
        "id": "sH4Y6Exk6ETQ",
        "outputId": "d8352f08-40f9-48b0-ff81-06906d76154f"
      },
      "outputs": [
        {
          "output_type": "stream",
          "name": "stdout",
          "text": [
            "\n",
            "Starting training\n",
            "Training complete\n",
            "Normal rate of CAN transmission: message_count    2391.507901\n",
            "dtype: float64\n"
          ]
        }
      ],
      "source": [
        "# initialize the model on training data to get a value for normal rate\n",
        "freq = Freq(threshold=2)\n",
        "freq.fit(road_test.train)\n",
        "print(f'Normal rate of CAN transmission: {freq.normal_rate}')"
      ]
    },
    {
      "cell_type": "markdown",
      "metadata": {
        "id": "3daEAFVrLHeP"
      },
      "source": [
        "Let's test the frequency detection method"
      ]
    },
    {
      "cell_type": "code",
      "execution_count": null,
      "metadata": {
        "colab": {
          "base_uri": "https://localhost:8080/",
          "height": 613
        },
        "id": "_LeTJkEvLM81",
        "outputId": "324823b8-ddbb-4b1f-b509-a0ef82705fb6"
      },
      "outputs": [
        {
          "output_type": "stream",
          "name": "stdout",
          "text": [
            "\n",
            "F1 Scores of the Frequency Detection method:\n",
            "Correlated Signal   : 0.0\n",
            "Fuzzing             : 0.0\n",
            "Max Speedometer     : 0.0\n",
            "Reverse Light Off   : 0.0\n",
            "Reverse Light On    : 0.0\n",
            "\n"
          ]
        },
        {
          "output_type": "display_data",
          "data": {
            "text/plain": [
              "<Figure size 1300x500 with 1 Axes>"
            ],
            "image/png": "[encoded data removed]"
          },
          "metadata": {}
        }
      ],
      "source": [
        "test_method(model=freq,\n",
        "              dset=road_test,\n",
        "              print_report=False)"
      ]
    },
    {
      "cell_type": "markdown",
      "metadata": {
        "id": "uFWYxoPhAXl1"
      },
      "source": [
        "#### Hyperparameter Tuning\n",
        "The authors' decision to make the threshold `2` (meaning that when the transmission rate doubles, there is an attack) may have been influenced by the nature of attacks they studied: synthetic injection attacks added in post-processing. It will be useful to use a more lenient value for threshold.   \n",
        "  \n",
        "Let's set the threshold value to 1.003 (so if there are on average 1405 messages per second, 1410 messages in a single second will indicate an attack). The tuning will be done on the same test data but evaluated against the validation data to avoid data leakage."
      ]
    },
    {
      "cell_type": "code",
      "execution_count": null,
      "metadata": {
        "colab": {
          "base_uri": "https://localhost:8080/"
        },
        "id": "CergX5eMWzUn",
        "outputId": "6821c7b7-84ca-4e32-9308-6a619fddb348"
      },
      "outputs": [
        {
          "output_type": "stream",
          "name": "stdout",
          "text": [
            "\n",
            "Starting training\n",
            "Training complete\n",
            "Normal rate of CAN transmission: message_count    2391.507901\n",
            "dtype: float64\n"
          ]
        }
      ],
      "source": [
        "# initialize the model on training data to get a value for normal rate\n",
        "freq2 = Freq(threshold=1.003)\n",
        "freq2.fit(road_test.train)\n",
        "print(f'Normal rate of CAN transmission: {freq2.normal_rate}')"
      ]
    },
    {
      "cell_type": "code",
      "execution_count": null,
      "metadata": {
        "colab": {
          "base_uri": "https://localhost:8080/",
          "height": 613
        },
        "id": "p0UOdcGpZCtc",
        "outputId": "a2e14f6d-612f-4994-befd-42d19ef98505"
      },
      "outputs": [
        {
          "output_type": "stream",
          "name": "stdout",
          "text": [
            "\n",
            "F1 Scores of the Frequency Detection method:\n",
            "Correlated Signal   : 0.97674\n",
            "Fuzzing             : 0.66667\n",
            "Max Speedometer     : 1.0\n",
            "Reverse Light Off   : 1.0\n",
            "Reverse Light On    : 0.97674\n",
            "\n"
          ]
        },
        {
          "output_type": "display_data",
          "data": {
            "text/plain": [
              "<Figure size 1300x500 with 1 Axes>"
            ],
            "image/png": "[encoded data removed]"
          },
          "metadata": {}
        }
      ],
      "source": [
        "test_method(model=freq2,\n",
        "              dset=road_test,\n",
        "              print_report=False)"
      ]
    },
    {
      "cell_type": "markdown",
      "metadata": {
        "id": "C2VWFWNhZKgL"
      },
      "source": [
        "Great choice of threshold. Let's evaluate with the validation data"
      ]
    },
    {
      "cell_type": "code",
      "execution_count": null,
      "metadata": {
        "colab": {
          "base_uri": "https://localhost:8080/",
          "height": 1000
        },
        "id": "cajj46XjZJxz",
        "outputId": "3cae0f01-f175-4259-cd46-375b58b44c68"
      },
      "outputs": [
        {
          "output_type": "stream",
          "name": "stdout",
          "text": [
            "Performance of the Frequency Detection method on Correlated Signal attack:\n",
            "              precision    recall  f1-score   support\n",
            "\n",
            "           0       0.86      1.00      0.92         6\n",
            "           1       1.00      0.96      0.98        23\n",
            "\n",
            "    accuracy                           0.97        29\n",
            "   macro avg       0.93      0.98      0.95        29\n",
            "weighted avg       0.97      0.97      0.97        29\n",
            "\n",
            "Predictions for 'Correlated Signal' attack:\n",
            "Counter({1: 22, 0: 7})\n",
            "\n",
            "=================================================================\n",
            "Performance of the Frequency Detection method on Fuzzing attack:\n",
            "              precision    recall  f1-score   support\n",
            "\n",
            "           0       0.92      1.00      0.96        11\n",
            "           1       1.00      0.67      0.80         3\n",
            "\n",
            "    accuracy                           0.93        14\n",
            "   macro avg       0.96      0.83      0.88        14\n",
            "weighted avg       0.93      0.93      0.92        14\n",
            "\n",
            "Predictions for 'Fuzzing' attack:\n",
            "Counter({0: 12, 1: 2})\n",
            "\n",
            "=================================================================\n",
            "Performance of the Frequency Detection method on Max Speedometer attack:\n",
            "              precision    recall  f1-score   support\n",
            "\n",
            "           0       1.00      1.00      1.00        28\n",
            "           1       1.00      1.00      1.00        32\n",
            "\n",
            "    accuracy                           1.00        60\n",
            "   macro avg       1.00      1.00      1.00        60\n",
            "weighted avg       1.00      1.00      1.00        60\n",
            "\n",
            "Predictions for 'Max Speedometer' attack:\n",
            "Counter({1: 32, 0: 28})\n",
            "\n",
            "=================================================================\n",
            "Performance of the Frequency Detection method on Reverse Light Off attack:\n",
            "              precision    recall  f1-score   support\n",
            "\n",
            "           0       1.00      1.00      1.00        17\n",
            "           1       1.00      1.00      1.00        24\n",
            "\n",
            "    accuracy                           1.00        41\n",
            "   macro avg       1.00      1.00      1.00        41\n",
            "weighted avg       1.00      1.00      1.00        41\n",
            "\n",
            "Predictions for 'Reverse Light Off' attack:\n",
            "Counter({1: 24, 0: 17})\n",
            "\n",
            "=================================================================\n",
            "Performance of the Frequency Detection method on Reverse Light On attack:\n",
            "              precision    recall  f1-score   support\n",
            "\n",
            "           0       1.00      0.97      0.99        35\n",
            "           1       0.97      1.00      0.99        38\n",
            "\n",
            "    accuracy                           0.99        73\n",
            "   macro avg       0.99      0.99      0.99        73\n",
            "weighted avg       0.99      0.99      0.99        73\n",
            "\n",
            "Predictions for 'Reverse Light On' attack:\n",
            "Counter({1: 39, 0: 34})\n",
            "\n",
            "=================================================================\n",
            "\n",
            "F1 Scores of the Frequency Detection method:\n",
            "Correlated Signal   : 0.97778\n",
            "Fuzzing             : 0.8\n",
            "Max Speedometer     : 1.0\n",
            "Reverse Light Off   : 1.0\n",
            "Reverse Light On    : 0.98701\n",
            "\n"
          ]
        },
        {
          "output_type": "display_data",
          "data": {
            "text/plain": [
              "<Figure size 1300x500 with 1 Axes>"
            ],
            "image/png": "[encoded data removed]"
          },
          "metadata": {}
        }
      ],
      "source": [
        "test_method(model=freq2,\n",
        "              dset=road_valid, # use validation data\n",
        "              print_report=True)"
      ]
    },
    {
      "cell_type": "markdown",
      "metadata": {
        "id": "fIPUP7qc-1ww"
      },
      "source": [
        "## Method 2: Tree-based Anomaly Detection\n",
        "One popular unsupervised algorithm for anomaly/novelty detection is the Isolation Forest proposed by Liu, Ting, & Zhou (2008). It works by computing the anomaly score of data points as the number of times it is partitioned. It considers as outliers the samples that have a low anomaly score.\n",
        "\n",
        "Isolation Forest performs the following steps to detect an anomaly:\n",
        "1. recursively partition the data into smaller and smaller subsets\n",
        "2. at each step, a random feature and a random split value are chosen\n",
        "3. the anomaly score for each data point is calculated as the number of times a data point is partitioned\n",
        "4. data points with lower anomaly scores are more likely to be anomalies.\n",
        "\n",
        "Let's implement an Isolation Forest class that inherits the original class in `sklearn`:"
      ]
    },
    {
      "cell_type": "code",
      "execution_count": null,
      "metadata": {
        "id": "dIkOmOTaxnvk"
      },
      "outputs": [],
      "source": [
        "class IsoForest(IsolationForest):\n",
        "    def __init__(self, **kwargs):\n",
        "        super().__init__(**kwargs)\n",
        "        self.attack_f1 = dict() # store f1 scores for visualization later\n",
        "        self.model_name_ = 'Isolation Forest'\n",
        "\n",
        "    def fit(self, train_X):\n",
        "        print(\"\\nStarting training\")\n",
        "        super().fit(train_X)\n",
        "        print('Training complete')\n",
        "\n",
        "    def detect_anomalies(self, test_X, label, attack_name, print_report=True, return_preds=False):\n",
        "        # contam = label.sum()/label.shape[0] # get the fraction of anomalies\n",
        "        # make predictions and print classification\n",
        "        preds = super().predict(test_X)\n",
        "        preds = np.where(preds==1, 0, 1) # transform predictions using {-1:1, 1:0}\n",
        "        if print_report:\n",
        "            print(f'Performance of the {self.model_name_} approach on {attack_name}:')\n",
        "            print(classification_report(label, preds))\n",
        "\n",
        "        self.attack_f1[attack_name] = f1_score(label, preds) # store the f1 score\n",
        "\n",
        "        if return_preds: return preds\n",
        "\n",
        "    def chart_f1(self):\n",
        "        plt.figure(figsize=(13,5))\n",
        "        plt.title(f'F1 scores of the {self.model_name_} model on several attack types')\n",
        "        x, y = list(self.attack_f1.keys()), list(self.attack_f1.values())\n",
        "        sns.barplot(x=x, y=y)\n",
        "        plt.ylim(ymax=1.0)"
      ]
    },
    {
      "cell_type": "markdown",
      "metadata": {
        "id": "a8J1q8Ha90NR"
      },
      "source": [
        "Note that the predictions of the model had to be transformed using the mapping {-1:1, 1:0} because the `predict` method of `sklearn.IsolationForest` returns -1 for anomalies and 1 for inliers. The transformation was necessary so that it could correspond to the label in the dataset with 0 representing normal data and 1 representing anomalies."
      ]
    },
    {
      "cell_type": "code",
      "execution_count": null,
      "metadata": {
        "colab": {
          "base_uri": "https://localhost:8080/"
        },
        "id": "6w4J5LatGdHK",
        "outputId": "cabf8d00-fe03-4c29-adf9-b0b0365154c7"
      },
      "outputs": [
        {
          "output_type": "stream",
          "name": "stdout",
          "text": [
            "\n",
            "Starting training\n",
            "Training complete\n"
          ]
        }
      ],
      "source": [
        "isof = IsoForest()\n",
        "isof.fit(road_test.train) # fit model"
      ]
    },
    {
      "cell_type": "markdown",
      "metadata": {
        "id": "grWk9K3yVp4a"
      },
      "source": [
        "Let's test the density-based approach"
      ]
    },
    {
      "cell_type": "code",
      "execution_count": null,
      "metadata": {
        "colab": {
          "base_uri": "https://localhost:8080/",
          "height": 613
        },
        "id": "u2wbbLWbVp4q",
        "outputId": "e08cfecc-97ef-465d-ed3b-b47aff01aa61"
      },
      "outputs": [
        {
          "output_type": "stream",
          "name": "stdout",
          "text": [
            "\n",
            "F1 Scores of the Isolation Forest method:\n",
            "Correlated Signal   : 0.53066\n",
            "Fuzzing             : 0.2586\n",
            "Max Speedometer     : 0.34051\n",
            "Reverse Light Off   : 0.32797\n",
            "Reverse Light On    : 0.40323\n",
            "\n"
          ]
        },
        {
          "output_type": "display_data",
          "data": {
            "text/plain": [
              "<Figure size 1300x500 with 1 Axes>"
            ],
            "image/png": "[encoded data removed]"
          },
          "metadata": {}
        }
      ],
      "source": [
        "test_method(model=isof,\n",
        "              dset=road_test,\n",
        "              print_report=False)"
      ]
    },
    {
      "cell_type": "markdown",
      "metadata": {
        "id": "tvf5Xu45BYQx"
      },
      "source": [
        "### Hyperparameter Tuning\n",
        "The `IsolationForest` implementation in sklearn has several hyperparameters including\n",
        "- `n_estimators`: the number of base estimators in the ensemble  \n",
        "- `max_samples`: the number of samples to draw from X to train each base estimator.\n",
        "- `max_features`: the number of features to draw from X to train each base estimator.\n",
        "\n",
        "To tune this model, the `HalvingGridSearchCV` will be used. `HalvingGridSearchCV` is an elimination variant of the exhaustive Grid Search which excludes poor performing hyperparameter combinations in successive stages like a tournament. Using this search method across the given hyperparameter space, we are able to save time and computation resources as opposed to using `GridSearchCV`.\n",
        "\n",
        "Note that there will be a slight workaround for the tuning step: all attack data in the test folder will be used for tuning. After tuning, the updated `IsolationForest` will be tested on all the attacks in the validation set. This means concatenating the attack data.\n"
      ]
    },
    {
      "cell_type": "markdown",
      "source": [
        "First, let's concatenate the attack data in the test folder"
      ],
      "metadata": {
        "id": "-xyQuJTV-tyy"
      }
    },
    {
      "cell_type": "code",
      "source": [
        "road_test_X = [road_test.correlated_signal_attack_X,\n",
        "road_test.fuzzing_attack_X,\n",
        "road_test.max_speedometer_attack_X,\n",
        "road_test.reverse_light_off_attack_X,\n",
        "road_test.reverse_light_on_attack_X]\n",
        "\n",
        "road_test_y = [road_test.correlated_signal_attack_y,\n",
        "road_test.fuzzing_attack_y,\n",
        "road_test.max_speedometer_attack_y,\n",
        "road_test.reverse_light_off_attack_y,\n",
        "road_test.reverse_light_on_attack_y]\n",
        "\n",
        "# concatenate\n",
        "X = pd.concat(road_test_X, axis=0)\n",
        "y = pd.concat(road_test_y, axis=0)\n",
        "\n",
        "# print shapes\n",
        "print(f\"Shapes\\nX:{X.shape}\\ny:{y.shape}\")"
      ],
      "metadata": {
        "id": "bd0Cwqg5-3SZ",
        "outputId": "8f0b7a81-5c41-4aa6-bb07-80e5fa8a16e5",
        "colab": {
          "base_uri": "https://localhost:8080/"
        }
      },
      "execution_count": null,
      "outputs": [
        {
          "output_type": "stream",
          "name": "stdout",
          "text": [
            "Shapes\n",
            "X:(545140, 10)\n",
            "y:(545140,)\n"
          ]
        }
      ]
    },
    {
      "cell_type": "code",
      "execution_count": null,
      "metadata": {
        "id": "2Oy_oblvkk1D"
      },
      "outputs": [],
      "source": [
        "# for faster results, switch min_resources from 'exhaust' to a small number e.g 10000\n",
        "param_grid = {'n_estimators':[100, 200, 300],\n",
        "              'max_samples':[0.25, 0.5, 0.75, 1.0],\n",
        "              'max_features':[0.25, 0.5, 0.75, 1.0]\n",
        "              }\n",
        "\n",
        "base_estimator = IsolationForest()\n",
        "hs = HalvingGridSearchCV(base_estimator, param_grid, cv=5,\n",
        "                         factor=2, min_resources=15000,\n",
        "                         scoring=f1_score, n_jobs=-1).fit(X, y) # use at least 100,000 samples for each candidate"
      ]
    },
    {
      "cell_type": "code",
      "source": [
        "print(f\"Number of samples used at each stage: {hs.n_resources_}\")\n",
        "print(f\"Number of candidates at each stage: {hs.n_candidates_}\")"
      ],
      "metadata": {
        "id": "9heK5eU5UetD",
        "outputId": "f50f79ad-0e18-4330-861f-52da71ade908",
        "colab": {
          "base_uri": "https://localhost:8080/"
        }
      },
      "execution_count": null,
      "outputs": [
        {
          "output_type": "stream",
          "name": "stdout",
          "text": [
            "Number of samples used at each stage: [15000, 30000, 60000, 120000, 240000, 480000]\n",
            "Number of candidates at each stage: [48, 24, 12, 6, 3, 2]\n"
          ]
        }
      ]
    },
    {
      "cell_type": "code",
      "source": [
        "hs.best_estimator_"
      ],
      "metadata": {
        "id": "CyG4liRpTsoT",
        "outputId": "4726d7ca-9407-4894-d71c-6508776d4768",
        "colab": {
          "base_uri": "https://localhost:8080/",
          "height": 74
        }
      },
      "execution_count": null,
      "outputs": [
        {
          "output_type": "execute_result",
          "data": {
            "text/plain": [
              "IsolationForest(max_samples=1.0, n_estimators=200)"
            ],
            "text/html": [
              "<style>#sk-container-id-1 {color: black;background-color: white;}#sk-container-id-1 pre{padding: 0;}#sk-container-id-1 div.sk-toggleable {background-color: white;}#sk-container-id-1 label.sk-toggleable__label {cursor: pointer;display: block;width: 100%;margin-bottom: 0;padding: 0.3em;box-sizing: border-box;text-align: center;}#sk-container-id-1 label.sk-toggleable__label-arrow:before {content: \"▸\";float: left;margin-right: 0.25em;color: #696969;}#sk-container-id-1 label.sk-toggleable__label-arrow:hover:before {color: black;}#sk-container-id-1 div.sk-estimator:hover label.sk-toggleable__label-arrow:before {color: black;}#sk-container-id-1 div.sk-toggleable__content {max-height: 0;max-width: 0;overflow: hidden;text-align: left;background-color: #f0f8ff;}#sk-container-id-1 div.sk-toggleable__content pre {margin: 0.2em;color: black;border-radius: 0.25em;background-color: #f0f8ff;}#sk-container-id-1 input.sk-toggleable__control:checked~div.sk-toggleable__content {max-height: 200px;max-width: 100%;overflow: auto;}#sk-container-id-1 input.sk-toggleable__control:checked~label.sk-toggleable__label-arrow:before {content: \"▾\";}#sk-container-id-1 div.sk-estimator input.sk-toggleable__control:checked~label.sk-toggleable__label {background-color: #d4ebff;}#sk-container-id-1 div.sk-label input.sk-toggleable__control:checked~label.sk-toggleable__label {background-color: #d4ebff;}#sk-container-id-1 input.sk-hidden--visually {border: 0;clip: rect(1px 1px 1px 1px);clip: rect(1px, 1px, 1px, 1px);height: 1px;margin: -1px;overflow: hidden;padding: 0;position: absolute;width: 1px;}#sk-container-id-1 div.sk-estimator {font-family: monospace;background-color: #f0f8ff;border: 1px dotted black;border-radius: 0.25em;box-sizing: border-box;margin-bottom: 0.5em;}#sk-container-id-1 div.sk-estimator:hover {background-color: #d4ebff;}#sk-container-id-1 div.sk-parallel-item::after {content: \"\";width: 100%;border-bottom: 1px solid gray;flex-grow: 1;}#sk-container-id-1 div.sk-label:hover label.sk-toggleable__label {background-color: #d4ebff;}#sk-container-id-1 div.sk-serial::before {content: \"\";position: absolute;border-left: 1px solid gray;box-sizing: border-box;top: 0;bottom: 0;left: 50%;z-index: 0;}#sk-container-id-1 div.sk-serial {display: flex;flex-direction: column;align-items: center;background-color: white;padding-right: 0.2em;padding-left: 0.2em;position: relative;}#sk-container-id-1 div.sk-item {position: relative;z-index: 1;}#sk-container-id-1 div.sk-parallel {display: flex;align-items: stretch;justify-content: center;background-color: white;position: relative;}#sk-container-id-1 div.sk-item::before, #sk-container-id-1 div.sk-parallel-item::before {content: \"\";position: absolute;border-left: 1px solid gray;box-sizing: border-box;top: 0;bottom: 0;left: 50%;z-index: -1;}#sk-container-id-1 div.sk-parallel-item {display: flex;flex-direction: column;z-index: 1;position: relative;background-color: white;}#sk-container-id-1 div.sk-parallel-item:first-child::after {align-self: flex-end;width: 50%;}#sk-container-id-1 div.sk-parallel-item:last-child::after {align-self: flex-start;width: 50%;}#sk-container-id-1 div.sk-parallel-item:only-child::after {width: 0;}#sk-container-id-1 div.sk-dashed-wrapped {border: 1px dashed gray;margin: 0 0.4em 0.5em 0.4em;box-sizing: border-box;padding-bottom: 0.4em;background-color: white;}#sk-container-id-1 div.sk-label label {font-family: monospace;font-weight: bold;display: inline-block;line-height: 1.2em;}#sk-container-id-1 div.sk-label-container {text-align: center;}#sk-container-id-1 div.sk-container {/* jupyter's `normalize.less` sets `[hidden] { display: none; }` but bootstrap.min.css set `[hidden] { display: none !important; }` so we also need the `!important` here to be able to override the default hidden behavior on the sphinx rendered scikit-learn.org. See: https://github.com/scikit-learn/scikit-learn/issues/21755 */display: inline-block !important;position: relative;}#sk-container-id-1 div.sk-text-repr-fallback {display: none;}</style><div id=\"sk-container-id-1\" class=\"sk-top-container\"><div class=\"sk-text-repr-fallback\"><pre>IsolationForest(max_samples=1.0, n_estimators=200)</pre><b>In a Jupyter environment, please rerun this cell to show the HTML representation or trust the notebook. <br />On GitHub, the HTML representation is unable to render, please try loading this page with nbviewer.org.</b></div><div class=\"sk-container\" hidden><div class=\"sk-item\"><div class=\"sk-estimator sk-toggleable\"><input class=\"sk-toggleable__control sk-hidden--visually\" id=\"sk-estimator-id-1\" type=\"checkbox\" checked><label for=\"sk-estimator-id-1\" class=\"sk-toggleable__label sk-toggleable__label-arrow\">IsolationForest</label><div class=\"sk-toggleable__content\"><pre>IsolationForest(max_samples=1.0, n_estimators=200)</pre></div></div></div></div></div>"
            ]
          },
          "metadata": {},
          "execution_count": 27
        }
      ]
    },
    {
      "cell_type": "markdown",
      "source": [
        "The hyperparameter search reveals a combination of `max_samples=1` and `n_estimators=200` to be the best provided candidate for the combined dataset. Let's see how it performs on the test set:"
      ],
      "metadata": {
        "id": "bxIZtv6E7VV9"
      }
    },
    {
      "cell_type": "code",
      "source": [
        "isof2 = IsoForest(max_samples=1.0, n_estimators=200, n_jobs=-1)\n",
        "isof2.fit(road_test.train) # fit model"
      ],
      "metadata": {
        "id": "ORw77Z0R7yBs",
        "outputId": "e71b9e54-7125-4d28-f0be-9d742d039bce",
        "colab": {
          "base_uri": "https://localhost:8080/"
        }
      },
      "execution_count": null,
      "outputs": [
        {
          "output_type": "stream",
          "name": "stdout",
          "text": [
            "\n",
            "Starting training\n",
            "Training complete\n"
          ]
        }
      ]
    },
    {
      "cell_type": "code",
      "source": [
        "test_method(model=isof2,\n",
        "              dset=road_test,\n",
        "              print_report=False)"
      ],
      "metadata": {
        "id": "Fsnk4b367rRP",
        "outputId": "50b19fb3-f842-4ab8-f5ae-b96a650d97ba",
        "colab": {
          "base_uri": "https://localhost:8080/",
          "height": 613
        }
      },
      "execution_count": null,
      "outputs": [
        {
          "output_type": "stream",
          "name": "stdout",
          "text": [
            "\n",
            "F1 Scores of the Isolation Forest method:\n",
            "Correlated Signal   : 0.37148\n",
            "Fuzzing             : 0.24352\n",
            "Max Speedometer     : 0.25246\n",
            "Reverse Light Off   : 0.23071\n",
            "Reverse Light On    : 0.26364\n",
            "\n"
          ]
        },
        {
          "output_type": "display_data",
          "data": {
            "text/plain": [
              "<Figure size 1300x500 with 1 Axes>"
            ],
            "image/png": "[encoded data removed]"
          },
          "metadata": {}
        }
      ]
    },
    {
      "cell_type": "markdown",
      "source": [
        "Now, let's see how it performs on the holdout set (`road_valid`)"
      ],
      "metadata": {
        "id": "K_hgTaQ17kb_"
      }
    },
    {
      "cell_type": "code",
      "execution_count": null,
      "metadata": {
        "colab": {
          "base_uri": "https://localhost:8080/",
          "height": 1000
        },
        "outputId": "c3c53956-a140-4c3b-ed19-5c7bcfabefdd",
        "id": "60JfYIKskk1U"
      },
      "outputs": [
        {
          "output_type": "stream",
          "name": "stdout",
          "text": [
            "Performance of the Isolation Forest approach on Correlated Signal:\n",
            "              precision    recall  f1-score   support\n",
            "\n",
            "           0       0.23      0.76      0.35     16337\n",
            "           1       0.75      0.22      0.34     53320\n",
            "\n",
            "    accuracy                           0.35     69657\n",
            "   macro avg       0.49      0.49      0.35     69657\n",
            "weighted avg       0.63      0.35      0.35     69657\n",
            "\n",
            "Predictions for 'Correlated Signal' attack:\n",
            "Counter({0: 53744, 1: 15913})\n",
            "\n",
            "=================================================================\n",
            "Performance of the Isolation Forest approach on Fuzzing:\n",
            "              precision    recall  f1-score   support\n",
            "\n",
            "           0       0.85      0.78      0.82     27253\n",
            "           1       0.19      0.28      0.23      5098\n",
            "\n",
            "    accuracy                           0.70     32351\n",
            "   macro avg       0.52      0.53      0.52     32351\n",
            "weighted avg       0.75      0.70      0.72     32351\n",
            "\n",
            "Predictions for 'Fuzzing' attack:\n",
            "Counter({0: 24970, 1: 7381})\n",
            "\n",
            "=================================================================\n",
            "Performance of the Isolation Forest approach on Max Speedometer:\n",
            "              precision    recall  f1-score   support\n",
            "\n",
            "           0       0.49      0.78      0.60     67676\n",
            "           1       0.61      0.30      0.40     78218\n",
            "\n",
            "    accuracy                           0.52    145894\n",
            "   macro avg       0.55      0.54      0.50    145894\n",
            "weighted avg       0.56      0.52      0.50    145894\n",
            "\n",
            "Predictions for 'Max Speedometer' attack:\n",
            "Counter({0: 107360, 1: 38534})\n",
            "\n",
            "=================================================================\n",
            "Performance of the Isolation Forest approach on Reverse Light Off:\n",
            "              precision    recall  f1-score   support\n",
            "\n",
            "           0       0.40      0.75      0.52     40568\n",
            "           1       0.57      0.22      0.32     59060\n",
            "\n",
            "    accuracy                           0.44     99628\n",
            "   macro avg       0.48      0.49      0.42     99628\n",
            "weighted avg       0.50      0.44      0.40     99628\n",
            "\n",
            "Predictions for 'Reverse Light Off' attack:\n",
            "Counter({0: 76551, 1: 23077})\n",
            "\n",
            "=================================================================\n",
            "Performance of the Isolation Forest approach on Reverse Light On:\n",
            "              precision    recall  f1-score   support\n",
            "\n",
            "           0       0.50      0.79      0.61     84039\n",
            "           1       0.59      0.28      0.38     91906\n",
            "\n",
            "    accuracy                           0.52    175945\n",
            "   macro avg       0.54      0.53      0.49    175945\n",
            "weighted avg       0.55      0.52      0.49    175945\n",
            "\n",
            "Predictions for 'Reverse Light On' attack:\n",
            "Counter({0: 132425, 1: 43520})\n",
            "\n",
            "=================================================================\n",
            "\n",
            "F1 Scores of the Isolation Forest method:\n",
            "Correlated Signal   : 0.34452\n",
            "Fuzzing             : 0.22838\n",
            "Max Speedometer     : 0.40417\n",
            "Reverse Light Off   : 0.31878\n",
            "Reverse Light On    : 0.37835\n",
            "\n"
          ]
        },
        {
          "output_type": "display_data",
          "data": {
            "text/plain": [
              "<Figure size 1300x500 with 1 Axes>"
            ],
            "image/png": "[encoded data removed]"
          },
          "metadata": {}
        }
      ],
      "source": [
        "test_method(model=isof2,\n",
        "              dset=road_valid,\n",
        "              print_report=False)"
      ]
    },
    {
      "cell_type": "markdown",
      "source": [
        "It seems the tuned model is worse, for some reason. How does the original model perform on the validation data?"
      ],
      "metadata": {
        "id": "AWr70z5yxLOq"
      }
    },
    {
      "cell_type": "code",
      "source": [
        "test_method(model=isof,\n",
        "            dset=road_valid,\n",
        "            print_report=True)"
      ],
      "metadata": {
        "id": "Yq0dz3KDxK7i",
        "outputId": "91ecb29a-cedf-487f-8d02-e505f901fc85",
        "colab": {
          "base_uri": "https://localhost:8080/",
          "height": 613
        }
      },
      "execution_count": null,
      "outputs": [
        {
          "output_type": "stream",
          "name": "stdout",
          "text": [
            "\n",
            "F1 Scores of the Isolation Forest method:\n",
            "Correlated Signal   : 0.55719\n",
            "Fuzzing             : 0.2649\n",
            "Max Speedometer     : 0.45226\n",
            "Reverse Light Off   : 0.51073\n",
            "Reverse Light On    : 0.44284\n",
            "\n"
          ]
        },
        {
          "output_type": "display_data",
          "data": {
            "text/plain": [
              "<Figure size 1300x500 with 1 Axes>"
            ],
            "image/png": "[encoded data removed]"
          },
          "metadata": {}
        }
      ]
    },
    {
      "cell_type": "markdown",
      "source": [
        "Alright, let's go with this for method 2!🥲"
      ],
      "metadata": {
        "id": "ldl7K4Dyxh-i"
      }
    },
    {
      "cell_type": "markdown",
      "metadata": {
        "id": "silptM7ZvEIV"
      },
      "source": [
        "## Method 3: Reconstruction Error\n",
        "Autoencoders are a deep-learning architecture with a quirk: the input and output layers have the same number of neurons, with a bottleneck in between. Basically, they are trained to copy their input to their output. They can be used for several purposes such as compression, image denoising and anomaly detection. To use an autoencoder for anomaly detection, you would train it on normal data and define a threshold on the error of reconstruction to discriminate data it has not seen before. If the error of reconstruction of a data point exceeds that threshold, that data point is an anomaly. Fawaz Waselallah Alsaade and Mosleh Hmoud Al-Adhaileh (2023) employ the autoencoder approach to solve the intrusion detection problem for CAN data.\n",
        "\n",
        "Let's define the `AutoEncoder` class. The threshold of choice is 3 standard deviations from the mean of errors of reconstruction i.e:\n",
        "1. Train the autoencoder on normal CAN data\n",
        "2. Reconstruct the input and obtain the errors of reconstruction, E, as an array/tensor\n",
        "3. Compute the standard deviation (denoted σ) of the errors\n",
        "4. Define the threshold as a z-score of 3, or 3σ. Thus if the absolute value of the error, e, is greater than 3 standard deviations from the mean of regular errors, the data point belongs to an attack.\n",
        "\n",
        "For visual aid, any data point that falls in the 0.1% is determined an attack  \n",
        "![image](https://upload.wikimedia.org/wikipedia/commons/8/8c/Standard_deviation_diagram.svg)  \n",
        "Source: [M. W. Toews](https://upload.wikimedia.org/wikipedia/commons/thumb/8/8c/Standard_deviation_diagram.svg/600px-Standard_deviation_diagram.svg.png?20150115020654), [CC BY 2.5](https://creativecommons.org/licenses/by/2.5), via Wikimedia Commons\n",
        "\n"
      ]
    },
    {
      "cell_type": "code",
      "execution_count": null,
      "metadata": {
        "id": "9FGmYk5oyILO"
      },
      "outputs": [],
      "source": [
        "device = 'cuda:0' if T.cuda.is_available() else 'cpu' # choose the available device"
      ]
    },
    {
      "cell_type": "code",
      "execution_count": null,
      "metadata": {
        "id": "wrO0zkQNw1zI"
      },
      "outputs": [],
      "source": [
        "class AutoEncoder(T.nn.Module):\n",
        "    def __init__(self, size):\n",
        "        super().__init__()\n",
        "        self.fc1 = T.nn.Linear(size, 32)\n",
        "        self.fc2 = T.nn.Linear(32, 16)\n",
        "        self.fc3 = T.nn.Linear(16, 32)\n",
        "        self.fc4 = T.nn.Linear(32, size)\n",
        "        self.threshold = 0.0\n",
        "        self.model_name_ = 'Autoencoder'\n",
        "\n",
        "        # store f1 scores for visualization later\n",
        "        self.attack_f1 = dict()\n",
        "\n",
        "    def encode(self, x):\n",
        "        z = T.tanh(self.fc1(x))\n",
        "        z = T.tanh(self.fc2(z))\n",
        "        return z\n",
        "\n",
        "    def decode(self, x):\n",
        "        z = T.tanh(self.fc3(x))\n",
        "        z = T.sigmoid(self.fc4(z))\n",
        "        return z\n",
        "\n",
        "    def forward(self, x):\n",
        "        z = self.encode(x)\n",
        "        z = self.decode(z)\n",
        "        return z\n",
        "\n",
        "    def rec_error(self, data):\n",
        "        \"\"\"Compute the reconstruction error when a sample is passed through the autoencoder\"\"\"\n",
        "        # diff = autoenc(T.Tensor(data.values)).detach().numpy() - data.values\n",
        "        input = T.Tensor(data.values).to(device)\n",
        "        diff = (self(input) - input).cpu().detach().numpy()\n",
        "        error = np.mean(np.power(diff, 2), axis=1) # scalar error of reconstruction\n",
        "        return error\n",
        "\n",
        "    def set_threshold(self, value):\n",
        "        self.threshold = value\n",
        "\n",
        "    def calc_threshold(self, input):\n",
        "        \"\"\"Compute the threshold as 3 z-scores from the reconstruction errors of training data\"\"\"\n",
        "        errors = self.rec_error(input) # compute errors of reconstruction\n",
        "\n",
        "        self.set_threshold(3*np.std(errors))\n",
        "\n",
        "    def fit(self, input, batch_size, epochs, log_interval, learning_rate):\n",
        "        # set up loader object\n",
        "        data_ldr = T.utils.data.DataLoader(T.Tensor(input.values).to(device),\n",
        "                                        batch_size=batch_size,\n",
        "                                        shuffle=True)\n",
        "\n",
        "        loss_func = T.nn.MSELoss() # mean squared error loss\n",
        "        opt = T.optim.SGD(self.parameters(), lr=learning_rate) # SGD optimizer\n",
        "\n",
        "        print(\"\\nStarting training\")\n",
        "        for epoch in tqdm(range(epochs)):\n",
        "            epoch_loss = 0.0 # reset loss\n",
        "            for (batch_idx, batch) in enumerate(data_ldr):\n",
        "                X = batch  # inputs\n",
        "                Y = batch  # targets (same as inputs)\n",
        "\n",
        "                opt.zero_grad() # prepare gradients\n",
        "                output = self(X) # compute output/target\n",
        "                loss_val = loss_func(output, Y) # compute loss/error\n",
        "                epoch_loss += loss_val.item() # accumulate for display\n",
        "                loss_val.backward() # compute gradients\n",
        "                opt.step() # update weights\n",
        "\n",
        "            if epoch % log_interval == 0:\n",
        "                print(\"epoch = %4d   loss = %0.4f\" % (epoch, epoch_loss))\n",
        "\n",
        "        self.calc_threshold(input) # set the threshold using the training data\n",
        "        print(\"Training completed!\")\n",
        "\n",
        "    def detect_anomalies(self, data_X, label, attack_name, print_report=True, return_preds=False):\n",
        "        \"\"\"\n",
        "        Compute reconstruction error. If the error of a message exceeds the threshold\n",
        "        default of (1 z score), it is predicted as an anomaly\n",
        "        \"\"\"\n",
        "\n",
        "        error = self.rec_error(data_X) # compute error of reconstruction\n",
        "        preds = np.where(error > self.threshold, 1, 0) # calculate predictions\n",
        "        if print_report:\n",
        "            print(f'Performance of the {self.model_name_} on {attack_name} attack:')\n",
        "            print(classification_report(label, preds))\n",
        "\n",
        "        self.attack_f1[attack_name] = f1_score(label, preds) # store the f1 score\n",
        "\n",
        "        if return_preds: return preds\n",
        "\n",
        "    def chart_f1(self):\n",
        "        plt.figure(figsize=(13,5))\n",
        "        plt.title(f'F1 scores of the {self.model_name_} model on several attack types')\n",
        "        x, y = list(self.attack_f1.keys()), list(self.attack_f1.values())\n",
        "        sns.barplot(x=x, y=y)\n",
        "        plt.ylim(ymax=1.0)"
      ]
    },
    {
      "cell_type": "markdown",
      "metadata": {
        "id": "lnLMkdItrekL"
      },
      "source": [
        "The `fit` method sets up the dataloader, loss function, optimizer and runs the training loop for the given number of epochs on the normal data.  \n",
        "To be able to determine anomalies, a threshold error value will be calculated. Let's define the threshold to be 1 z-score i.e one standard deviation from the mean of errors of reconstruction. A reconstruction with an error exceeding that value is thus an anomaly."
      ]
    },
    {
      "cell_type": "markdown",
      "metadata": {
        "id": "qyA7TJJcnxTt"
      },
      "source": [
        "Next, it is important that the autoencoder is just trained on only normal data so it only learns those patterns and not of the anomalies too. The `ROADPrep().train` dataset contains only normal data so it will be used for training."
      ]
    },
    {
      "cell_type": "code",
      "execution_count": null,
      "metadata": {
        "id": "CXsid8jCvh7o"
      },
      "outputs": [],
      "source": [
        "input = road_test.train\n",
        "autoenc = AutoEncoder(size=input.shape[1]).to(device)"
      ]
    },
    {
      "cell_type": "markdown",
      "metadata": {
        "id": "Ov5k5Bb6son2"
      },
      "source": [
        "Uncomment and run the next cell if you wish to train the autoencoder from scratch and save the weights:"
      ]
    },
    {
      "cell_type": "code",
      "execution_count": null,
      "metadata": {
        "colab": {
          "base_uri": "https://localhost:8080/"
        },
        "id": "iyTdqgUPWSEa",
        "outputId": "882f4a43-0ebf-433b-beeb-1835c434558c"
      },
      "outputs": [
        {
          "name": "stdout",
          "output_type": "stream",
          "text": [
            "\n",
            "Starting training\n"
          ]
        },
        {
          "name": "stderr",
          "output_type": "stream",
          "text": [
            "  1%|          | 1/100 [00:05<09:41,  5.87s/it]"
          ]
        },
        {
          "name": "stdout",
          "output_type": "stream",
          "text": [
            "epoch =    0   loss = 2571.1686\n"
          ]
        },
        {
          "name": "stderr",
          "output_type": "stream",
          "text": [
            " 11%|█         | 11/100 [01:06<09:05,  6.13s/it]"
          ]
        },
        {
          "name": "stdout",
          "output_type": "stream",
          "text": [
            "epoch =   10   loss = 1881.3269\n"
          ]
        },
        {
          "name": "stderr",
          "output_type": "stream",
          "text": [
            " 21%|██        | 21/100 [02:05<07:31,  5.72s/it]"
          ]
        },
        {
          "name": "stdout",
          "output_type": "stream",
          "text": [
            "epoch =   20   loss = 1704.3176\n"
          ]
        },
        {
          "name": "stderr",
          "output_type": "stream",
          "text": [
            " 31%|███       | 31/100 [03:01<06:32,  5.69s/it]"
          ]
        },
        {
          "name": "stdout",
          "output_type": "stream",
          "text": [
            "epoch =   30   loss = 1580.5871\n"
          ]
        },
        {
          "name": "stderr",
          "output_type": "stream",
          "text": [
            " 41%|████      | 41/100 [03:57<05:31,  5.63s/it]"
          ]
        },
        {
          "name": "stdout",
          "output_type": "stream",
          "text": [
            "epoch =   40   loss = 1479.9522\n"
          ]
        },
        {
          "name": "stderr",
          "output_type": "stream",
          "text": [
            " 51%|█████     | 51/100 [04:53<04:30,  5.53s/it]"
          ]
        },
        {
          "name": "stdout",
          "output_type": "stream",
          "text": [
            "epoch =   50   loss = 1387.7024\n"
          ]
        },
        {
          "name": "stderr",
          "output_type": "stream",
          "text": [
            " 61%|██████    | 61/100 [05:49<03:35,  5.51s/it]"
          ]
        },
        {
          "name": "stdout",
          "output_type": "stream",
          "text": [
            "epoch =   60   loss = 1311.5768\n"
          ]
        },
        {
          "name": "stderr",
          "output_type": "stream",
          "text": [
            " 71%|███████   | 71/100 [06:44<02:37,  5.42s/it]"
          ]
        },
        {
          "name": "stdout",
          "output_type": "stream",
          "text": [
            "epoch =   70   loss = 1245.9677\n"
          ]
        },
        {
          "name": "stderr",
          "output_type": "stream",
          "text": [
            " 81%|████████  | 81/100 [07:40<01:42,  5.42s/it]"
          ]
        },
        {
          "name": "stdout",
          "output_type": "stream",
          "text": [
            "epoch =   80   loss = 1194.0360\n"
          ]
        },
        {
          "name": "stderr",
          "output_type": "stream",
          "text": [
            " 91%|█████████ | 91/100 [08:37<00:48,  5.43s/it]"
          ]
        },
        {
          "name": "stdout",
          "output_type": "stream",
          "text": [
            "epoch =   90   loss = 1160.2945\n"
          ]
        },
        {
          "name": "stderr",
          "output_type": "stream",
          "text": [
            "100%|██████████| 100/100 [09:27<00:00,  5.67s/it]\n"
          ]
        },
        {
          "name": "stdout",
          "output_type": "stream",
          "text": [
            "Training completed!\n"
          ]
        }
      ],
      "source": [
        "autoenc.train() # set to train mode\n",
        "\n",
        "autoenc.fit(input = road_test.train,\n",
        "            batch_size = 512,\n",
        "            epochs = 100,\n",
        "            log_interval = 10,\n",
        "            learning_rate = 1e-3\n",
        "            ) # train the model\n",
        "\n",
        "T.save(autoenc.state_dict(), '../bin/can-autoencoder.pt') # save the model"
      ]
    },
    {
      "cell_type": "markdown",
      "metadata": {
        "id": "BAVLAkvFLEhX"
      },
      "source": [
        "Otherwise, reload the state dict from prior training and use that for the model. Run the next cell:"
      ]
    },
    {
      "cell_type": "code",
      "execution_count": null,
      "metadata": {
        "id": "zLAb8bYZqA5R"
      },
      "outputs": [],
      "source": [
        "# # load weights\n",
        "# autoenc.load_state_dict(T.load('../bin/can-autoencoder.pt', map_location=device))\n",
        "\n",
        "# # set threshold using the train data\n",
        "# autoenc.calc_threshold(input)\n",
        "\n",
        "# autoenc.eval() # set to eval mode"
      ]
    },
    {
      "cell_type": "code",
      "execution_count": null,
      "metadata": {
        "colab": {
          "base_uri": "https://localhost:8080/",
          "height": 1000
        },
        "id": "4rVNBYoD6M5i",
        "outputId": "3f705195-3948-453a-f47a-ad41e08df344"
      },
      "outputs": [
        {
          "name": "stdout",
          "output_type": "stream",
          "text": [
            "Performance of the Autoencoder on Correlated Signal attack:\n",
            "              precision    recall  f1-score   support\n",
            "\n",
            "           0       0.36      0.87      0.51     29289\n",
            "           1       0.64      0.13      0.22     51973\n",
            "\n",
            "    accuracy                           0.40     81262\n",
            "   macro avg       0.50      0.50      0.37     81262\n",
            "weighted avg       0.54      0.40      0.33     81262\n",
            "\n",
            "Predictions for 'Correlated Signal' attack:\n",
            "Counter({0: 70379, 1: 10883})\n",
            "\n",
            "=================================================================\n",
            "Performance of the Autoencoder on Fuzzing attack:\n",
            "              precision    recall  f1-score   support\n",
            "\n",
            "           0       0.83      0.88      0.86     40773\n",
            "           1       0.22      0.17      0.19      8569\n",
            "\n",
            "    accuracy                           0.76     49342\n",
            "   macro avg       0.53      0.52      0.52     49342\n",
            "weighted avg       0.73      0.76      0.74     49342\n",
            "\n",
            "Predictions for 'Fuzzing' attack:\n",
            "Counter({0: 42987, 1: 6355})\n",
            "\n",
            "=================================================================\n",
            "Performance of the Autoencoder on Max Speedometer attack:\n",
            "              precision    recall  f1-score   support\n",
            "\n",
            "           0       0.71      0.87      0.78    152027\n",
            "           1       0.27      0.12      0.16     61370\n",
            "\n",
            "    accuracy                           0.66    213397\n",
            "   macro avg       0.49      0.49      0.47    213397\n",
            "weighted avg       0.58      0.66      0.60    213397\n",
            "\n",
            "Predictions for 'Max Speedometer' attack:\n",
            "Counter({0: 186996, 1: 26401})\n",
            "\n",
            "=================================================================\n",
            "Performance of the Autoencoder on Reverse Light Off attack:\n",
            "              precision    recall  f1-score   support\n",
            "\n",
            "           0       0.75      0.86      0.80     51155\n",
            "           1       0.24      0.13      0.17     16747\n",
            "\n",
            "    accuracy                           0.68     67902\n",
            "   macro avg       0.49      0.50      0.49     67902\n",
            "weighted avg       0.63      0.68      0.65     67902\n",
            "\n",
            "Predictions for 'Reverse Light Off' attack:\n",
            "Counter({0: 58439, 1: 9463})\n",
            "\n",
            "=================================================================\n",
            "Performance of the Autoencoder on Reverse Light On attack:\n",
            "              precision    recall  f1-score   support\n",
            "\n",
            "           0       0.63      0.87      0.73     83588\n",
            "           1       0.39      0.14      0.20     49649\n",
            "\n",
            "    accuracy                           0.60    133237\n",
            "   macro avg       0.51      0.51      0.47    133237\n",
            "weighted avg       0.54      0.60      0.54    133237\n",
            "\n",
            "Predictions for 'Reverse Light On' attack:\n",
            "Counter({0: 115704, 1: 17533})\n",
            "\n",
            "=================================================================\n",
            "\n",
            "F1 Scores of the Autoencoder method:\n",
            "Correlated Signal   : 0.22257\n",
            "Fuzzing             : 0.19137\n",
            "Max Speedometer     : 0.16274\n",
            "Reverse Light Off   : 0.17161\n",
            "Reverse Light On    : 0.20416\n",
            "\n"
          ]
        },
        {
          "data": {
            "image/png": "[encoded data removed]",
            "text/plain": [
              "<Figure size 1300x500 with 1 Axes>"
            ]
          },
          "metadata": {},
          "output_type": "display_data"
        }
      ],
      "source": [
        "test_method(model=autoenc,\n",
        "              dset=road_test,\n",
        "              print_report=False)"
      ]
    },
    {
      "cell_type": "markdown",
      "metadata": {
        "id": "4quV70TO0jf4"
      },
      "source": [
        "### Improvements\n",
        "One thing to note here is that there exists a temporal dependency between the signals found in the data features i.e there is a sequence. Perhaps if we switched out the layers in the autoencoder from `Linear` to `LSTM` (a deep learning architecture that captures sequence/dependency), we could observer better results.  \n",
        "Conveniently, the `sequitur` class provides LSTM-based autoencoders as a class so we can use the library here:"
      ]
    },
    {
      "cell_type": "code",
      "source": [
        "!pip install sequitur"
      ],
      "metadata": {
        "colab": {
          "base_uri": "https://localhost:8080/"
        },
        "id": "WM6YsgMc5Njs",
        "outputId": "e0f2e0ab-e0b8-4b2d-a379-1327631ba89a"
      },
      "execution_count": null,
      "outputs": [
        {
          "output_type": "stream",
          "name": "stdout",
          "text": [
            "Collecting sequitur\n",
            "  Downloading sequitur-1.2.4.tar.gz (11 kB)\n",
            "  Preparing metadata (setup.py) ... \u001b[?25l\u001b[?25hdone\n",
            "Requirement already satisfied: torch in /usr/local/lib/python3.10/dist-packages (from sequitur) (2.0.1+cu118)\n",
            "Requirement already satisfied: filelock in /usr/local/lib/python3.10/dist-packages (from torch->sequitur) (3.12.2)\n",
            "Requirement already satisfied: typing-extensions in /usr/local/lib/python3.10/dist-packages (from torch->sequitur) (4.7.1)\n",
            "Requirement already satisfied: sympy in /usr/local/lib/python3.10/dist-packages (from torch->sequitur) (1.12)\n",
            "Requirement already satisfied: networkx in /usr/local/lib/python3.10/dist-packages (from torch->sequitur) (3.1)\n",
            "Requirement already satisfied: jinja2 in /usr/local/lib/python3.10/dist-packages (from torch->sequitur) (3.1.2)\n",
            "Requirement already satisfied: triton==2.0.0 in /usr/local/lib/python3.10/dist-packages (from torch->sequitur) (2.0.0)\n",
            "Requirement already satisfied: cmake in /usr/local/lib/python3.10/dist-packages (from triton==2.0.0->torch->sequitur) (3.27.2)\n",
            "Requirement already satisfied: lit in /usr/local/lib/python3.10/dist-packages (from triton==2.0.0->torch->sequitur) (16.0.6)\n",
            "Requirement already satisfied: MarkupSafe>=2.0 in /usr/local/lib/python3.10/dist-packages (from jinja2->torch->sequitur) (2.1.3)\n",
            "Requirement already satisfied: mpmath>=0.19 in /usr/local/lib/python3.10/dist-packages (from sympy->torch->sequitur) (1.3.0)\n",
            "Building wheels for collected packages: sequitur\n",
            "  Building wheel for sequitur (setup.py) ... \u001b[?25l\u001b[?25hdone\n",
            "  Created wheel for sequitur: filename=sequitur-1.2.4-py3-none-any.whl size=9607 sha256=9b085c761b052226c7068699abf8ee3b988eedbe8b9d9161eb29a072d4f4448b\n",
            "  Stored in directory: /root/.cache/pip/wheels/98/af/0d/45fde9d0819faa8a6d53b85f36576aaf2446b6a57eae68fc27\n",
            "Successfully built sequitur\n",
            "Installing collected packages: sequitur\n",
            "Successfully installed sequitur-1.2.4\n"
          ]
        }
      ]
    },
    {
      "cell_type": "code",
      "source": [
        "from sequitur.models import LSTM_AE\n",
        "from sequitur import quick_train"
      ],
      "metadata": {
        "id": "8YtjdzP1MMmo"
      },
      "execution_count": null,
      "outputs": []
    },
    {
      "cell_type": "code",
      "source": [
        "train_seqs = T.Tensor(road_test.train.values).to(device)\n",
        "encoder, decoder, _, _ = quick_train(LSTM_AE, train_seqs, encoding_dim=2, denoise=True)\n",
        "\n",
        "encoder(train_seqs) # => torch.tensor([0.19, 0.84])"
      ],
      "metadata": {
        "id": "ZGTb6DYERUZD",
        "outputId": "af608354-3f57-4e06-fa82-db67e840a7ed",
        "colab": {
          "base_uri": "https://localhost:8080/",
          "height": 384
        }
      },
      "execution_count": null,
      "outputs": [
        {
          "output_type": "error",
          "ename": "IndexError",
          "evalue": "ignored",
          "traceback": [
            "\u001b[0;31m---------------------------------------------------------------------------\u001b[0m",
            "\u001b[0;31mIndexError\u001b[0m                                Traceback (most recent call last)",
            "\u001b[0;32m<ipython-input-16-2123cd8e4e87>\u001b[0m in \u001b[0;36m<cell line: 2>\u001b[0;34m()\u001b[0m\n\u001b[1;32m      1\u001b[0m \u001b[0mtrain_seqs\u001b[0m \u001b[0;34m=\u001b[0m \u001b[0mT\u001b[0m\u001b[0;34m.\u001b[0m\u001b[0mTensor\u001b[0m\u001b[0;34m(\u001b[0m\u001b[0mroad_test\u001b[0m\u001b[0;34m.\u001b[0m\u001b[0mtrain\u001b[0m\u001b[0;34m.\u001b[0m\u001b[0mvalues\u001b[0m\u001b[0;34m)\u001b[0m\u001b[0;34m.\u001b[0m\u001b[0mto\u001b[0m\u001b[0;34m(\u001b[0m\u001b[0mdevice\u001b[0m\u001b[0;34m)\u001b[0m\u001b[0;34m\u001b[0m\u001b[0;34m\u001b[0m\u001b[0m\n\u001b[0;32m----> 2\u001b[0;31m \u001b[0mencoder\u001b[0m\u001b[0;34m,\u001b[0m \u001b[0mdecoder\u001b[0m\u001b[0;34m,\u001b[0m \u001b[0m_\u001b[0m\u001b[0;34m,\u001b[0m \u001b[0m_\u001b[0m \u001b[0;34m=\u001b[0m \u001b[0mquick_train\u001b[0m\u001b[0;34m(\u001b[0m\u001b[0mLSTM_AE\u001b[0m\u001b[0;34m,\u001b[0m \u001b[0mtrain_seqs\u001b[0m\u001b[0;34m,\u001b[0m \u001b[0mencoding_dim\u001b[0m\u001b[0;34m=\u001b[0m\u001b[0;36m2\u001b[0m\u001b[0;34m,\u001b[0m \u001b[0mdenoise\u001b[0m\u001b[0;34m=\u001b[0m\u001b[0;32mTrue\u001b[0m\u001b[0;34m)\u001b[0m\u001b[0;34m\u001b[0m\u001b[0;34m\u001b[0m\u001b[0m\n\u001b[0m\u001b[1;32m      3\u001b[0m \u001b[0;34m\u001b[0m\u001b[0m\n\u001b[1;32m      4\u001b[0m \u001b[0mencoder\u001b[0m\u001b[0;34m(\u001b[0m\u001b[0mtrain_seqs\u001b[0m\u001b[0;34m)\u001b[0m \u001b[0;31m# => torch.tensor([0.19, 0.84])\u001b[0m\u001b[0;34m\u001b[0m\u001b[0;34m\u001b[0m\u001b[0m\n",
            "\u001b[0;32m/usr/local/lib/python3.10/dist-packages/sequitur/quick_train.py\u001b[0m in \u001b[0;36mquick_train\u001b[0;34m(model, train_set, encoding_dim, verbose, lr, epochs, denoise, **kwargs)\u001b[0m\n\u001b[1;32m     74\u001b[0m def quick_train(model, train_set, encoding_dim, verbose=False, lr=1e-3,\n\u001b[1;32m     75\u001b[0m                 epochs=50, denoise=False, **kwargs):\n\u001b[0;32m---> 76\u001b[0;31m     \u001b[0mmodel\u001b[0m \u001b[0;34m=\u001b[0m \u001b[0minstantiate_model\u001b[0m\u001b[0;34m(\u001b[0m\u001b[0mmodel\u001b[0m\u001b[0;34m,\u001b[0m \u001b[0mtrain_set\u001b[0m\u001b[0;34m,\u001b[0m \u001b[0mencoding_dim\u001b[0m\u001b[0;34m,\u001b[0m \u001b[0;34m**\u001b[0m\u001b[0mkwargs\u001b[0m\u001b[0;34m)\u001b[0m\u001b[0;34m\u001b[0m\u001b[0;34m\u001b[0m\u001b[0m\n\u001b[0m\u001b[1;32m     77\u001b[0m     \u001b[0mlosses\u001b[0m \u001b[0;34m=\u001b[0m \u001b[0mtrain_model\u001b[0m\u001b[0;34m(\u001b[0m\u001b[0mmodel\u001b[0m\u001b[0;34m,\u001b[0m \u001b[0mtrain_set\u001b[0m\u001b[0;34m,\u001b[0m \u001b[0mverbose\u001b[0m\u001b[0;34m,\u001b[0m \u001b[0mlr\u001b[0m\u001b[0;34m,\u001b[0m \u001b[0mepochs\u001b[0m\u001b[0;34m,\u001b[0m \u001b[0mdenoise\u001b[0m\u001b[0;34m)\u001b[0m\u001b[0;34m\u001b[0m\u001b[0;34m\u001b[0m\u001b[0m\n\u001b[1;32m     78\u001b[0m     \u001b[0mencodings\u001b[0m \u001b[0;34m=\u001b[0m \u001b[0mget_encodings\u001b[0m\u001b[0;34m(\u001b[0m\u001b[0mmodel\u001b[0m\u001b[0;34m,\u001b[0m \u001b[0mtrain_set\u001b[0m\u001b[0;34m)\u001b[0m\u001b[0;34m\u001b[0m\u001b[0;34m\u001b[0m\u001b[0m\n",
            "\u001b[0;32m/usr/local/lib/python3.10/dist-packages/sequitur/quick_train.py\u001b[0m in \u001b[0;36minstantiate_model\u001b[0;34m(model, train_set, encoding_dim, **kwargs)\u001b[0m\n\u001b[1;32m     14\u001b[0m \u001b[0;32mdef\u001b[0m \u001b[0minstantiate_model\u001b[0m\u001b[0;34m(\u001b[0m\u001b[0mmodel\u001b[0m\u001b[0;34m,\u001b[0m \u001b[0mtrain_set\u001b[0m\u001b[0;34m,\u001b[0m \u001b[0mencoding_dim\u001b[0m\u001b[0;34m,\u001b[0m \u001b[0;34m**\u001b[0m\u001b[0mkwargs\u001b[0m\u001b[0;34m)\u001b[0m\u001b[0;34m:\u001b[0m\u001b[0;34m\u001b[0m\u001b[0;34m\u001b[0m\u001b[0m\n\u001b[1;32m     15\u001b[0m     \u001b[0;32mif\u001b[0m \u001b[0mmodel\u001b[0m\u001b[0;34m.\u001b[0m\u001b[0m__name__\u001b[0m \u001b[0;32min\u001b[0m \u001b[0;34m(\u001b[0m\u001b[0;34m\"LINEAR_AE\"\u001b[0m\u001b[0;34m,\u001b[0m \u001b[0;34m\"LSTM_AE\"\u001b[0m\u001b[0;34m)\u001b[0m\u001b[0;34m:\u001b[0m\u001b[0;34m\u001b[0m\u001b[0;34m\u001b[0m\u001b[0m\n\u001b[0;32m---> 16\u001b[0;31m         \u001b[0;32mreturn\u001b[0m \u001b[0mmodel\u001b[0m\u001b[0;34m(\u001b[0m\u001b[0mtrain_set\u001b[0m\u001b[0;34m[\u001b[0m\u001b[0;34m-\u001b[0m\u001b[0;36m1\u001b[0m\u001b[0;34m]\u001b[0m\u001b[0;34m.\u001b[0m\u001b[0mshape\u001b[0m\u001b[0;34m[\u001b[0m\u001b[0;34m-\u001b[0m\u001b[0;36m1\u001b[0m\u001b[0;34m]\u001b[0m\u001b[0;34m,\u001b[0m \u001b[0mencoding_dim\u001b[0m\u001b[0;34m,\u001b[0m \u001b[0;34m**\u001b[0m\u001b[0mkwargs\u001b[0m\u001b[0;34m)\u001b[0m\u001b[0;34m\u001b[0m\u001b[0;34m\u001b[0m\u001b[0m\n\u001b[0m\u001b[1;32m     17\u001b[0m     \u001b[0;32melif\u001b[0m \u001b[0mmodel\u001b[0m\u001b[0;34m.\u001b[0m\u001b[0m__name__\u001b[0m \u001b[0;34m==\u001b[0m \u001b[0;34m\"CONV_LSTM_AE\"\u001b[0m\u001b[0;34m:\u001b[0m\u001b[0;34m\u001b[0m\u001b[0;34m\u001b[0m\u001b[0m\n\u001b[1;32m     18\u001b[0m         \u001b[0;32mif\u001b[0m \u001b[0mlen\u001b[0m\u001b[0;34m(\u001b[0m\u001b[0mtrain_set\u001b[0m\u001b[0;34m[\u001b[0m\u001b[0;34m-\u001b[0m\u001b[0;36m1\u001b[0m\u001b[0;34m]\u001b[0m\u001b[0;34m.\u001b[0m\u001b[0mshape\u001b[0m\u001b[0;34m)\u001b[0m \u001b[0;34m==\u001b[0m \u001b[0;36m3\u001b[0m\u001b[0;34m:\u001b[0m \u001b[0;31m# 2D elements\u001b[0m\u001b[0;34m\u001b[0m\u001b[0;34m\u001b[0m\u001b[0m\n",
            "\u001b[0;32m/usr/local/lib/python3.10/dist-packages/sequitur/models/lstm_ae.py\u001b[0m in \u001b[0;36m__init__\u001b[0;34m(self, input_dim, encoding_dim, h_dims, h_activ, out_activ)\u001b[0m\n\u001b[1;32m     85\u001b[0m         self.encoder = Encoder(input_dim, encoding_dim, h_dims, h_activ,\n\u001b[1;32m     86\u001b[0m                                out_activ)\n\u001b[0;32m---> 87\u001b[0;31m         self.decoder = Decoder(encoding_dim, input_dim, h_dims[::-1],\n\u001b[0m\u001b[1;32m     88\u001b[0m                                h_activ)\n\u001b[1;32m     89\u001b[0m \u001b[0;34m\u001b[0m\u001b[0m\n",
            "\u001b[0;32m/usr/local/lib/python3.10/dist-packages/sequitur/models/lstm_ae.py\u001b[0m in \u001b[0;36m__init__\u001b[0;34m(self, input_dim, out_dim, h_dims, h_activ)\u001b[0m\n\u001b[1;32m     44\u001b[0m         \u001b[0msuper\u001b[0m\u001b[0;34m(\u001b[0m\u001b[0mDecoder\u001b[0m\u001b[0;34m,\u001b[0m \u001b[0mself\u001b[0m\u001b[0;34m)\u001b[0m\u001b[0;34m.\u001b[0m\u001b[0m__init__\u001b[0m\u001b[0;34m(\u001b[0m\u001b[0;34m)\u001b[0m\u001b[0;34m\u001b[0m\u001b[0;34m\u001b[0m\u001b[0m\n\u001b[1;32m     45\u001b[0m \u001b[0;34m\u001b[0m\u001b[0m\n\u001b[0;32m---> 46\u001b[0;31m         \u001b[0mlayer_dims\u001b[0m \u001b[0;34m=\u001b[0m \u001b[0;34m[\u001b[0m\u001b[0minput_dim\u001b[0m\u001b[0;34m]\u001b[0m \u001b[0;34m+\u001b[0m \u001b[0mh_dims\u001b[0m \u001b[0;34m+\u001b[0m \u001b[0;34m[\u001b[0m\u001b[0mh_dims\u001b[0m\u001b[0;34m[\u001b[0m\u001b[0;34m-\u001b[0m\u001b[0;36m1\u001b[0m\u001b[0;34m]\u001b[0m\u001b[0;34m]\u001b[0m\u001b[0;34m\u001b[0m\u001b[0;34m\u001b[0m\u001b[0m\n\u001b[0m\u001b[1;32m     47\u001b[0m         \u001b[0mself\u001b[0m\u001b[0;34m.\u001b[0m\u001b[0mnum_layers\u001b[0m \u001b[0;34m=\u001b[0m \u001b[0mlen\u001b[0m\u001b[0;34m(\u001b[0m\u001b[0mlayer_dims\u001b[0m\u001b[0;34m)\u001b[0m \u001b[0;34m-\u001b[0m \u001b[0;36m1\u001b[0m\u001b[0;34m\u001b[0m\u001b[0;34m\u001b[0m\u001b[0m\n\u001b[1;32m     48\u001b[0m         \u001b[0mself\u001b[0m\u001b[0;34m.\u001b[0m\u001b[0mlayers\u001b[0m \u001b[0;34m=\u001b[0m \u001b[0mnn\u001b[0m\u001b[0;34m.\u001b[0m\u001b[0mModuleList\u001b[0m\u001b[0;34m(\u001b[0m\u001b[0;34m)\u001b[0m\u001b[0;34m\u001b[0m\u001b[0;34m\u001b[0m\u001b[0m\n",
            "\u001b[0;31mIndexError\u001b[0m: list index out of range"
          ]
        }
      ]
    },
    {
      "cell_type": "code",
      "source": [
        "# class AE_LSTM(T.nn.Module):\n",
        "#     def __init__(self, size, encoding_dim:int, hidden_dims:list[int]):\n",
        "#         super().__init__()\n",
        "#         self.encoding_dim = encoding_dim\n",
        "#         self.hidden_dims = hidden_dims\n",
        "#         self.model_name_ = 'Autoencoder+LSTM'\n",
        "#         self.threshold = 0\n",
        "#         self.model = LSTM_AE(input_dim=size,\n",
        "#                              encoding_dim=self.encoding_dim,\n",
        "#                              h_dims=self.hidden_dims,\n",
        "#                              h_activ=None,\n",
        "#                              out_activ=None)\n",
        "#         self.model.__name__ = 'LSTM_AE'\n",
        "#         self.attack_f1 = dict()\n",
        "\n",
        "#     def rec_error(self, data):\n",
        "#         # diff = autoenc(T.Tensor(data.values)).detach().numpy() - data.values\n",
        "#         input = T.Tensor(data.values).to(device)\n",
        "#         diff = (self.model(input) - input).cpu().detach().numpy()\n",
        "#         error = np.mean(np.power(diff, 2), axis=1) # scalar error of reconstruction\n",
        "#         return error\n",
        "\n",
        "#     def calc_threshold(self, input):\n",
        "#         errors = self.rec_error(input) # compute errors of reconstruction\n",
        "#         self.threshold = 3*np.std(errors) # set threshold to 1 z-score\n",
        "\n",
        "#     def fit(self, input, epochs, learning_rate):\n",
        "#         print(\"\\nStarting training\")\n",
        "#         input = T.Tensor(input.values).to(device) # convert to Tensor\n",
        "#         encoder, decoder, _, losses = quick_train(self.model,\n",
        "#                                                   input,\n",
        "#                                                   encoding_dim=self.encoding_dim,\n",
        "#                                                   lr=learning_rate,\n",
        "#                                                   epochs=epochs)\n",
        "#         self.calc_threshold(input) # set the threshold using the training data\n",
        "#         print(\"Training completed!\")\n",
        "\n",
        "#     def detect_anomalies(self, data_X, label, attack_name, print_report=True, return_preds=False):\n",
        "#         error = self.rec_error(data_X) # compute error of reconstruction\n",
        "#         preds = np.where(error > self.threshold, 1, 0) # calculate predictions\n",
        "#         if print_report:\n",
        "#             print(f'Performance of the {self.model_name_} on {attack_name} attack:')\n",
        "#             print(classification_report(label, preds))\n",
        "\n",
        "#         self.attack_f1[attack_name] = f1_score(label, preds) # store the f1 score\n",
        "\n",
        "#         if return_preds: return preds"
      ],
      "metadata": {
        "id": "bLe3Opwi5QtO"
      },
      "execution_count": null,
      "outputs": []
    },
    {
      "cell_type": "code",
      "source": [
        "# class AutoEncoderLSTM():\n",
        "#     def __init__(self, input_dim, encoding_dim, hidden_dims, h_activ=None, out_activ=None):\n",
        "#         self.input_dim = input_dim\n",
        "#         self.encoding_dim = encoding_dim\n",
        "#         self.hidden_dims = hidden_dims\n",
        "#         self.h_activ = h_activ\n",
        "#         self.out_activ = out_activ\n",
        "#         self.model = LSTM_AE(input_dim=self.input_dim,\n",
        "#                              encoding_dim=self.encoding_dim,\n",
        "#                              h_dims=self.hidden_dims,\n",
        "#                              h_activ=None,\n",
        "#                              out_activ=None).to(device)\n",
        "\n",
        "#         self.attack_f1 = dict() # store f1 scores for visualization later\n",
        "#         self.model_name_ = 'Autoencoder(LSTM)'\n",
        "\n",
        "#     def rec_error(self, data):\n",
        "#         \"\"\"Compute the reconstruction error when a sample is passed through the autoencoder\"\"\"\n",
        "#         input = T.Tensor(data.values).to(device)\n",
        "#         diff = (self.model(input) - input).cpu().detach().numpy()\n",
        "#         error = np.mean(np.power(diff, 2), axis=1) # scalar error of reconstruction\n",
        "#         return error\n",
        "\n",
        "#     def calc_threshold(self, data):\n",
        "#         \"\"\"Calculate threshold as 3 * std of train data error\"\"\"\n",
        "#         errors = self.rec_error(data) # compute errors of reconstruction\n",
        "#         self.threshold = 3*np.std(errors)\n",
        "\n",
        "#     def fit(self, train_data):\n",
        "#         print(\"\\nStarting training\")\n",
        "#         input = T.Tensor(train_data.values).to(device)\n",
        "#         self.encoder, self.decoder, _, _ = quick_train(model,\n",
        "#                                                        train_data,\n",
        "#                                                        encoding_dim=self.encoding_dim)\n",
        "#         self.threshold = self.calc_threshold(input)\n",
        "#         print('Training complete')\n",
        "\n",
        "#     def detect_anomalies(self, data, label, attack_name, print_report=True, return_preds=False):\n",
        "#         # make predictions and print classification\n",
        "#         error = self.rec_error(data)\n",
        "#         preds = np.where(error > self.threshold, 1, 0) # transform predictions using {-1:1, 1:0}\n",
        "#         if print_report:\n",
        "#             print(f'Performance of the {self.model_name_} approach on {attack_name}:')\n",
        "#             print(classification_report(label, preds))\n",
        "\n",
        "#         self.attack_f1[attack_name] = f1_score(label, preds) # store the f1 score\n",
        "\n",
        "#         if return_preds: return preds\n",
        "\n",
        "#     def chart_f1(self):\n",
        "#         plt.figure(figsize=(13,5))\n",
        "#         plt.title(f'F1 scores of the {self.model_name_} model on several attack types')\n",
        "#         x, y = list(self.attack_f1.keys()), list(self.attack_f1.values())\n",
        "#         sns.barplot(x=x, y=y)\n",
        "#         plt.ylim(ymax=1.0)"
      ],
      "metadata": {
        "id": "kisL5165wegJ"
      },
      "execution_count": null,
      "outputs": []
    },
    {
      "cell_type": "code",
      "source": [
        "class Encoder(nn.Module):\n",
        "  def __init__(self, seq_len, n_features, embedding_dim=64):\n",
        "    super(Encoder, self).__init__()\n",
        "    self.seq_len, self.n_features = seq_len, n_features\n",
        "    self.embedding_dim, self.hidden_dim = embedding_dim, 2 * embedding_dim\n",
        "    self.rnn1 = nn.LSTM(\n",
        "      input_size=n_features,\n",
        "      hidden_size=self.hidden_dim,\n",
        "      num_layers=1,\n",
        "      batch_first=True\n",
        "    )\n",
        "    self.rnn2 = nn.LSTM(\n",
        "      input_size=self.hidden_dim,\n",
        "      hidden_size=embedding_dim,\n",
        "      num_layers=1,\n",
        "      batch_first=True\n",
        "    )\n",
        "  def forward(self, x):\n",
        "    x = x.reshape((1, self.seq_len, self.n_features))\n",
        "    x, (_, _) = self.rnn1(x)\n",
        "    x, (hidden_n, _) = self.rnn2(x)\n",
        "    return hidden_n.reshape((self.n_features, self.embedding_dim))"
      ],
      "metadata": {
        "id": "mBRF5UbVPTos"
      },
      "execution_count": null,
      "outputs": []
    },
    {
      "cell_type": "code",
      "source": [
        "class Decoder(nn.Module):\n",
        "  def __init__(self, seq_len, input_dim=64, n_features=1):\n",
        "    super(Decoder, self).__init__()\n",
        "    self.seq_len, self.input_dim = seq_len, input_dim\n",
        "    self.hidden_dim, self.n_features = 2 * input_dim, n_features\n",
        "    self.rnn1 = nn.LSTM(\n",
        "      input_size=input_dim,\n",
        "      hidden_size=input_dim,\n",
        "      num_layers=1,\n",
        "      batch_first=True\n",
        "    )\n",
        "    self.rnn2 = nn.LSTM(\n",
        "      input_size=input_dim,\n",
        "      hidden_size=self.hidden_dim,\n",
        "      num_layers=1,\n",
        "      batch_first=True\n",
        "    )\n",
        "    self.output_layer = nn.Linear(self.hidden_dim, n_features)\n",
        "  def forward(self, x):\n",
        "    x = x.repeat(self.seq_len, self.n_features)\n",
        "    x = x.reshape((self.n_features, self.seq_len, self.input_dim))\n",
        "    x, (hidden_n, cell_n) = self.rnn1(x)\n",
        "    x, (hidden_n, cell_n) = self.rnn2(x)\n",
        "    x = x.reshape((self.seq_len, self.hidden_dim))\n",
        "    return self.output_layer(x)"
      ],
      "metadata": {
        "id": "DBgTq7vcQnoU"
      },
      "execution_count": null,
      "outputs": []
    },
    {
      "cell_type": "code",
      "source": [
        "class RecurrentAutoencoder(nn.Module):\n",
        "  def __init__(self, seq_len, n_features, embedding_dim=64):\n",
        "    super(RecurrentAutoencoder, self).__init__()\n",
        "    self.encoder = Encoder(seq_len, n_features, embedding_dim).to(device)\n",
        "    self.decoder = Decoder(seq_len, embedding_dim, n_features).to(device)\n",
        "  def forward(self, x):\n",
        "    x = self.encoder(x)\n",
        "    x = self.decoder(x)\n",
        "    return x"
      ],
      "metadata": {
        "id": "HGhsG6guQsV6"
      },
      "execution_count": null,
      "outputs": []
    },
    {
      "cell_type": "code",
      "source": [
        "input = road_test.train\n",
        "autoenc2 = AutoEncoderLSTM(input_dim=input.shape[1], encoding_dim=4, hidden_dims=[8,6])\n",
        "\n",
        "autoenc2.fit(input) # train the model"
      ],
      "metadata": {
        "colab": {
          "base_uri": "https://localhost:8080/",
          "height": 819
        },
        "id": "lDOxc5N5hq3y",
        "outputId": "97eca86c-6bbb-4d30-9515-2fad45542174"
      },
      "execution_count": null,
      "outputs": [
        {
          "output_type": "stream",
          "name": "stdout",
          "text": [
            "\n",
            "Starting training\n"
          ]
        },
        {
          "output_type": "error",
          "ename": "TypeError",
          "evalue": "ignored",
          "traceback": [
            "\u001b[0;31m---------------------------------------------------------------------------\u001b[0m",
            "\u001b[0;31mTypeError\u001b[0m                                 Traceback (most recent call last)",
            "\u001b[0;32m<ipython-input-46-454a0b338366>\u001b[0m in \u001b[0;36m<cell line: 6>\u001b[0;34m()\u001b[0m\n\u001b[1;32m      4\u001b[0m                    hidden_dims=[8,6]).to(device)\n\u001b[1;32m      5\u001b[0m \u001b[0;34m\u001b[0m\u001b[0m\n\u001b[0;32m----> 6\u001b[0;31m autoenc2.fit(input = road_test.train,\n\u001b[0m\u001b[1;32m      7\u001b[0m             \u001b[0mepochs\u001b[0m \u001b[0;34m=\u001b[0m \u001b[0;36m100\u001b[0m\u001b[0;34m,\u001b[0m\u001b[0;34m\u001b[0m\u001b[0;34m\u001b[0m\u001b[0m\n\u001b[1;32m      8\u001b[0m             \u001b[0mlearning_rate\u001b[0m \u001b[0;34m=\u001b[0m \u001b[0;36m1e-3\u001b[0m\u001b[0;34m\u001b[0m\u001b[0;34m\u001b[0m\u001b[0m\n",
            "\u001b[0;32m<ipython-input-45-b0b4f7c900ba>\u001b[0m in \u001b[0;36mfit\u001b[0;34m(self, input, epochs, learning_rate)\u001b[0m\n\u001b[1;32m     31\u001b[0m         \u001b[0mprint\u001b[0m\u001b[0;34m(\u001b[0m\u001b[0;34m\"\\nStarting training\"\u001b[0m\u001b[0;34m)\u001b[0m\u001b[0;34m\u001b[0m\u001b[0;34m\u001b[0m\u001b[0m\n\u001b[1;32m     32\u001b[0m         \u001b[0minput\u001b[0m \u001b[0;34m=\u001b[0m \u001b[0mT\u001b[0m\u001b[0;34m.\u001b[0m\u001b[0mTensor\u001b[0m\u001b[0;34m(\u001b[0m\u001b[0minput\u001b[0m\u001b[0;34m.\u001b[0m\u001b[0mvalues\u001b[0m\u001b[0;34m)\u001b[0m\u001b[0;34m.\u001b[0m\u001b[0mto\u001b[0m\u001b[0;34m(\u001b[0m\u001b[0mdevice\u001b[0m\u001b[0;34m)\u001b[0m \u001b[0;31m# convert to Tensor\u001b[0m\u001b[0;34m\u001b[0m\u001b[0;34m\u001b[0m\u001b[0m\n\u001b[0;32m---> 33\u001b[0;31m         encoder, decoder, _, losses = quick_train(self.model,\n\u001b[0m\u001b[1;32m     34\u001b[0m                                                   \u001b[0minput\u001b[0m\u001b[0;34m,\u001b[0m\u001b[0;34m\u001b[0m\u001b[0;34m\u001b[0m\u001b[0m\n\u001b[1;32m     35\u001b[0m                                                   \u001b[0mencoding_dim\u001b[0m\u001b[0;34m=\u001b[0m\u001b[0mself\u001b[0m\u001b[0;34m.\u001b[0m\u001b[0mencoding_dim\u001b[0m\u001b[0;34m,\u001b[0m\u001b[0;34m\u001b[0m\u001b[0;34m\u001b[0m\u001b[0m\n",
            "\u001b[0;32m/usr/local/lib/python3.10/dist-packages/sequitur/quick_train.py\u001b[0m in \u001b[0;36mquick_train\u001b[0;34m(model, train_set, encoding_dim, verbose, lr, epochs, denoise, **kwargs)\u001b[0m\n\u001b[1;32m     74\u001b[0m def quick_train(model, train_set, encoding_dim, verbose=False, lr=1e-3,\n\u001b[1;32m     75\u001b[0m                 epochs=50, denoise=False, **kwargs):\n\u001b[0;32m---> 76\u001b[0;31m     \u001b[0mmodel\u001b[0m \u001b[0;34m=\u001b[0m \u001b[0minstantiate_model\u001b[0m\u001b[0;34m(\u001b[0m\u001b[0mmodel\u001b[0m\u001b[0;34m,\u001b[0m \u001b[0mtrain_set\u001b[0m\u001b[0;34m,\u001b[0m \u001b[0mencoding_dim\u001b[0m\u001b[0;34m,\u001b[0m \u001b[0;34m**\u001b[0m\u001b[0mkwargs\u001b[0m\u001b[0;34m)\u001b[0m\u001b[0;34m\u001b[0m\u001b[0;34m\u001b[0m\u001b[0m\n\u001b[0m\u001b[1;32m     77\u001b[0m     \u001b[0mlosses\u001b[0m \u001b[0;34m=\u001b[0m \u001b[0mtrain_model\u001b[0m\u001b[0;34m(\u001b[0m\u001b[0mmodel\u001b[0m\u001b[0;34m,\u001b[0m \u001b[0mtrain_set\u001b[0m\u001b[0;34m,\u001b[0m \u001b[0mverbose\u001b[0m\u001b[0;34m,\u001b[0m \u001b[0mlr\u001b[0m\u001b[0;34m,\u001b[0m \u001b[0mepochs\u001b[0m\u001b[0;34m,\u001b[0m \u001b[0mdenoise\u001b[0m\u001b[0;34m)\u001b[0m\u001b[0;34m\u001b[0m\u001b[0;34m\u001b[0m\u001b[0m\n\u001b[1;32m     78\u001b[0m     \u001b[0mencodings\u001b[0m \u001b[0;34m=\u001b[0m \u001b[0mget_encodings\u001b[0m\u001b[0;34m(\u001b[0m\u001b[0mmodel\u001b[0m\u001b[0;34m,\u001b[0m \u001b[0mtrain_set\u001b[0m\u001b[0;34m)\u001b[0m\u001b[0;34m\u001b[0m\u001b[0;34m\u001b[0m\u001b[0m\n",
            "\u001b[0;32m/usr/local/lib/python3.10/dist-packages/sequitur/quick_train.py\u001b[0m in \u001b[0;36minstantiate_model\u001b[0;34m(model, train_set, encoding_dim, **kwargs)\u001b[0m\n\u001b[1;32m     14\u001b[0m \u001b[0;32mdef\u001b[0m \u001b[0minstantiate_model\u001b[0m\u001b[0;34m(\u001b[0m\u001b[0mmodel\u001b[0m\u001b[0;34m,\u001b[0m \u001b[0mtrain_set\u001b[0m\u001b[0;34m,\u001b[0m \u001b[0mencoding_dim\u001b[0m\u001b[0;34m,\u001b[0m \u001b[0;34m**\u001b[0m\u001b[0mkwargs\u001b[0m\u001b[0;34m)\u001b[0m\u001b[0;34m:\u001b[0m\u001b[0;34m\u001b[0m\u001b[0;34m\u001b[0m\u001b[0m\n\u001b[1;32m     15\u001b[0m     \u001b[0;32mif\u001b[0m \u001b[0mmodel\u001b[0m\u001b[0;34m.\u001b[0m\u001b[0m__name__\u001b[0m \u001b[0;32min\u001b[0m \u001b[0;34m(\u001b[0m\u001b[0;34m\"LINEAR_AE\"\u001b[0m\u001b[0;34m,\u001b[0m \u001b[0;34m\"LSTM_AE\"\u001b[0m\u001b[0;34m)\u001b[0m\u001b[0;34m:\u001b[0m\u001b[0;34m\u001b[0m\u001b[0;34m\u001b[0m\u001b[0m\n\u001b[0;32m---> 16\u001b[0;31m         \u001b[0;32mreturn\u001b[0m \u001b[0mmodel\u001b[0m\u001b[0;34m(\u001b[0m\u001b[0mtrain_set\u001b[0m\u001b[0;34m[\u001b[0m\u001b[0;34m-\u001b[0m\u001b[0;36m1\u001b[0m\u001b[0;34m]\u001b[0m\u001b[0;34m.\u001b[0m\u001b[0mshape\u001b[0m\u001b[0;34m[\u001b[0m\u001b[0;34m-\u001b[0m\u001b[0;36m1\u001b[0m\u001b[0;34m]\u001b[0m\u001b[0;34m,\u001b[0m \u001b[0mencoding_dim\u001b[0m\u001b[0;34m,\u001b[0m \u001b[0;34m**\u001b[0m\u001b[0mkwargs\u001b[0m\u001b[0;34m)\u001b[0m\u001b[0;34m\u001b[0m\u001b[0;34m\u001b[0m\u001b[0m\n\u001b[0m\u001b[1;32m     17\u001b[0m     \u001b[0;32melif\u001b[0m \u001b[0mmodel\u001b[0m\u001b[0;34m.\u001b[0m\u001b[0m__name__\u001b[0m \u001b[0;34m==\u001b[0m \u001b[0;34m\"CONV_LSTM_AE\"\u001b[0m\u001b[0;34m:\u001b[0m\u001b[0;34m\u001b[0m\u001b[0;34m\u001b[0m\u001b[0m\n\u001b[1;32m     18\u001b[0m         \u001b[0;32mif\u001b[0m \u001b[0mlen\u001b[0m\u001b[0;34m(\u001b[0m\u001b[0mtrain_set\u001b[0m\u001b[0;34m[\u001b[0m\u001b[0;34m-\u001b[0m\u001b[0;36m1\u001b[0m\u001b[0;34m]\u001b[0m\u001b[0;34m.\u001b[0m\u001b[0mshape\u001b[0m\u001b[0;34m)\u001b[0m \u001b[0;34m==\u001b[0m \u001b[0;36m3\u001b[0m\u001b[0;34m:\u001b[0m \u001b[0;31m# 2D elements\u001b[0m\u001b[0;34m\u001b[0m\u001b[0;34m\u001b[0m\u001b[0m\n",
            "\u001b[0;32m/usr/local/lib/python3.10/dist-packages/torch/nn/modules/module.py\u001b[0m in \u001b[0;36m_call_impl\u001b[0;34m(self, *args, **kwargs)\u001b[0m\n\u001b[1;32m   1499\u001b[0m                 \u001b[0;32mor\u001b[0m \u001b[0m_global_backward_pre_hooks\u001b[0m \u001b[0;32mor\u001b[0m \u001b[0m_global_backward_hooks\u001b[0m\u001b[0;34m\u001b[0m\u001b[0;34m\u001b[0m\u001b[0m\n\u001b[1;32m   1500\u001b[0m                 or _global_forward_hooks or _global_forward_pre_hooks):\n\u001b[0;32m-> 1501\u001b[0;31m             \u001b[0;32mreturn\u001b[0m \u001b[0mforward_call\u001b[0m\u001b[0;34m(\u001b[0m\u001b[0;34m*\u001b[0m\u001b[0margs\u001b[0m\u001b[0;34m,\u001b[0m \u001b[0;34m**\u001b[0m\u001b[0mkwargs\u001b[0m\u001b[0;34m)\u001b[0m\u001b[0;34m\u001b[0m\u001b[0;34m\u001b[0m\u001b[0m\n\u001b[0m\u001b[1;32m   1502\u001b[0m         \u001b[0;31m# Do not call functions when jit is used\u001b[0m\u001b[0;34m\u001b[0m\u001b[0;34m\u001b[0m\u001b[0m\n\u001b[1;32m   1503\u001b[0m         \u001b[0mfull_backward_hooks\u001b[0m\u001b[0;34m,\u001b[0m \u001b[0mnon_full_backward_hooks\u001b[0m \u001b[0;34m=\u001b[0m \u001b[0;34m[\u001b[0m\u001b[0;34m]\u001b[0m\u001b[0;34m,\u001b[0m \u001b[0;34m[\u001b[0m\u001b[0;34m]\u001b[0m\u001b[0;34m\u001b[0m\u001b[0;34m\u001b[0m\u001b[0m\n",
            "\u001b[0;31mTypeError\u001b[0m: LSTM_AE.forward() takes 2 positional arguments but 3 were given"
          ]
        }
      ]
    },
    {
      "cell_type": "code",
      "source": [
        "test_method(model=autoenc2,\n",
        "              dset=road_test,\n",
        "              print_report=False)"
      ],
      "metadata": {
        "id": "at_ONFloiWan"
      },
      "execution_count": null,
      "outputs": []
    },
    {
      "cell_type": "markdown",
      "source": [
        "how does this new model behave on validation data?"
      ],
      "metadata": {
        "id": "iHzHZF1nRIqM"
      }
    },
    {
      "cell_type": "code",
      "source": [
        "test_method(model=autoenc2,\n",
        "              dset=road_valid,\n",
        "              print_report=False)"
      ],
      "metadata": {
        "id": "CsDtH0uuRNIG"
      },
      "execution_count": null,
      "outputs": []
    },
    {
      "cell_type": "markdown",
      "metadata": {
        "id": "7F05-fxRkVZh"
      },
      "source": [
        "## Conclusion\n",
        "We have seen the results of the three method on anomaly detection. Several other methods exist. Some research papers use Long Short Term Memory (LSTM) and/or ConvNet architecture in place of Autoencoders, message intervals in place of frequency detection, support vectors instead of tree-based estimation and so on. Perhaps it is a good idea to build a classifier? Several roads lead to the market.\n",
        "\n",
        "One thing that can be improved on in the various method above is hyperparameter tuning for the two machine learning method and a search across different threshold values for the frequency detection method."
      ]
    },
    {
      "cell_type": "markdown",
      "metadata": {
        "id": "LquYoOxlOoon"
      },
      "source": [
        "__________"
      ]
    },
    {
      "cell_type": "markdown",
      "metadata": {
        "id": "c3EL5d8PAhdi"
      },
      "source": [
        "# References\n",
        "\n",
        "Fawaz Waselallah Alsaade, & Mosleh Hmoud Al-Adhaileh. (2023). Cyber Attack Detection for Self-Driving Vehicle Networks Using Deep Autoencoder Algorithms. Sensors, 23(8), 4086–4086. https://doi.org/10.3390/s23084086\n",
        "\n",
        "Hoppe, T., Kiltz, S., & Dittmann, J. (2011). Security threats to automotive CAN networks—Practical examples and selected short-term countermeasures. Reliability Engineering & System Safety, 96(1), 11–25. https://doi.org/10.1016/j.ress.2010.06.026\n",
        "\n",
        "Liu, F. T., Ting, K. M., & Zhou, Z.-H. (2008). Isolation Forest. 2008 Eighth IEEE International Conference on Data Mining, 413–422. https://doi.org/10.1109/icdm.2008.17\n",
        "\n",
        "Verma, M. E., Iannacone, M. D., Bridges, R. A., Hollifield, S. C., Moriano, P., Kay, B., & Combs, F. L. (2020). Addressing the Lack of Comparability & Testing in CAN Intrusion Detection Research: A Comprehensive Guide to CAN IDS Data & Introduction of the ROAD Dataset. Retrieved August 26, 2023, from arXiv.org website: https://arxiv.org/abs/2012.14600"
      ]
    }
  ],
  "metadata": {
    "colab": {
      "provenance": [],
      "gpuType": "T4",
      "include_colab_link": true
    },
    "kernelspec": {
      "display_name": "Python 3",
      "name": "python3"
    },
    "language_info": {
      "codemirror_mode": {
        "name": "ipython",
        "version": 3
      },
      "file_extension": ".py",
      "mimetype": "text/x-python",
      "name": "python",
      "nbconvert_exporter": "python",
      "pygments_lexer": "ipython3",
      "version": "3.11.2"
    },
    "accelerator": "GPU"
  },
  "nbformat": 4,
  "nbformat_minor": 0
}