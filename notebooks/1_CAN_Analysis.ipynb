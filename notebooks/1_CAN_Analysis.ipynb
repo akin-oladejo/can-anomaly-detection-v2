{
 "cells": [
  {
   "cell_type": "markdown",
   "metadata": {
    "colab_type": "text",
    "id": "view-in-github"
   },
   "source": [
    "<a href=\"https://colab.research.google.com/github/akin-oladejo/can-anomaly-detection/blob/main/notebooks/Analysis%20of%20normal%20Renault%20CAN%20Data.ipynb\" target=\"_parent\"><img src=\"https://colab.research.google.com/assets/colab-badge.svg\" alt=\"Open In Colab\"/></a>"
   ]
  },
  {
   "cell_type": "markdown",
   "metadata": {
    "id": "KiDmoKqs-s15"
   },
   "source": [
    "# Analysis of the Renault CAN Data"
   ]
  },
  {
   "cell_type": "markdown",
   "metadata": {
    "id": "AU9zVsEZSiZQ"
   },
   "source": [
    "## The Task\n",
    "The Controller Area Network (CAN) is currently the most widely-used in-vehicle networking protocol. It is a bi-directional, multi-master, serial bus that uses UTP cabling to ensure reliability in electromagnetically noisy environments. Several devices in modern vehicles communicate with each other using the CAN protocol. Some of these devices are connected to the internet, allowing external attacks in various forms such as Replay, Spoofing, Denial of Service (DOS) and so on. In this project, different methods will be employed to detect attacks on the CAN, employing methods from different research articles.  \n",
    "\n",
    "The methods are:\n",
    "1. Frequency-based detection\n",
    "2. Anomaly detection using the latent representation of normal data (i.e. autoencoders)\n",
    "3. Anomaly detection using vehicle state transition (i.e. hidden markov models)\n",
    "\n",
    "4. *Bonus: Anomaly detection using a triplet-loss network*\n",
    "\n"
   ]
  },
  {
   "cell_type": "code",
   "execution_count": 1,
   "metadata": {
    "id": "9FAE4BqEREZu"
   },
   "outputs": [],
   "source": [
    "import pandas as pd\n",
    "import numpy as np\n",
    "from sklearn.preprocessing import StandardScaler\n",
    "import joblib\n",
    "import json\n",
    "import warnings"
   ]
  },
  {
   "cell_type": "code",
   "execution_count": 2,
   "metadata": {
    "id": "2JqhFAR2-HAJ"
   },
   "outputs": [],
   "source": [
    "# config\n",
    "warnings.filterwarnings('ignore')\n",
    "pd.set_option('display.max_rows', 500)\n",
    "pd.set_option('display.max_columns', 500)\n",
    "pd.set_option('display.width', 1000)"
   ]
  },
  {
   "cell_type": "markdown",
   "metadata": {
    "id": "8y3qIvlkp1w_"
   },
   "source": [
    "## The Dataset\n",
    "The dataset used in this project is the **Automotive Controller Area Network (CAN) Bus Intrusion Dataset v2**. It can be found [here](https://figshare.com/articles/dataset/Automotive_Controller_Area_Network_CAN_Bus_Intrusion_Dataset/12696950). This dataset contains automotive Controller Area Network (CAN) bus data from three systems: two cars (Opel Astra and Renault Clio) and from a CAN bus prototype made by the authors of the dataset. Its purpose is to evaluate CAN bus Network Intrusion Detection Systems (NIDS). For each vehicle/system, there is a collection of log files captured from its CAN bus: normal (attack-free) data for training and testing detection algorithms, and different CAN bus attacks (Diagnostic, Fuzzing attacks, Replay attack, Suspension attack and Denial-of-Service attack).\n",
    "\n",
    "For this project, I used data from the Renault Clio. The description of the different logs and attacks can be found in `../RenaultClio/README.md`"
   ]
  },
  {
   "cell_type": "code",
   "execution_count": 3,
   "metadata": {
    "id": "Q2ThjTFSRLpp"
   },
   "outputs": [],
   "source": [
    "# store the locations of the datasets\n",
    "data_path = 'data'\n",
    "with open(f'../{data_path}/metadata.json', 'r') as f:\n",
    "    dataset = json.load(f)\n",
    "\n",
    "train_path = dataset['train']['path']\n",
    "train = pd.read_csv(train_path,\n",
    "                    delimiter=' ',\n",
    "                    # header=None,\n",
    "                    names=['timestamp', 'device', 'id_and_message'])"
   ]
  },
  {
   "cell_type": "markdown",
   "metadata": {},
   "source": [
    "Note that the ambient logs used as the train dataset are obtained from the dyno. This is to maintain uniformity as the attack data was captured from the dyno too."
   ]
  },
  {
   "cell_type": "code",
   "execution_count": 4,
   "metadata": {
    "colab": {
     "base_uri": "https://localhost:8080/",
     "height": 224
    },
    "id": "n2Tq08qPWkZ3",
    "outputId": "95054380-2c04-4ae0-a1a1-ed460ce209e6"
   },
   "outputs": [
    {
     "name": "stdout",
     "output_type": "stream",
     "text": [
      "(1424208, 3)\n"
     ]
    },
    {
     "data": {
      "text/html": [
       "<div>\n",
       "<style scoped>\n",
       "    .dataframe tbody tr th:only-of-type {\n",
       "        vertical-align: middle;\n",
       "    }\n",
       "\n",
       "    .dataframe tbody tr th {\n",
       "        vertical-align: top;\n",
       "    }\n",
       "\n",
       "    .dataframe thead th {\n",
       "        text-align: right;\n",
       "    }\n",
       "</style>\n",
       "<table border=\"1\" class=\"dataframe\">\n",
       "  <thead>\n",
       "    <tr style=\"text-align: right;\">\n",
       "      <th></th>\n",
       "      <th>timestamp</th>\n",
       "      <th>device</th>\n",
       "      <th>id_and_message</th>\n",
       "    </tr>\n",
       "  </thead>\n",
       "  <tbody>\n",
       "    <tr>\n",
       "      <th>0</th>\n",
       "      <td>(1090000000.000000)</td>\n",
       "      <td>can0</td>\n",
       "      <td>107#0000000000000000</td>\n",
       "    </tr>\n",
       "    <tr>\n",
       "      <th>1</th>\n",
       "      <td>(1090000000.001017)</td>\n",
       "      <td>can0</td>\n",
       "      <td>FFF#0000000000000000</td>\n",
       "    </tr>\n",
       "    <tr>\n",
       "      <th>2</th>\n",
       "      <td>(1090000000.001018)</td>\n",
       "      <td>can0</td>\n",
       "      <td>655#8800010178000010</td>\n",
       "    </tr>\n",
       "    <tr>\n",
       "      <th>3</th>\n",
       "      <td>(1090000000.001019)</td>\n",
       "      <td>can0</td>\n",
       "      <td>0BA#04A7F484000606A0</td>\n",
       "    </tr>\n",
       "    <tr>\n",
       "      <th>4</th>\n",
       "      <td>(1090000000.010104)</td>\n",
       "      <td>can0</td>\n",
       "      <td>32D#8000042758010000</td>\n",
       "    </tr>\n",
       "  </tbody>\n",
       "</table>\n",
       "</div>"
      ],
      "text/plain": [
       "             timestamp device        id_and_message\n",
       "0  (1090000000.000000)   can0  107#0000000000000000\n",
       "1  (1090000000.001017)   can0  FFF#0000000000000000\n",
       "2  (1090000000.001018)   can0  655#8800010178000010\n",
       "3  (1090000000.001019)   can0  0BA#04A7F484000606A0\n",
       "4  (1090000000.010104)   can0  32D#8000042758010000"
      ]
     },
     "execution_count": 4,
     "metadata": {},
     "output_type": "execute_result"
    }
   ],
   "source": [
    "print(train.shape) # print the number of rows and columns\n",
    "train.head() # print first 5 rows"
   ]
  },
  {
   "cell_type": "code",
   "execution_count": 5,
   "metadata": {
    "colab": {
     "base_uri": "https://localhost:8080/"
    },
    "id": "_iKssZuSM2Pp",
    "outputId": "11ac96fe-157e-4a8e-ba25-0fde412bc38b"
   },
   "outputs": [
    {
     "data": {
      "text/plain": [
       "timestamp         0\n",
       "device            0\n",
       "id_and_message    0\n",
       "dtype: int64"
      ]
     },
     "execution_count": 5,
     "metadata": {},
     "output_type": "execute_result"
    }
   ],
   "source": [
    "train.isnull().sum() # print the total number of missing rows"
   ]
  },
  {
   "cell_type": "markdown",
   "metadata": {
    "id": "4CeFeUa3IigO"
   },
   "source": [
    "Great, there is no missing data. "
   ]
  },
  {
   "cell_type": "markdown",
   "metadata": {
    "id": "wopr5uhjhJ8j"
   },
   "source": [
    "#### The `Timestamp` Feature\n",
    "The first column represents the timestamp in epochs. Converting this timestamp to datetime makes it easier to work with:"
   ]
  },
  {
   "cell_type": "code",
   "execution_count": 6,
   "metadata": {
    "colab": {
     "base_uri": "https://localhost:8080/"
    },
    "id": "I7oqebGvTNjd",
    "outputId": "810ee1f6-5987-4324-c081-b2479dc6799b"
   },
   "outputs": [],
   "source": [
    "timestamp = train['timestamp'].apply(lambda x: x.strip('()')) # strip parentheses\n",
    "train['timestamp'] = pd.to_datetime(timestamp, unit='s') # convert to datetime"
   ]
  },
  {
   "cell_type": "code",
   "execution_count": 7,
   "metadata": {},
   "outputs": [
    {
     "data": {
      "text/plain": [
       "0    1090000000.000000\n",
       "1    1090000000.001017\n",
       "2    1090000000.001018\n",
       "Name: timestamp, dtype: object"
      ]
     },
     "execution_count": 7,
     "metadata": {},
     "output_type": "execute_result"
    }
   ],
   "source": [
    "timestamp.head(3)"
   ]
  },
  {
   "cell_type": "markdown",
   "metadata": {
    "id": "jKbADb0k6UlU"
   },
   "source": [
    "#### The `Device` Feature: What is slcan0?\n",
    "The `slcan0` is the index of the device reading the CAN data on the SLCAN (socket-based) interface. It is consistent throughout the renault logs because only one socket-based device, with index 0, was used. In readings of the custom CAN prototype by the authors, the name of this  device is `can0` indicating that device is reading using real hardware. For more information on CAN interfaces, take a look at [this resource](https://elinux.org/Bringing_CAN_interface_up#Introduction), or section 6.4 in [this documentation](https://www.kernel.org/doc/Documentation/networking/can.txt).  \n",
    "\n",
    "The feature `slcan0` is redundant and has no significance on the CAN data so it will not be included in the data used to train the models."
   ]
  },
  {
   "cell_type": "code",
   "execution_count": 8,
   "metadata": {
    "id": "a5NYnCI6NDwv"
   },
   "outputs": [],
   "source": [
    "train.drop(columns='device', inplace=True) # drop slcan column"
   ]
  },
  {
   "cell_type": "code",
   "execution_count": 9,
   "metadata": {
    "colab": {
     "base_uri": "https://localhost:8080/",
     "height": 112
    },
    "id": "9Rq1IMD-XtY9",
    "outputId": "ff74aca0-6f14-4144-f3d6-e28cd39c9112"
   },
   "outputs": [
    {
     "data": {
      "text/html": [
       "<div>\n",
       "<style scoped>\n",
       "    .dataframe tbody tr th:only-of-type {\n",
       "        vertical-align: middle;\n",
       "    }\n",
       "\n",
       "    .dataframe tbody tr th {\n",
       "        vertical-align: top;\n",
       "    }\n",
       "\n",
       "    .dataframe thead th {\n",
       "        text-align: right;\n",
       "    }\n",
       "</style>\n",
       "<table border=\"1\" class=\"dataframe\">\n",
       "  <thead>\n",
       "    <tr style=\"text-align: right;\">\n",
       "      <th></th>\n",
       "      <th>timestamp</th>\n",
       "      <th>id_and_message</th>\n",
       "    </tr>\n",
       "  </thead>\n",
       "  <tbody>\n",
       "    <tr>\n",
       "      <th>0</th>\n",
       "      <td>2004-07-16 17:46:40</td>\n",
       "      <td>107#0000000000000000</td>\n",
       "    </tr>\n",
       "    <tr>\n",
       "      <th>1</th>\n",
       "      <td>2004-07-16 17:46:40</td>\n",
       "      <td>FFF#0000000000000000</td>\n",
       "    </tr>\n",
       "  </tbody>\n",
       "</table>\n",
       "</div>"
      ],
      "text/plain": [
       "            timestamp        id_and_message\n",
       "0 2004-07-16 17:46:40  107#0000000000000000\n",
       "1 2004-07-16 17:46:40  FFF#0000000000000000"
      ]
     },
     "execution_count": 9,
     "metadata": {},
     "output_type": "execute_result"
    }
   ],
   "source": [
    "train.head(2)"
   ]
  },
  {
   "cell_type": "markdown",
   "metadata": {
    "id": "6pKIKV5kikBF"
   },
   "source": [
    "#### Extracting CAN ID and packet data\n",
    "Let's take a look at a single example:"
   ]
  },
  {
   "cell_type": "code",
   "execution_count": 10,
   "metadata": {
    "colab": {
     "base_uri": "https://localhost:8080/"
    },
    "id": "lJ6Wbys0mzzD",
    "outputId": "ef41796e-314e-4086-f78a-18f2e1f34ee4"
   },
   "outputs": [
    {
     "data": {
      "text/plain": [
       "timestamp          2004-07-16 17:46:40\n",
       "id_and_message    107#0000000000000000\n",
       "Name: 0, dtype: object"
      ]
     },
     "execution_count": 10,
     "metadata": {},
     "output_type": "execute_result"
    }
   ],
   "source": [
    "train.iloc[0]"
   ]
  },
  {
   "cell_type": "markdown",
   "metadata": {
    "id": "foi17lWjnQEi"
   },
   "source": [
    "From the documentation in the README provided by the dataset's authors, we see that the second feature contains both CAN arbitration identifier and message. Let's extract the Arbitration ID and data."
   ]
  },
  {
   "cell_type": "code",
   "execution_count": 11,
   "metadata": {
    "colab": {
     "base_uri": "https://localhost:8080/",
     "height": 112
    },
    "id": "2skn0l2bJMwZ",
    "outputId": "b5e57895-3079-48dd-957e-dc82cceeb69f"
   },
   "outputs": [
    {
     "data": {
      "text/html": [
       "<div>\n",
       "<style scoped>\n",
       "    .dataframe tbody tr th:only-of-type {\n",
       "        vertical-align: middle;\n",
       "    }\n",
       "\n",
       "    .dataframe tbody tr th {\n",
       "        vertical-align: top;\n",
       "    }\n",
       "\n",
       "    .dataframe thead th {\n",
       "        text-align: right;\n",
       "    }\n",
       "</style>\n",
       "<table border=\"1\" class=\"dataframe\">\n",
       "  <thead>\n",
       "    <tr style=\"text-align: right;\">\n",
       "      <th></th>\n",
       "      <th>0</th>\n",
       "      <th>1</th>\n",
       "    </tr>\n",
       "  </thead>\n",
       "  <tbody>\n",
       "    <tr>\n",
       "      <th>0</th>\n",
       "      <td>107</td>\n",
       "      <td>0000000000000000</td>\n",
       "    </tr>\n",
       "    <tr>\n",
       "      <th>1</th>\n",
       "      <td>FFF</td>\n",
       "      <td>0000000000000000</td>\n",
       "    </tr>\n",
       "  </tbody>\n",
       "</table>\n",
       "</div>"
      ],
      "text/plain": [
       "     0                 1\n",
       "0  107  0000000000000000\n",
       "1  FFF  0000000000000000"
      ]
     },
     "execution_count": 11,
     "metadata": {},
     "output_type": "execute_result"
    }
   ],
   "source": [
    "id_and_message = train['id_and_message'].str.split('#', expand=True)\n",
    "id_and_message.head(2)"
   ]
  },
  {
   "cell_type": "markdown",
   "metadata": {
    "id": "SldMBoSqJyEr"
   },
   "source": [
    "##### CAN-ID\n",
    "The first column of the `id_and_message` dataframe contains Arbitration ID values"
   ]
  },
  {
   "cell_type": "code",
   "execution_count": 12,
   "metadata": {
    "colab": {
     "base_uri": "https://localhost:8080/"
    },
    "id": "ThrT5lExvTzM",
    "outputId": "a2b99976-aa3a-4c9a-b472-59b7426051a4"
   },
   "outputs": [
    {
     "data": {
      "text/plain": [
       "0    107\n",
       "1    FFF\n",
       "2    655\n",
       "3    0BA\n",
       "4    32D\n",
       "Name: 0, dtype: object"
      ]
     },
     "execution_count": 12,
     "metadata": {},
     "output_type": "execute_result"
    }
   ],
   "source": [
    "id = id_and_message[0] # extract CAN ID\n",
    "id.head()"
   ]
  },
  {
   "cell_type": "markdown",
   "metadata": {
    "id": "0Mj38pKOVvKV"
   },
   "source": [
    "The documentation states that there are 55 distinct `id` values in the Renault's CAN, making `id` categorical. As a preprocessing step, the `id` column will be one-hot encoded."
   ]
  },
  {
   "cell_type": "code",
   "execution_count": 13,
   "metadata": {
    "colab": {
     "base_uri": "https://localhost:8080/"
    },
    "id": "wevxypjhCVNm",
    "outputId": "65e2af0a-a5ad-4ee5-c8b2-64c5075507e5"
   },
   "outputs": [
    {
     "name": "stdout",
     "output_type": "stream",
     "text": [
      "Number of arbitration IDs present in the training data:  106\n"
     ]
    },
    {
     "data": {
      "text/plain": [
       "array(['107', 'FFF', '655', '0BA', '32D', '03C', '207', '4C9', '1D6',\n",
       "       '533', '5FD', '273', '1C4', '2A4', '371', '67D', '51B', '0CC',\n",
       "       '0FD', '1A4', '1E5', '3B9', '21D', '0F1', '041', '297', '5AF',\n",
       "       '419', '1AA', '30A', '006', '576', '0F8', '585', '5B3', '2B4',\n",
       "       '2AB', '6D7', '12C', '26E', '025', '193', '20E', '522', '366',\n",
       "       '580', '434', '6E0', '498', '464', '230', '2B7', '671', '2E1',\n",
       "       '354', '5E1', '162', '0A7', '2A3', '28B', '6FC', '239', '0D7',\n",
       "       '497', '00E', '2E2', '345', '430', '130', '2D2', '55C', '407',\n",
       "       '075', '03A', '03D', '4EE', '69D', '1CA', '5E8', '277', '4FD',\n",
       "       '3A2', '66C', '618', '4E7', '153', '295', '662', '684', '636',\n",
       "       '2D7', '19C', '0D0', '033', '274', '0C0', '3E4', '65C', '577',\n",
       "       '69E', '125', '4CB', '280', '0F4', '3C1', '2C1'], dtype=object)"
      ]
     },
     "execution_count": 13,
     "metadata": {},
     "output_type": "execute_result"
    }
   ],
   "source": [
    "# show the number of unique can_id values\n",
    "print('Number of arbitration IDs present in the training data: ', id.nunique())\n",
    "unique_ids = id.unique()\n",
    "unique_ids"
   ]
  },
  {
   "cell_type": "code",
   "execution_count": 14,
   "metadata": {},
   "outputs": [],
   "source": [
    "class ArbitrationEncoder():\n",
    "    \"\"\"\n",
    "    Convert arbitration Id's into floats and normalize them. During transformation, \n",
    "    previously unseen id's are stored using an unknown_value parameter that is either\n",
    "    passed during instantiation or calculated as the negative of the number of unique valid ID's\n",
    "\n",
    "    Example\n",
    "    =======\n",
    "    >>> enc = ArbitrationEncoder(unknown_value = -150)\n",
    "    >>> enc.fit(df['arbitration_id'])\n",
    "    >>> enc.transform(test_df['arbitration_id'])\n",
    "    \"\"\"\n",
    "    def __init__(self, unknown_value:int|None=None):\n",
    "        self.valid_ids = {}\n",
    "        self.unknown_value = unknown_value if unknown_value else None\n",
    "\n",
    "    @np.vectorize\n",
    "    def make_float(self, val):\n",
    "        \"\"\"Convert hex to float\"\"\"\n",
    "        return float(int(val, base=16)) # convert to float\n",
    "\n",
    "    def fit(self, train_ids):\n",
    "        \"\"\"\n",
    "        Determine the unique elements, standard deviation and mean of the input array.\n",
    "        Also, calculate default value for unseen ID's if not passed at instantiation\n",
    "        \"\"\"\n",
    "        # if isinstance(train_ids, pd.DataFrame):\n",
    "        #     train_ids = arr.values\n",
    "        self.valid_ids = set(train_ids) # get unique train id's\n",
    "        self.converted_valid_ids = self.make_float(self,train_ids)\n",
    "        self.std = np.std(self.converted_valid_ids) # calculate std\n",
    "        self.mean = np.mean(self.converted_valid_ids) # calculate mean\n",
    "        if not self.unknown_value:\n",
    "            self.unknown_value = -(len(self.valid_ids))\n",
    "\n",
    "    @np.vectorize\n",
    "    def convert_and_scale(self, val):\n",
    "        \"\"\"\n",
    "        Normalize array (compute the z-score). Note that all previously unseen values have the\n",
    "        same transformation since `unknown_value` is a constant.\n",
    "        \"\"\"\n",
    "        if not val in self.valid_ids:\n",
    "            return (self.unknown_value - self.mean)/self.std\n",
    "        else:\n",
    "            converted_id = self.make_float(self, val) # convert from hex to float\n",
    "            return (converted_id - self.mean)/self.std #return z score\n",
    "        \n",
    "    def transform(self, arr):\n",
    "        \"\"\"\n",
    "        Transform array after running the `fit()` method\n",
    "        \"\"\"\n",
    "        return self.convert_and_scale(self, arr)\n",
    "\n",
    "    def fit_transform(self, arr):\n",
    "        self.fit(arr)\n",
    "        return self.transform(arr)"
   ]
  },
  {
   "cell_type": "code",
   "execution_count": 15,
   "metadata": {},
   "outputs": [
    {
     "name": "stdout",
     "output_type": "stream",
     "text": [
      "transformation with seen ID's:\n",
      "[-1.34164079 -0.4472136   0.4472136   1.34164079]\n",
      "\n",
      "transformation with unseen ID:\n"
     ]
    },
    {
     "data": {
      "text/plain": [
       "array([ -1.34164079, -13.86362146,   0.4472136 ,   1.34164079])"
      ]
     },
     "execution_count": 15,
     "metadata": {},
     "output_type": "execute_result"
    }
   ],
   "source": [
    "ex = np.array(['A', 'B', 'C', 'D'])\n",
    "enc = ArbitrationEncoder(unknown_value = -(ex.shape[0]))\n",
    "enc.fit(ex)\n",
    "print(\"transformation with seen ID's:\")\n",
    "print(enc.transform(ex))\n",
    "\n",
    "print('\\ntransformation with unseen ID:')\n",
    "enc.transform(['A', 'BB', 'C', 'D'])"
   ]
  },
  {
   "cell_type": "code",
   "execution_count": 16,
   "metadata": {},
   "outputs": [
    {
     "data": {
      "text/plain": [
       "array([-1.34164079, -0.4472136 ,  0.4472136 ,  1.34164079])"
      ]
     },
     "execution_count": 16,
     "metadata": {},
     "output_type": "execute_result"
    }
   ],
   "source": [
    "ex2 = enc.fit_transform(ex)\n",
    "ex2"
   ]
  },
  {
   "cell_type": "markdown",
   "metadata": {},
   "source": [
    "Now, let's use this class to encode the arbitration ID's:"
   ]
  },
  {
   "cell_type": "code",
   "execution_count": 17,
   "metadata": {},
   "outputs": [],
   "source": [
    "enc = ArbitrationEncoder()\n",
    "id = enc.fit_transform(id)"
   ]
  },
  {
   "cell_type": "code",
   "execution_count": 18,
   "metadata": {
    "colab": {
     "base_uri": "https://localhost:8080/"
    },
    "id": "XjzFmZ7iGrhr",
    "outputId": "90e60d1f-f05a-46d6-d67f-246a1d5da89d"
   },
   "outputs": [],
   "source": [
    "# enc = OrdinalEncoder(handle_unknown='use_encoded_value', unknown_value=-106)\n",
    "# id = id.array.reshape(-1, 1) # prep the CAN data\n",
    "# id = enc.fit_transform(id) # transform the categorical data"
   ]
  },
  {
   "cell_type": "code",
   "execution_count": 19,
   "metadata": {},
   "outputs": [],
   "source": [
    "# joblib.dump(enc, '../bin/id_scl.bin', compress=True) # save ordinal encoder"
   ]
  },
  {
   "cell_type": "markdown",
   "metadata": {
    "id": "C6Y9pLOoJ7h4"
   },
   "source": [
    "##### CAN Message\n",
    "the second column of the `id_and_message` column is the message transmitted."
   ]
  },
  {
   "cell_type": "code",
   "execution_count": 20,
   "metadata": {
    "colab": {
     "base_uri": "https://localhost:8080/",
     "height": 206
    },
    "id": "kg7vIBYuG6aA",
    "outputId": "88f76373-2f73-4741-c5e0-dba3d4fee23e"
   },
   "outputs": [
    {
     "data": {
      "text/html": [
       "<div>\n",
       "<style scoped>\n",
       "    .dataframe tbody tr th:only-of-type {\n",
       "        vertical-align: middle;\n",
       "    }\n",
       "\n",
       "    .dataframe tbody tr th {\n",
       "        vertical-align: top;\n",
       "    }\n",
       "\n",
       "    .dataframe thead th {\n",
       "        text-align: right;\n",
       "    }\n",
       "</style>\n",
       "<table border=\"1\" class=\"dataframe\">\n",
       "  <thead>\n",
       "    <tr style=\"text-align: right;\">\n",
       "      <th></th>\n",
       "      <th>0</th>\n",
       "      <th>1</th>\n",
       "      <th>2</th>\n",
       "      <th>3</th>\n",
       "      <th>4</th>\n",
       "      <th>5</th>\n",
       "      <th>6</th>\n",
       "      <th>7</th>\n",
       "    </tr>\n",
       "  </thead>\n",
       "  <tbody>\n",
       "    <tr>\n",
       "      <th>0</th>\n",
       "      <td>00</td>\n",
       "      <td>00</td>\n",
       "      <td>00</td>\n",
       "      <td>00</td>\n",
       "      <td>00</td>\n",
       "      <td>00</td>\n",
       "      <td>00</td>\n",
       "      <td>00</td>\n",
       "    </tr>\n",
       "    <tr>\n",
       "      <th>1</th>\n",
       "      <td>00</td>\n",
       "      <td>00</td>\n",
       "      <td>00</td>\n",
       "      <td>00</td>\n",
       "      <td>00</td>\n",
       "      <td>00</td>\n",
       "      <td>00</td>\n",
       "      <td>00</td>\n",
       "    </tr>\n",
       "    <tr>\n",
       "      <th>2</th>\n",
       "      <td>88</td>\n",
       "      <td>00</td>\n",
       "      <td>01</td>\n",
       "      <td>01</td>\n",
       "      <td>78</td>\n",
       "      <td>00</td>\n",
       "      <td>00</td>\n",
       "      <td>10</td>\n",
       "    </tr>\n",
       "    <tr>\n",
       "      <th>3</th>\n",
       "      <td>04</td>\n",
       "      <td>A7</td>\n",
       "      <td>F4</td>\n",
       "      <td>84</td>\n",
       "      <td>00</td>\n",
       "      <td>06</td>\n",
       "      <td>06</td>\n",
       "      <td>A0</td>\n",
       "    </tr>\n",
       "    <tr>\n",
       "      <th>4</th>\n",
       "      <td>80</td>\n",
       "      <td>00</td>\n",
       "      <td>04</td>\n",
       "      <td>27</td>\n",
       "      <td>58</td>\n",
       "      <td>01</td>\n",
       "      <td>00</td>\n",
       "      <td>00</td>\n",
       "    </tr>\n",
       "  </tbody>\n",
       "</table>\n",
       "</div>"
      ],
      "text/plain": [
       "    0   1   2   3   4   5   6   7\n",
       "0  00  00  00  00  00  00  00  00\n",
       "1  00  00  00  00  00  00  00  00\n",
       "2  88  00  01  01  78  00  00  10\n",
       "3  04  A7  F4  84  00  06  06  A0\n",
       "4  80  00  04  27  58  01  00  00"
      ]
     },
     "execution_count": 20,
     "metadata": {},
     "output_type": "execute_result"
    }
   ],
   "source": [
    "message = id_and_message[1].apply(lambda x: ' '.join(x[i:i+2] for i in range(0, len(x), 2))) # space out\n",
    "message = message.str.split(' ', expand=True)\n",
    "message.head()"
   ]
  },
  {
   "cell_type": "markdown",
   "metadata": {
    "id": "QtA9cpm0NnrA"
   },
   "source": [
    "`message` is currently in hexadecimal form with several `None` values where the message length was less than 8 (this was discussed earlier). Next, the missing data will be replaced with a dummy hex value of '00' and the values will be converted to float."
   ]
  },
  {
   "cell_type": "code",
   "execution_count": 21,
   "metadata": {},
   "outputs": [
    {
     "data": {
      "text/plain": [
       "0    0\n",
       "1    0\n",
       "2    0\n",
       "3    0\n",
       "4    0\n",
       "5    0\n",
       "6    0\n",
       "7    0\n",
       "dtype: int64"
      ]
     },
     "execution_count": 21,
     "metadata": {},
     "output_type": "execute_result"
    }
   ],
   "source": [
    "message.isnull().sum()"
   ]
  },
  {
   "cell_type": "code",
   "execution_count": 22,
   "metadata": {
    "colab": {
     "base_uri": "https://localhost:8080/",
     "height": 161
    },
    "id": "X-qNVql-Nl8e",
    "outputId": "fd8fc32a-845e-410c-d6aa-01b59cde8f13"
   },
   "outputs": [
    {
     "name": "stdout",
     "output_type": "stream",
     "text": [
      "(1424208, 8)\n"
     ]
    },
    {
     "data": {
      "text/html": [
       "<div>\n",
       "<style scoped>\n",
       "    .dataframe tbody tr th:only-of-type {\n",
       "        vertical-align: middle;\n",
       "    }\n",
       "\n",
       "    .dataframe tbody tr th {\n",
       "        vertical-align: top;\n",
       "    }\n",
       "\n",
       "    .dataframe thead th {\n",
       "        text-align: right;\n",
       "    }\n",
       "</style>\n",
       "<table border=\"1\" class=\"dataframe\">\n",
       "  <thead>\n",
       "    <tr style=\"text-align: right;\">\n",
       "      <th></th>\n",
       "      <th>0</th>\n",
       "      <th>1</th>\n",
       "      <th>2</th>\n",
       "      <th>3</th>\n",
       "      <th>4</th>\n",
       "      <th>5</th>\n",
       "      <th>6</th>\n",
       "      <th>7</th>\n",
       "    </tr>\n",
       "  </thead>\n",
       "  <tbody>\n",
       "    <tr>\n",
       "      <th>0</th>\n",
       "      <td>0.0</td>\n",
       "      <td>0.0</td>\n",
       "      <td>0.0</td>\n",
       "      <td>0.0</td>\n",
       "      <td>0.0</td>\n",
       "      <td>0.0</td>\n",
       "      <td>0.0</td>\n",
       "      <td>0.0</td>\n",
       "    </tr>\n",
       "    <tr>\n",
       "      <th>1</th>\n",
       "      <td>0.0</td>\n",
       "      <td>0.0</td>\n",
       "      <td>0.0</td>\n",
       "      <td>0.0</td>\n",
       "      <td>0.0</td>\n",
       "      <td>0.0</td>\n",
       "      <td>0.0</td>\n",
       "      <td>0.0</td>\n",
       "    </tr>\n",
       "    <tr>\n",
       "      <th>2</th>\n",
       "      <td>136.0</td>\n",
       "      <td>0.0</td>\n",
       "      <td>1.0</td>\n",
       "      <td>1.0</td>\n",
       "      <td>120.0</td>\n",
       "      <td>0.0</td>\n",
       "      <td>0.0</td>\n",
       "      <td>16.0</td>\n",
       "    </tr>\n",
       "  </tbody>\n",
       "</table>\n",
       "</div>"
      ],
      "text/plain": [
       "       0    1    2    3      4    5    6     7\n",
       "0    0.0  0.0  0.0  0.0    0.0  0.0  0.0   0.0\n",
       "1    0.0  0.0  0.0  0.0    0.0  0.0  0.0   0.0\n",
       "2  136.0  0.0  1.0  1.0  120.0  0.0  0.0  16.0"
      ]
     },
     "execution_count": 22,
     "metadata": {},
     "output_type": "execute_result"
    }
   ],
   "source": [
    "message.fillna('00', inplace=True) # fill missing values with 00, though that has been handled in this dataset\n",
    "message = message.apply(lambda x : x.astype(str).map(lambda x : float(int(x, base=16)))) # convert hex values to float\n",
    "print(message.shape)\n",
    "message.head(3)"
   ]
  },
  {
   "cell_type": "markdown",
   "metadata": {
    "id": "_m6A85LrCG2H"
   },
   "source": [
    "Let's create a new feature called `interval` that contains the time between two messages. Perhaps it will serve as a helper feature and improve training. Since it will contain float values (the timestamps are still in epochs, which will be converted into floats), it will be scaled too using the `StandardScaler`"
   ]
  },
  {
   "cell_type": "code",
   "execution_count": 23,
   "metadata": {
    "id": "Un3OswenAuTr"
   },
   "outputs": [],
   "source": [
    "timestamp_flt = timestamp.apply(lambda x: x.strip('()')) # strip parentheses on timestamp\n",
    "timesteps = timestamp_flt.astype('float').values\n",
    "# shift the timesteps by one element and pad it at the end with the last value\n",
    "shifted_timesteps = np.append(timesteps[1:], timesteps[-1])\n",
    "interval = shifted_timesteps - timesteps"
   ]
  },
  {
   "cell_type": "code",
   "execution_count": 24,
   "metadata": {
    "colab": {
     "base_uri": "https://localhost:8080/"
    },
    "id": "ZhNfQoLxBzlk",
    "outputId": "97ced600-c8b7-486c-ddfe-3ad606358ae2"
   },
   "outputs": [
    {
     "data": {
      "text/plain": [
       "array([1.01709366e-03, 9.53674316e-07, 9.53674316e-07, ...,\n",
       "       1.02901459e-03, 3.07083130e-03, 0.00000000e+00])"
      ]
     },
     "execution_count": 24,
     "metadata": {},
     "output_type": "execute_result"
    }
   ],
   "source": [
    "interval"
   ]
  },
  {
   "cell_type": "markdown",
   "metadata": {
    "id": "-ypzKbFFGxcc"
   },
   "source": [
    "It is proper that we scale numeric data in the dataset to assist training. Scaling data stabilizes model training and causes the model to interpret the different features on the same scale, so no feature is given undue/incorrect coefficients off the jump."
   ]
  },
  {
   "cell_type": "code",
   "execution_count": 25,
   "metadata": {
    "colab": {
     "base_uri": "https://localhost:8080/"
    },
    "id": "JlQJ1LQ2G68Q",
    "outputId": "57c86d91-175c-428c-d1fe-a2dafd0b47e7"
   },
   "outputs": [
    {
     "data": {
      "text/plain": [
       "array([[-0.68802256, -0.75911542, -0.73223633, -0.71579007, -0.74874214,\n",
       "        -0.71050963, -0.82555032, -0.92925816,  0.66402706],\n",
       "       [-0.68802256, -0.75911542, -0.73223633, -0.71579007, -0.74874214,\n",
       "        -0.71050963, -0.82555032, -0.92925816, -0.55135791],\n",
       "       [ 1.42715829, -0.75911542, -0.72044567, -0.70300528,  0.77049696,\n",
       "        -0.71050963, -0.82555032, -0.72528706, -0.55135791],\n",
       "       [-0.62581136,  1.448487  ,  2.14468385,  0.9718028 , -0.74874214,\n",
       "        -0.62685191, -0.75482356,  1.11045283, 10.31381871],\n",
       "       [ 1.30273589, -0.75911542, -0.6850737 , -0.21718308,  0.36536653,\n",
       "        -0.69656667, -0.82555032, -0.92925816, 11.39517483]])"
      ]
     },
     "execution_count": 25,
     "metadata": {},
     "output_type": "execute_result"
    }
   ],
   "source": [
    "ss = StandardScaler()\n",
    "scaled_num_cols = ss.fit_transform(pd.concat([message, pd.DataFrame(interval)], axis=1))\n",
    "scaled_num_cols[:5]"
   ]
  },
  {
   "cell_type": "code",
   "execution_count": 26,
   "metadata": {
    "colab": {
     "base_uri": "https://localhost:8080/"
    },
    "id": "1ajAym6DfMMJ",
    "outputId": "d111d1c6-1c0a-405b-d0f6-8c5bfc28ade2"
   },
   "outputs": [],
   "source": [
    "# joblib.dump(ss, '../bin/msg_scl.bin', compress=True) # save the standard scaler"
   ]
  },
  {
   "cell_type": "markdown",
   "metadata": {
    "id": "vxJgDsog4yXZ"
   },
   "source": [
    "Now that we have been able to process the `can_id` and `data` features, let's join them together in the original dataset and remove the former features."
   ]
  },
  {
   "cell_type": "code",
   "execution_count": 27,
   "metadata": {
    "colab": {
     "base_uri": "https://localhost:8080/",
     "height": 224
    },
    "id": "--62-lVa6ujd",
    "outputId": "6a5f0342-0f80-47fa-a7e8-38d4559c6d12"
   },
   "outputs": [
    {
     "name": "stdout",
     "output_type": "stream",
     "text": [
      "(1424208, 11)\n"
     ]
    },
    {
     "data": {
      "text/html": [
       "<div>\n",
       "<style scoped>\n",
       "    .dataframe tbody tr th:only-of-type {\n",
       "        vertical-align: middle;\n",
       "    }\n",
       "\n",
       "    .dataframe tbody tr th {\n",
       "        vertical-align: top;\n",
       "    }\n",
       "\n",
       "    .dataframe thead th {\n",
       "        text-align: right;\n",
       "    }\n",
       "</style>\n",
       "<table border=\"1\" class=\"dataframe\">\n",
       "  <thead>\n",
       "    <tr style=\"text-align: right;\">\n",
       "      <th></th>\n",
       "      <th>timestamp</th>\n",
       "      <th>0</th>\n",
       "      <th>1</th>\n",
       "      <th>2</th>\n",
       "      <th>3</th>\n",
       "      <th>4</th>\n",
       "      <th>5</th>\n",
       "      <th>6</th>\n",
       "      <th>7</th>\n",
       "      <th>8</th>\n",
       "      <th>0</th>\n",
       "    </tr>\n",
       "  </thead>\n",
       "  <tbody>\n",
       "    <tr>\n",
       "      <th>0</th>\n",
       "      <td>2004-07-16 17:46:40</td>\n",
       "      <td>-0.688023</td>\n",
       "      <td>-0.759115</td>\n",
       "      <td>-0.732236</td>\n",
       "      <td>-0.715790</td>\n",
       "      <td>-0.748742</td>\n",
       "      <td>-0.710510</td>\n",
       "      <td>-0.825550</td>\n",
       "      <td>-0.929258</td>\n",
       "      <td>0.664027</td>\n",
       "      <td>-0.721516</td>\n",
       "    </tr>\n",
       "    <tr>\n",
       "      <th>1</th>\n",
       "      <td>2004-07-16 17:46:40</td>\n",
       "      <td>-0.688023</td>\n",
       "      <td>-0.759115</td>\n",
       "      <td>-0.732236</td>\n",
       "      <td>-0.715790</td>\n",
       "      <td>-0.748742</td>\n",
       "      <td>-0.710510</td>\n",
       "      <td>-0.825550</td>\n",
       "      <td>-0.929258</td>\n",
       "      <td>-0.551358</td>\n",
       "      <td>3.240762</td>\n",
       "    </tr>\n",
       "    <tr>\n",
       "      <th>2</th>\n",
       "      <td>2004-07-16 17:46:40</td>\n",
       "      <td>1.427158</td>\n",
       "      <td>-0.759115</td>\n",
       "      <td>-0.720446</td>\n",
       "      <td>-0.703005</td>\n",
       "      <td>0.770497</td>\n",
       "      <td>-0.710510</td>\n",
       "      <td>-0.825550</td>\n",
       "      <td>-0.725287</td>\n",
       "      <td>-0.551358</td>\n",
       "      <td>0.682652</td>\n",
       "    </tr>\n",
       "    <tr>\n",
       "      <th>3</th>\n",
       "      <td>2004-07-16 17:46:40</td>\n",
       "      <td>-0.625811</td>\n",
       "      <td>1.448487</td>\n",
       "      <td>2.144684</td>\n",
       "      <td>0.971803</td>\n",
       "      <td>-0.748742</td>\n",
       "      <td>-0.626852</td>\n",
       "      <td>-0.754824</td>\n",
       "      <td>1.110453</td>\n",
       "      <td>10.313819</td>\n",
       "      <td>-0.801134</td>\n",
       "    </tr>\n",
       "    <tr>\n",
       "      <th>4</th>\n",
       "      <td>2004-07-16 17:46:40</td>\n",
       "      <td>1.302736</td>\n",
       "      <td>-0.759115</td>\n",
       "      <td>-0.685074</td>\n",
       "      <td>-0.217183</td>\n",
       "      <td>0.365367</td>\n",
       "      <td>-0.696567</td>\n",
       "      <td>-0.825550</td>\n",
       "      <td>-0.929258</td>\n",
       "      <td>11.395175</td>\n",
       "      <td>-0.152817</td>\n",
       "    </tr>\n",
       "  </tbody>\n",
       "</table>\n",
       "</div>"
      ],
      "text/plain": [
       "            timestamp         0         1         2         3         4         5         6         7          8         0\n",
       "0 2004-07-16 17:46:40 -0.688023 -0.759115 -0.732236 -0.715790 -0.748742 -0.710510 -0.825550 -0.929258   0.664027 -0.721516\n",
       "1 2004-07-16 17:46:40 -0.688023 -0.759115 -0.732236 -0.715790 -0.748742 -0.710510 -0.825550 -0.929258  -0.551358  3.240762\n",
       "2 2004-07-16 17:46:40  1.427158 -0.759115 -0.720446 -0.703005  0.770497 -0.710510 -0.825550 -0.725287  -0.551358  0.682652\n",
       "3 2004-07-16 17:46:40 -0.625811  1.448487  2.144684  0.971803 -0.748742 -0.626852 -0.754824  1.110453  10.313819 -0.801134\n",
       "4 2004-07-16 17:46:40  1.302736 -0.759115 -0.685074 -0.217183  0.365367 -0.696567 -0.825550 -0.929258  11.395175 -0.152817"
      ]
     },
     "execution_count": 27,
     "metadata": {},
     "output_type": "execute_result"
    }
   ],
   "source": [
    "train = pd.concat([train['timestamp'], pd.DataFrame(scaled_num_cols), pd.DataFrame(id)], axis=1)\n",
    "print(train.shape)\n",
    "train.head()"
   ]
  },
  {
   "cell_type": "markdown",
   "metadata": {
    "id": "EbheIRTWKoWj"
   },
   "source": [
    "Having understood the data and how it will be presented for training, let's go ahead to create anomaly detection models using different approaches. That notebook can be found here"
   ]
  }
 ],
 "metadata": {
  "colab": {
   "authorship_tag": "ABX9TyMQyyeVMZnXHT0xOlzdzQrQ",
   "include_colab_link": true,
   "mount_file_id": "1noNH-Vkuj3np4Km_Wg-jcWzvXmygUE0e",
   "provenance": []
  },
  "kernelspec": {
   "display_name": "Python 3 (ipykernel)",
   "language": "python",
   "name": "python3"
  },
  "language_info": {
   "codemirror_mode": {
    "name": "ipython",
    "version": 3
   },
   "file_extension": ".py",
   "mimetype": "text/x-python",
   "name": "python",
   "nbconvert_exporter": "python",
   "pygments_lexer": "ipython3",
   "version": "3.11.2"
  }
 },
 "nbformat": 4,
 "nbformat_minor": 4
}
